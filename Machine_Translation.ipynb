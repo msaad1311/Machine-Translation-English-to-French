{
  "nbformat": 4,
  "nbformat_minor": 0,
  "metadata": {
    "colab": {
      "name": "Machine Translation.ipynb",
      "provenance": [],
      "collapsed_sections": [],
      "authorship_tag": "ABX9TyPVJTHuiUvgwzpLV05HX8sU",
      "include_colab_link": true
    },
    "kernelspec": {
      "name": "python3",
      "display_name": "Python 3"
    }
  },
  "cells": [
    {
      "cell_type": "markdown",
      "metadata": {
        "id": "view-in-github",
        "colab_type": "text"
      },
      "source": [
        "<a href=\"https://colab.research.google.com/github/msaad1311/Machine-Translation-English-to-French/blob/master/Machine_Translation.ipynb\" target=\"_parent\"><img src=\"https://colab.research.google.com/assets/colab-badge.svg\" alt=\"Open In Colab\"/></a>"
      ]
    },
    {
      "cell_type": "code",
      "metadata": {
        "id": "xpgtUA-C2WjK",
        "colab_type": "code",
        "colab": {}
      },
      "source": [
        "import collections\n",
        "import numpy as np\n",
        "from keras.preprocessing.text import Tokenizer\n",
        "from keras.preprocessing.sequence import pad_sequences\n",
        "from keras.models import Model\n",
        "from keras.layers import LSTM, GRU, Input, Dense, TimeDistributed, Activation, RepeatVector, Bidirectional,Flatten\n",
        "from keras.layers.embeddings import Embedding\n",
        "from keras.models import Sequential\n",
        "from keras.optimizers import Adam\n",
        "from keras.losses import sparse_categorical_crossentropy\n",
        "import matplotlib.pyplot as plt\n",
        "import tensorflow as tf"
      ],
      "execution_count": 0,
      "outputs": []
    },
    {
      "cell_type": "code",
      "metadata": {
        "id": "8cN3NEXI23JV",
        "colab_type": "code",
        "colab": {}
      },
      "source": [
        "with open('/content/small_vocab_en', \"r\") as f:\n",
        "        data = f.read()\n",
        "\n",
        "english_sentences = data.split('\\n')\n",
        "\n",
        "with open('/content/small_vocab_fr', \"r\") as f:\n",
        "        data = f.read()\n",
        "\n",
        "french_sentences = data.split('\\n')"
      ],
      "execution_count": 0,
      "outputs": []
    },
    {
      "cell_type": "code",
      "metadata": {
        "id": "SYVciRhZKWPd",
        "colab_type": "code",
        "outputId": "8aa518fb-700d-429d-f820-c8d3f979f03c",
        "colab": {
          "base_uri": "https://localhost:8080/",
          "height": 34
        }
      },
      "source": [
        "len(english_sentences),len(french_sentences)"
      ],
      "execution_count": 114,
      "outputs": [
        {
          "output_type": "execute_result",
          "data": {
            "text/plain": [
              "(137861, 137861)"
            ]
          },
          "metadata": {
            "tags": []
          },
          "execution_count": 114
        }
      ]
    },
    {
      "cell_type": "code",
      "metadata": {
        "id": "hEuAjW8a3YBb",
        "colab_type": "code",
        "outputId": "0f59956e-8715-4b2f-b8af-0c6c9a72343e",
        "colab": {
          "base_uri": "https://localhost:8080/",
          "height": 85
        }
      },
      "source": [
        "for sample_i in range(2):\n",
        "    print('small_vocab_en Line {}:  {}'.format(sample_i + 1, english_sentences[sample_i]))\n",
        "    print('small_vocab_fr Line {}:  {}'.format(sample_i + 1, french_sentences[sample_i]))"
      ],
      "execution_count": 115,
      "outputs": [
        {
          "output_type": "stream",
          "text": [
            "small_vocab_en Line 1:  new jersey is sometimes quiet during autumn , and it is snowy in april .\n",
            "small_vocab_fr Line 1:  new jersey est parfois calme pendant l' automne , et il est neigeux en avril .\n",
            "small_vocab_en Line 2:  the united states is usually chilly during july , and it is usually freezing in november .\n",
            "small_vocab_fr Line 2:  les états-unis est généralement froid en juillet , et il gèle habituellement en novembre .\n"
          ],
          "name": "stdout"
        }
      ]
    },
    {
      "cell_type": "code",
      "metadata": {
        "id": "7gNgTvtYLr5O",
        "colab_type": "code",
        "outputId": "fb9a348e-a3b5-489b-e46d-124a7d021b37",
        "colab": {
          "base_uri": "https://localhost:8080/",
          "height": 34
        }
      },
      "source": [
        "english_sentences=english_sentences[0:10000]\n",
        "french_sentences=french_sentences[0:10000]\n",
        "len(english_sentences),len(french_sentences)"
      ],
      "execution_count": 116,
      "outputs": [
        {
          "output_type": "execute_result",
          "data": {
            "text/plain": [
              "(10000, 10000)"
            ]
          },
          "metadata": {
            "tags": []
          },
          "execution_count": 116
        }
      ]
    },
    {
      "cell_type": "code",
      "metadata": {
        "id": "VAV4asjgKoiq",
        "colab_type": "code",
        "colab": {}
      },
      "source": [
        "token_en = Tokenizer()\n",
        "eng = token_en.fit_on_texts(english_sentences)\n",
        "eng = token_en.texts_to_sequences(english_sentences)"
      ],
      "execution_count": 0,
      "outputs": []
    },
    {
      "cell_type": "code",
      "metadata": {
        "id": "TkcLyt0iL0dB",
        "colab_type": "code",
        "outputId": "5402ab54-55b1-49a9-86f9-ebc1fc35fcab",
        "colab": {
          "base_uri": "https://localhost:8080/",
          "height": 34
        }
      },
      "source": [
        "maxi_en= len(max(eng,key=len))\n",
        "print(maxi_en)"
      ],
      "execution_count": 118,
      "outputs": [
        {
          "output_type": "stream",
          "text": [
            "15\n"
          ],
          "name": "stdout"
        }
      ]
    },
    {
      "cell_type": "code",
      "metadata": {
        "id": "1NyQo038MErE",
        "colab_type": "code",
        "outputId": "d74bc514-dfb6-4b46-dcfd-2cdc5ae6cec1",
        "colab": {
          "base_uri": "https://localhost:8080/",
          "height": 187
        }
      },
      "source": [
        "en_pad = pad_sequences(eng,maxlen=maxi_fr,truncating='post',padding='post')\n",
        "print(en_pad[0:10])"
      ],
      "execution_count": 121,
      "outputs": [
        {
          "output_type": "stream",
          "text": [
            "[[17 19  1  9 31  4 45  7  3  1 50  2 53  0  0  0  0  0  0  0]\n",
            " [ 5 22 23  1  8 54  4 40  7  3  1  8 68  2 48  0  0  0  0  0]\n",
            " [20  1  8 31  4 58  7  3  1  8 52  2 33  0  0  0  0  0  0  0]\n",
            " [ 5 22 23  1  9 59  4 33  7  3  1 60  2 32  0  0  0  0  0  0]\n",
            " [42 12 16 13  1  5 84  6 36 12 16  1  5 86  0  0  0  0  0  0]\n",
            " [41 11 13  1  5 83  6 36 11  1  5 84  0  0  0  0  0  0  0  0]\n",
            " [18  1 63  4 35  6  3  1  8 54  2 40  0  0  0  0  0  0  0  0]\n",
            " [17 19  1 38  4 34  7  3  1 10 52  2 58  0  0  0  0  0  0  0]\n",
            " [49 12 16 13  1  5 87  6 36 12 16  1  5 84  0  0  0  0  0  0]\n",
            " [ 5 22 23  1  9 38  4 51  7  3  1  9 66  2 48  0  0  0  0  0]]\n"
          ],
          "name": "stdout"
        }
      ]
    },
    {
      "cell_type": "code",
      "metadata": {
        "id": "CK3ydArbM4w_",
        "colab_type": "code",
        "outputId": "4c144b17-c6f9-4040-f055-045ad2e28c39",
        "colab": {
          "base_uri": "https://localhost:8080/",
          "height": 34
        }
      },
      "source": [
        "token_fr = Tokenizer()\n",
        "fr = token_fr.fit_on_texts(french_sentences)\n",
        "fr = token_fr.texts_to_sequences(french_sentences)\n",
        "print(len(fr))"
      ],
      "execution_count": 119,
      "outputs": [
        {
          "output_type": "stream",
          "text": [
            "10000\n"
          ],
          "name": "stdout"
        }
      ]
    },
    {
      "cell_type": "code",
      "metadata": {
        "id": "WjdCvaGpNjP4",
        "colab_type": "code",
        "outputId": "c2547ab4-8383-408d-8be8-6f6c381585e3",
        "colab": {
          "base_uri": "https://localhost:8080/",
          "height": 34
        }
      },
      "source": [
        "maxi_fr = len(max(fr,key=len))\n",
        "print(maxi_fr)"
      ],
      "execution_count": 122,
      "outputs": [
        {
          "output_type": "stream",
          "text": [
            "20\n"
          ],
          "name": "stdout"
        }
      ]
    },
    {
      "cell_type": "code",
      "metadata": {
        "id": "H4vNi5IYNn2B",
        "colab_type": "code",
        "outputId": "bb5f6e8e-7fb3-4762-e974-1cb9088fac9c",
        "colab": {
          "base_uri": "https://localhost:8080/",
          "height": 357
        }
      },
      "source": [
        "fr_pad = pad_sequences(fr,maxlen=maxi_fr,truncating='post',padding='post')\n",
        "print(fr_pad[0:10])"
      ],
      "execution_count": 123,
      "outputs": [
        {
          "output_type": "stream",
          "text": [
            "[[ 30  29   1   8  66  36  11  25   6   3   1 113   2  52   0   0   0   0\n",
            "    0   0]\n",
            " [  4  33  34   1  12  19   2  46   6   3  96  70   2  48   0   0   0   0\n",
            "    0   0]\n",
            " [100   1  12  66   2  54   6   3   1  12  20   2  41   0   0   0   0   0\n",
            "    0   0]\n",
            " [  4  33  34   1   8 236   2  41   6   3 102  19   2  40   0   0   0   0\n",
            "    0   0]\n",
            " [ 53  14  15  16   1  10  83   5  49  14  15   1   7  85   0   0   0   0\n",
            "    0   0]\n",
            " [ 21  16  17   1  82   5  49  17   1  10  83   0   0   0   0   0   0   0\n",
            "    0   0]\n",
            " [ 27   1  58   2  43   5   3   1  12  19   2  46   0   0   0   0   0   0\n",
            "    0   0]\n",
            " [ 30  29   1  61  13  42   6   3   1   9 137   2  54   0   0   0   0   0\n",
            "    0   0]\n",
            " [ 59  16   1  14  15  10  86   5  49  14  15   1  10  83   0   0   0   0\n",
            "    0   0]\n",
            " [  4  33  34   1   8  61   2  51   6   3   1   8  20   2  48   0   0   0\n",
            "    0   0]]\n"
          ],
          "name": "stdout"
        }
      ]
    },
    {
      "cell_type": "code",
      "metadata": {
        "id": "irf0r66YN0BJ",
        "colab_type": "code",
        "outputId": "796db308-71e4-4526-8b4d-62867e06f0d9",
        "colab": {
          "base_uri": "https://localhost:8080/",
          "height": 51
        }
      },
      "source": [
        "vocab_en = len(token_en.word_index)\n",
        "print(vocab_en)\n",
        "\n",
        "vocab_fr = len(token_fr.word_index)\n",
        "print(vocab_fr)"
      ],
      "execution_count": 124,
      "outputs": [
        {
          "output_type": "stream",
          "text": [
            "198\n",
            "318\n"
          ],
          "name": "stdout"
        }
      ]
    },
    {
      "cell_type": "code",
      "metadata": {
        "id": "1EFaYx6fQxWA",
        "colab_type": "code",
        "colab": {}
      },
      "source": [
        "en_pad=np.array(en_pad)"
      ],
      "execution_count": 0,
      "outputs": []
    },
    {
      "cell_type": "code",
      "metadata": {
        "id": "g2mlKYgYQ1vX",
        "colab_type": "code",
        "colab": {}
      },
      "source": [
        "en_pad=en_pad.reshape(en_pad.shape[0],en_pad.shape[1])"
      ],
      "execution_count": 0,
      "outputs": []
    },
    {
      "cell_type": "code",
      "metadata": {
        "id": "7TNc2kCsRO4Y",
        "colab_type": "code",
        "outputId": "24ccc08f-f66f-4f95-abaa-2d2b059a404d",
        "colab": {
          "base_uri": "https://localhost:8080/",
          "height": 34
        }
      },
      "source": [
        "en_pad.shape"
      ],
      "execution_count": 125,
      "outputs": [
        {
          "output_type": "execute_result",
          "data": {
            "text/plain": [
              "(10000, 20)"
            ]
          },
          "metadata": {
            "tags": []
          },
          "execution_count": 125
        }
      ]
    },
    {
      "cell_type": "code",
      "metadata": {
        "id": "tSpORgc-RQK2",
        "colab_type": "code",
        "outputId": "fc15e970-9bb9-4a66-8c59-62b82db090df",
        "colab": {
          "base_uri": "https://localhost:8080/",
          "height": 34
        }
      },
      "source": [
        "fr_pad=np.array(fr_pad)\n",
        "fr_pad=fr_pad.reshape(fr_pad.shape[0],fr_pad.shape[1],1)\n",
        "fr_pad.shape"
      ],
      "execution_count": 126,
      "outputs": [
        {
          "output_type": "execute_result",
          "data": {
            "text/plain": [
              "(10000, 20, 1)"
            ]
          },
          "metadata": {
            "tags": []
          },
          "execution_count": 126
        }
      ]
    },
    {
      "cell_type": "code",
      "metadata": {
        "id": "ETxi3MNGOb2L",
        "colab_type": "code",
        "colab": {}
      },
      "source": [
        "model1 = Sequential()\n",
        "model1.add(Embedding(vocab_en+2,300,input_length=maxi_fr))\n",
        "model1.add(GRU(64,activation='relu',return_sequences=True))\n",
        "model1.add(TimeDistributed(Dense(vocab_fr+2)))"
      ],
      "execution_count": 0,
      "outputs": []
    },
    {
      "cell_type": "code",
      "metadata": {
        "id": "TK6ww-BsPriN",
        "colab_type": "code",
        "colab": {}
      },
      "source": [
        "model1.compile(loss=sparse_categorical_crossentropy,optimizer='adam',metrics=['accuracy'])"
      ],
      "execution_count": 0,
      "outputs": []
    },
    {
      "cell_type": "code",
      "metadata": {
        "id": "FppB6etUP3E0",
        "colab_type": "code",
        "outputId": "909b30b6-d584-4a98-a65f-9b05f4c2f6d3",
        "colab": {
          "base_uri": "https://localhost:8080/",
          "height": 255
        }
      },
      "source": [
        "model1.summary()"
      ],
      "execution_count": 129,
      "outputs": [
        {
          "output_type": "stream",
          "text": [
            "Model: \"sequential_23\"\n",
            "_________________________________________________________________\n",
            "Layer (type)                 Output Shape              Param #   \n",
            "=================================================================\n",
            "embedding_22 (Embedding)     (None, 20, 300)           60000     \n",
            "_________________________________________________________________\n",
            "gru_17 (GRU)                 (None, 20, 64)            70080     \n",
            "_________________________________________________________________\n",
            "time_distributed_11 (TimeDis (None, 20, 320)           20800     \n",
            "=================================================================\n",
            "Total params: 150,880\n",
            "Trainable params: 150,880\n",
            "Non-trainable params: 0\n",
            "_________________________________________________________________\n"
          ],
          "name": "stdout"
        }
      ]
    },
    {
      "cell_type": "code",
      "metadata": {
        "id": "zDzB-w3gP51j",
        "colab_type": "code",
        "outputId": "53a90ea5-2c92-4fd2-ba13-bae1ade3ee3b",
        "colab": {
          "base_uri": "https://localhost:8080/",
          "height": 1000
        }
      },
      "source": [
        "history=model1.fit(x=en_pad,y=fr_pad,epochs=50,validation_split=0.1,batch_size=128)"
      ],
      "execution_count": 130,
      "outputs": [
        {
          "output_type": "stream",
          "text": [
            "/usr/local/lib/python3.6/dist-packages/tensorflow/python/framework/indexed_slices.py:434: UserWarning: Converting sparse IndexedSlices to a dense Tensor of unknown shape. This may consume a large amount of memory.\n",
            "  \"Converting sparse IndexedSlices to a dense Tensor of unknown shape. \"\n"
          ],
          "name": "stderr"
        },
        {
          "output_type": "stream",
          "text": [
            "Train on 9000 samples, validate on 1000 samples\n",
            "Epoch 1/50\n",
            "9000/9000 [==============================] - 7s 750us/step - loss: 3.5458 - accuracy: 0.4933 - val_loss: 2.4061 - val_accuracy: 0.5812\n",
            "Epoch 2/50\n",
            "9000/9000 [==============================] - 6s 705us/step - loss: 2.5817 - accuracy: 0.5578 - val_loss: 2.5036 - val_accuracy: 0.5418\n",
            "Epoch 3/50\n",
            "9000/9000 [==============================] - 6s 699us/step - loss: 2.5543 - accuracy: 0.5519 - val_loss: 2.4387 - val_accuracy: 0.5572\n",
            "Epoch 4/50\n",
            "9000/9000 [==============================] - 6s 708us/step - loss: 2.5586 - accuracy: 0.5477 - val_loss: 2.6100 - val_accuracy: 0.5249\n",
            "Epoch 5/50\n",
            "9000/9000 [==============================] - 6s 707us/step - loss: 2.5414 - accuracy: 0.5420 - val_loss: 2.4931 - val_accuracy: 0.5462\n",
            "Epoch 6/50\n",
            "9000/9000 [==============================] - 6s 709us/step - loss: 2.5467 - accuracy: 0.5412 - val_loss: 2.4631 - val_accuracy: 0.5444\n",
            "Epoch 7/50\n",
            "9000/9000 [==============================] - 6s 706us/step - loss: 2.4767 - accuracy: 0.5459 - val_loss: 2.4202 - val_accuracy: 0.5460\n",
            "Epoch 8/50\n",
            "9000/9000 [==============================] - 6s 701us/step - loss: 2.4507 - accuracy: 0.5454 - val_loss: 2.4265 - val_accuracy: 0.5434\n",
            "Epoch 9/50\n",
            "9000/9000 [==============================] - 6s 708us/step - loss: 2.5345 - accuracy: 0.5386 - val_loss: 2.5109 - val_accuracy: 0.5443\n",
            "Epoch 10/50\n",
            "9000/9000 [==============================] - 6s 701us/step - loss: 2.6142 - accuracy: 0.5325 - val_loss: 2.7545 - val_accuracy: 0.5140\n",
            "Epoch 11/50\n",
            "9000/9000 [==============================] - 6s 699us/step - loss: 2.6204 - accuracy: 0.5329 - val_loss: 2.4739 - val_accuracy: 0.5372\n",
            "Epoch 12/50\n",
            "9000/9000 [==============================] - 6s 703us/step - loss: 2.5060 - accuracy: 0.5339 - val_loss: 2.4851 - val_accuracy: 0.5275\n",
            "Epoch 13/50\n",
            "9000/9000 [==============================] - 6s 702us/step - loss: 2.5616 - accuracy: 0.5229 - val_loss: 2.5136 - val_accuracy: 0.5237\n",
            "Epoch 14/50\n",
            "9000/9000 [==============================] - 6s 707us/step - loss: 2.5576 - accuracy: 0.5177 - val_loss: 2.5136 - val_accuracy: 0.5174\n",
            "Epoch 15/50\n",
            "9000/9000 [==============================] - 6s 702us/step - loss: 2.6914 - accuracy: 0.5114 - val_loss: 2.7715 - val_accuracy: 0.5177\n",
            "Epoch 16/50\n",
            "9000/9000 [==============================] - 6s 701us/step - loss: 2.6008 - accuracy: 0.5273 - val_loss: 2.5336 - val_accuracy: 0.5246\n",
            "Epoch 17/50\n",
            "9000/9000 [==============================] - 6s 706us/step - loss: 2.5530 - accuracy: 0.5216 - val_loss: 2.4840 - val_accuracy: 0.5258\n",
            "Epoch 18/50\n",
            "9000/9000 [==============================] - 6s 701us/step - loss: 2.5316 - accuracy: 0.5229 - val_loss: 2.4982 - val_accuracy: 0.5267\n",
            "Epoch 19/50\n",
            "9000/9000 [==============================] - 6s 699us/step - loss: 2.6503 - accuracy: 0.5226 - val_loss: 2.8039 - val_accuracy: 0.5207\n",
            "Epoch 20/50\n",
            "9000/9000 [==============================] - 6s 705us/step - loss: 2.6457 - accuracy: 0.5221 - val_loss: 2.5624 - val_accuracy: 0.5300\n",
            "Epoch 21/50\n",
            "9000/9000 [==============================] - 6s 703us/step - loss: 2.5649 - accuracy: 0.5336 - val_loss: 2.5437 - val_accuracy: 0.5324\n",
            "Epoch 22/50\n",
            "9000/9000 [==============================] - 6s 705us/step - loss: 2.5497 - accuracy: 0.5331 - val_loss: 2.5190 - val_accuracy: 0.5343\n",
            "Epoch 23/50\n",
            "9000/9000 [==============================] - 6s 703us/step - loss: 2.5387 - accuracy: 0.5328 - val_loss: 2.4991 - val_accuracy: 0.5393\n",
            "Epoch 24/50\n",
            "9000/9000 [==============================] - 6s 699us/step - loss: 2.5363 - accuracy: 0.5323 - val_loss: 2.5005 - val_accuracy: 0.5300\n",
            "Epoch 25/50\n",
            "9000/9000 [==============================] - 6s 703us/step - loss: 2.5369 - accuracy: 0.5370 - val_loss: 2.5265 - val_accuracy: 0.5428\n",
            "Epoch 26/50\n",
            "9000/9000 [==============================] - 6s 699us/step - loss: 2.5469 - accuracy: 0.5446 - val_loss: 2.4858 - val_accuracy: 0.5398\n",
            "Epoch 27/50\n",
            "9000/9000 [==============================] - 6s 703us/step - loss: 2.5194 - accuracy: 0.5420 - val_loss: 2.5401 - val_accuracy: 0.5363\n",
            "Epoch 28/50\n",
            "9000/9000 [==============================] - 6s 705us/step - loss: 2.5223 - accuracy: 0.5446 - val_loss: 2.4444 - val_accuracy: 0.5427\n",
            "Epoch 29/50\n",
            "9000/9000 [==============================] - 6s 702us/step - loss: 2.4671 - accuracy: 0.5398 - val_loss: 2.4459 - val_accuracy: 0.5367\n",
            "Epoch 30/50\n",
            "9000/9000 [==============================] - 6s 704us/step - loss: 2.5216 - accuracy: 0.5354 - val_loss: 2.4852 - val_accuracy: 0.5429\n",
            "Epoch 31/50\n",
            "9000/9000 [==============================] - 6s 701us/step - loss: 2.5223 - accuracy: 0.5357 - val_loss: 2.4807 - val_accuracy: 0.5375\n",
            "Epoch 32/50\n",
            "9000/9000 [==============================] - 6s 672us/step - loss: 2.4958 - accuracy: 0.5388 - val_loss: 2.4410 - val_accuracy: 0.5453\n",
            "Epoch 33/50\n",
            "9000/9000 [==============================] - 6s 687us/step - loss: 2.4599 - accuracy: 0.5467 - val_loss: 2.4291 - val_accuracy: 0.5434\n",
            "Epoch 34/50\n",
            "9000/9000 [==============================] - 6s 688us/step - loss: 2.4850 - accuracy: 0.5436 - val_loss: 2.5152 - val_accuracy: 0.5366\n",
            "Epoch 35/50\n",
            "9000/9000 [==============================] - 6s 674us/step - loss: 2.4911 - accuracy: 0.5439 - val_loss: 2.4243 - val_accuracy: 0.5512\n",
            "Epoch 36/50\n",
            "9000/9000 [==============================] - 6s 673us/step - loss: 2.4493 - accuracy: 0.5540 - val_loss: 2.4546 - val_accuracy: 0.5526\n",
            "Epoch 37/50\n",
            "9000/9000 [==============================] - 6s 675us/step - loss: 2.5039 - accuracy: 0.5441 - val_loss: 2.4769 - val_accuracy: 0.5373\n",
            "Epoch 38/50\n",
            "9000/9000 [==============================] - 6s 677us/step - loss: 2.5362 - accuracy: 0.5349 - val_loss: 2.5289 - val_accuracy: 0.5410\n",
            "Epoch 39/50\n",
            "9000/9000 [==============================] - 6s 675us/step - loss: 2.5376 - accuracy: 0.5427 - val_loss: 2.5206 - val_accuracy: 0.5444\n",
            "Epoch 40/50\n",
            "9000/9000 [==============================] - 6s 674us/step - loss: 2.5791 - accuracy: 0.5415 - val_loss: 2.5444 - val_accuracy: 0.5385\n",
            "Epoch 41/50\n",
            "9000/9000 [==============================] - 6s 680us/step - loss: 2.6306 - accuracy: 0.5346 - val_loss: 2.6274 - val_accuracy: 0.5329\n",
            "Epoch 42/50\n",
            "9000/9000 [==============================] - 6s 674us/step - loss: 2.6636 - accuracy: 0.5319 - val_loss: 2.6712 - val_accuracy: 0.5260\n",
            "Epoch 43/50\n",
            "9000/9000 [==============================] - 6s 680us/step - loss: 2.6885 - accuracy: 0.5252 - val_loss: 2.7434 - val_accuracy: 0.5129\n",
            "Epoch 44/50\n",
            "9000/9000 [==============================] - 6s 675us/step - loss: 2.7443 - accuracy: 0.5152 - val_loss: 2.7123 - val_accuracy: 0.5178\n",
            "Epoch 45/50\n",
            "9000/9000 [==============================] - 6s 674us/step - loss: 2.7192 - accuracy: 0.5179 - val_loss: 2.6980 - val_accuracy: 0.5225\n",
            "Epoch 46/50\n",
            "9000/9000 [==============================] - 6s 678us/step - loss: 2.7506 - accuracy: 0.5184 - val_loss: 2.7295 - val_accuracy: 0.5275\n",
            "Epoch 47/50\n",
            "9000/9000 [==============================] - 6s 676us/step - loss: 2.6967 - accuracy: 0.5227 - val_loss: 2.7126 - val_accuracy: 0.5271\n",
            "Epoch 48/50\n",
            "9000/9000 [==============================] - 6s 672us/step - loss: 2.7329 - accuracy: 0.5172 - val_loss: 2.7303 - val_accuracy: 0.5078\n",
            "Epoch 49/50\n",
            "9000/9000 [==============================] - 6s 670us/step - loss: 2.7812 - accuracy: 0.5083 - val_loss: 2.7552 - val_accuracy: 0.5106\n",
            "Epoch 50/50\n",
            "9000/9000 [==============================] - 6s 671us/step - loss: 2.7657 - accuracy: 0.5102 - val_loss: 3.1336 - val_accuracy: 0.4961\n"
          ],
          "name": "stdout"
        }
      ]
    },
    {
      "cell_type": "code",
      "metadata": {
        "id": "dCZK_LjuS78a",
        "colab_type": "code",
        "outputId": "b11cc99d-3c95-4141-fd99-e70b68d470ab",
        "colab": {
          "base_uri": "https://localhost:8080/",
          "height": 269
        }
      },
      "source": [
        "plt.plot(history.history['loss'],color='r',label='Training Loss')\n",
        "plt.plot(history.history['val_loss'],color='b',label='Validation Loss')\n",
        "plt.legend()\n",
        "plt.show()"
      ],
      "execution_count": 131,
      "outputs": [
        {
          "output_type": "display_data",
          "data": {
            "image/png": "[encoded data removed]",
            "text/plain": [
              "<Figure size 432x288 with 1 Axes>"
            ]
          },
          "metadata": {
            "tags": [],
            "needs_background": "light"
          }
        }
      ]
    },
    {
      "cell_type": "code",
      "metadata": {
        "id": "RdiVyyV1TjEp",
        "colab_type": "code",
        "outputId": "6c157ab1-137b-4e2e-de39-02aab88442ac",
        "colab": {
          "base_uri": "https://localhost:8080/",
          "height": 289
        }
      },
      "source": [
        "model2 = Sequential()\n",
        "model2.add(Embedding(vocab_en+2,300,input_length=maxi_fr))\n",
        "model2.add(GRU(64,return_sequences=True))\n",
        "model2.add(LSTM(64,return_sequences=True))\n",
        "model2.add(TimeDistributed(Dense(vocab_fr+2)))\n",
        "\n",
        "model2.compile(loss=sparse_categorical_crossentropy,optimizer='adam',metrics=['accuracy'])\n",
        "\n",
        "model2.summary()"
      ],
      "execution_count": 132,
      "outputs": [
        {
          "output_type": "stream",
          "text": [
            "Model: \"sequential_24\"\n",
            "_________________________________________________________________\n",
            "Layer (type)                 Output Shape              Param #   \n",
            "=================================================================\n",
            "embedding_23 (Embedding)     (None, 20, 300)           60000     \n",
            "_________________________________________________________________\n",
            "gru_18 (GRU)                 (None, 20, 64)            70080     \n",
            "_________________________________________________________________\n",
            "lstm_14 (LSTM)               (None, 20, 64)            33024     \n",
            "_________________________________________________________________\n",
            "time_distributed_12 (TimeDis (None, 20, 320)           20800     \n",
            "=================================================================\n",
            "Total params: 183,904\n",
            "Trainable params: 183,904\n",
            "Non-trainable params: 0\n",
            "_________________________________________________________________\n"
          ],
          "name": "stdout"
        }
      ]
    },
    {
      "cell_type": "code",
      "metadata": {
        "id": "lrohF-9uTyEk",
        "colab_type": "code",
        "outputId": "1c9c37f4-8b63-4de6-cd7a-9632615a3228",
        "colab": {
          "base_uri": "https://localhost:8080/",
          "height": 1000
        }
      },
      "source": [
        "history1=model2.fit(x=en_pad,y=fr_pad,epochs=50,validation_split=0.1,batch_size=128)"
      ],
      "execution_count": 134,
      "outputs": [
        {
          "output_type": "stream",
          "text": [
            "Train on 9000 samples, validate on 1000 samples\n",
            "Epoch 1/50\n",
            "9000/9000 [==============================] - 9s 966us/step - loss: 3.2245 - accuracy: 0.4780 - val_loss: 3.0920 - val_accuracy: 0.4700\n",
            "Epoch 2/50\n",
            "9000/9000 [==============================] - 9s 953us/step - loss: 2.8542 - accuracy: 0.4888 - val_loss: 3.5708 - val_accuracy: 0.3541\n",
            "Epoch 3/50\n",
            "9000/9000 [==============================] - 9s 948us/step - loss: 2.9369 - accuracy: 0.4425 - val_loss: 2.6509 - val_accuracy: 0.4958\n",
            "Epoch 4/50\n",
            "9000/9000 [==============================] - 9s 949us/step - loss: 2.7162 - accuracy: 0.4825 - val_loss: 2.7409 - val_accuracy: 0.4757\n",
            "Epoch 5/50\n",
            "9000/9000 [==============================] - 9s 949us/step - loss: 2.5092 - accuracy: 0.5107 - val_loss: 2.4549 - val_accuracy: 0.5411\n",
            "Epoch 6/50\n",
            "9000/9000 [==============================] - 9s 951us/step - loss: 2.6331 - accuracy: 0.5030 - val_loss: 2.8562 - val_accuracy: 0.4340\n",
            "Epoch 7/50\n",
            "9000/9000 [==============================] - 9s 950us/step - loss: 2.7270 - accuracy: 0.4815 - val_loss: 2.7621 - val_accuracy: 0.5067\n",
            "Epoch 8/50\n",
            "9000/9000 [==============================] - 9s 955us/step - loss: 2.6519 - accuracy: 0.5089 - val_loss: 2.8171 - val_accuracy: 0.5119\n",
            "Epoch 9/50\n",
            "9000/9000 [==============================] - 9s 949us/step - loss: 2.9327 - accuracy: 0.4991 - val_loss: 3.0773 - val_accuracy: 0.4998\n",
            "Epoch 10/50\n",
            "9000/9000 [==============================] - 9s 954us/step - loss: 2.7969 - accuracy: 0.5229 - val_loss: 2.5090 - val_accuracy: 0.5433\n",
            "Epoch 11/50\n",
            "9000/9000 [==============================] - 9s 951us/step - loss: 2.4695 - accuracy: 0.5443 - val_loss: 2.4311 - val_accuracy: 0.5522\n",
            "Epoch 12/50\n",
            "9000/9000 [==============================] - 9s 952us/step - loss: 2.4636 - accuracy: 0.5450 - val_loss: 2.4062 - val_accuracy: 0.5452\n",
            "Epoch 13/50\n",
            "9000/9000 [==============================] - 9s 948us/step - loss: 2.4381 - accuracy: 0.5530 - val_loss: 2.4133 - val_accuracy: 0.5487\n",
            "Epoch 14/50\n",
            "9000/9000 [==============================] - 9s 951us/step - loss: 2.5962 - accuracy: 0.5336 - val_loss: 2.4368 - val_accuracy: 0.5490\n",
            "Epoch 15/50\n",
            "9000/9000 [==============================] - 9s 960us/step - loss: 2.4352 - accuracy: 0.5519 - val_loss: 2.3850 - val_accuracy: 0.5569\n",
            "Epoch 16/50\n",
            "9000/9000 [==============================] - 9s 963us/step - loss: 2.3910 - accuracy: 0.5572 - val_loss: 2.6048 - val_accuracy: 0.5252\n",
            "Epoch 17/50\n",
            "9000/9000 [==============================] - 9s 952us/step - loss: 2.4652 - accuracy: 0.5452 - val_loss: 2.3469 - val_accuracy: 0.5573\n",
            "Epoch 18/50\n",
            "9000/9000 [==============================] - 9s 951us/step - loss: 2.4756 - accuracy: 0.5446 - val_loss: 2.4488 - val_accuracy: 0.5533\n",
            "Epoch 19/50\n",
            "9000/9000 [==============================] - 9s 947us/step - loss: 2.4014 - accuracy: 0.5493 - val_loss: 2.3314 - val_accuracy: 0.5565\n",
            "Epoch 20/50\n",
            "9000/9000 [==============================] - 9s 958us/step - loss: 2.5075 - accuracy: 0.5336 - val_loss: 2.4928 - val_accuracy: 0.5374\n",
            "Epoch 21/50\n",
            "9000/9000 [==============================] - 9s 950us/step - loss: 2.5073 - accuracy: 0.5315 - val_loss: 2.4489 - val_accuracy: 0.5367\n",
            "Epoch 22/50\n",
            "9000/9000 [==============================] - 9s 951us/step - loss: 2.9908 - accuracy: 0.2711 - val_loss: 2.7121 - val_accuracy: 0.3320\n",
            "Epoch 23/50\n",
            "9000/9000 [==============================] - 9s 950us/step - loss: 3.3134 - accuracy: 0.3456 - val_loss: 3.2160 - val_accuracy: 0.4123\n",
            "Epoch 24/50\n",
            "9000/9000 [==============================] - 9s 954us/step - loss: 2.9582 - accuracy: 0.4887 - val_loss: 2.6441 - val_accuracy: 0.5273\n",
            "Epoch 25/50\n",
            "9000/9000 [==============================] - 9s 952us/step - loss: 2.5298 - accuracy: 0.5450 - val_loss: 2.7154 - val_accuracy: 0.5000\n",
            "Epoch 26/50\n",
            "9000/9000 [==============================] - 9s 949us/step - loss: 2.5139 - accuracy: 0.5417 - val_loss: 3.4291 - val_accuracy: 0.4659\n",
            "Epoch 27/50\n",
            "9000/9000 [==============================] - 9s 948us/step - loss: 3.3644 - accuracy: 0.4489 - val_loss: 2.8880 - val_accuracy: 0.4894\n",
            "Epoch 28/50\n",
            "9000/9000 [==============================] - 9s 948us/step - loss: 2.6760 - accuracy: 0.5127 - val_loss: 2.4600 - val_accuracy: 0.5291\n",
            "Epoch 29/50\n",
            "9000/9000 [==============================] - 9s 952us/step - loss: 2.4163 - accuracy: 0.5347 - val_loss: 2.2517 - val_accuracy: 0.5483\n",
            "Epoch 30/50\n",
            "9000/9000 [==============================] - 9s 960us/step - loss: 2.2525 - accuracy: 0.5552 - val_loss: 2.3200 - val_accuracy: 0.5500\n",
            "Epoch 31/50\n",
            "9000/9000 [==============================] - 9s 952us/step - loss: 2.1789 - accuracy: 0.5496 - val_loss: 2.0754 - val_accuracy: 0.5516\n",
            "Epoch 32/50\n",
            "9000/9000 [==============================] - 9s 953us/step - loss: 2.1430 - accuracy: 0.5644 - val_loss: 2.0288 - val_accuracy: 0.5768\n",
            "Epoch 33/50\n",
            "9000/9000 [==============================] - 9s 953us/step - loss: 2.6088 - accuracy: 0.5124 - val_loss: 2.6479 - val_accuracy: 0.5036\n",
            "Epoch 34/50\n",
            "9000/9000 [==============================] - 9s 955us/step - loss: 2.7854 - accuracy: 0.4549 - val_loss: 2.4800 - val_accuracy: 0.5214\n",
            "Epoch 35/50\n",
            "9000/9000 [==============================] - 9s 949us/step - loss: 2.3564 - accuracy: 0.5365 - val_loss: 2.2281 - val_accuracy: 0.5494\n",
            "Epoch 36/50\n",
            "9000/9000 [==============================] - 9s 950us/step - loss: 2.2119 - accuracy: 0.5540 - val_loss: 2.1712 - val_accuracy: 0.5605\n",
            "Epoch 37/50\n",
            "9000/9000 [==============================] - 9s 948us/step - loss: 2.1645 - accuracy: 0.5642 - val_loss: 2.0680 - val_accuracy: 0.5669\n",
            "Epoch 38/50\n",
            "9000/9000 [==============================] - 9s 953us/step - loss: 2.2999 - accuracy: 0.5169 - val_loss: 2.0792 - val_accuracy: 0.5405\n",
            "Epoch 39/50\n",
            "9000/9000 [==============================] - 9s 954us/step - loss: 2.1439 - accuracy: 0.5419 - val_loss: 2.1206 - val_accuracy: 0.5545\n",
            "Epoch 40/50\n",
            "9000/9000 [==============================] - 9s 952us/step - loss: 2.1567 - accuracy: 0.5618 - val_loss: 2.1939 - val_accuracy: 0.5645\n",
            "Epoch 41/50\n",
            "9000/9000 [==============================] - 8s 944us/step - loss: 2.2327 - accuracy: 0.5729 - val_loss: 2.0226 - val_accuracy: 0.5832\n",
            "Epoch 42/50\n",
            "9000/9000 [==============================] - 9s 952us/step - loss: 2.1575 - accuracy: 0.5517 - val_loss: 2.0896 - val_accuracy: 0.5610\n",
            "Epoch 43/50\n",
            "9000/9000 [==============================] - 9s 949us/step - loss: 2.6876 - accuracy: 0.5239 - val_loss: 2.5983 - val_accuracy: 0.5385\n",
            "Epoch 44/50\n",
            "9000/9000 [==============================] - 9s 952us/step - loss: 2.4443 - accuracy: 0.5574 - val_loss: 2.2589 - val_accuracy: 0.5712\n",
            "Epoch 45/50\n",
            "9000/9000 [==============================] - 9s 950us/step - loss: 2.2311 - accuracy: 0.5720 - val_loss: 2.1535 - val_accuracy: 0.5788\n",
            "Epoch 46/50\n",
            "9000/9000 [==============================] - 9s 952us/step - loss: 2.0905 - accuracy: 0.5906 - val_loss: 2.0400 - val_accuracy: 0.5957\n",
            "Epoch 47/50\n",
            "9000/9000 [==============================] - 9s 960us/step - loss: 2.0460 - accuracy: 0.5998 - val_loss: 2.2492 - val_accuracy: 0.5650\n",
            "Epoch 48/50\n",
            "9000/9000 [==============================] - 9s 951us/step - loss: 2.5642 - accuracy: 0.4989 - val_loss: 2.2498 - val_accuracy: 0.5386\n",
            "Epoch 49/50\n",
            "9000/9000 [==============================] - 9s 952us/step - loss: 2.1601 - accuracy: 0.5533 - val_loss: 2.0787 - val_accuracy: 0.5590\n",
            "Epoch 50/50\n",
            "9000/9000 [==============================] - 9s 949us/step - loss: 2.0543 - accuracy: 0.5695 - val_loss: 2.0466 - val_accuracy: 0.5575\n"
          ],
          "name": "stdout"
        }
      ]
    },
    {
      "cell_type": "code",
      "metadata": {
        "id": "f3T1uWlnUu7T",
        "colab_type": "code",
        "outputId": "2ac98946-6e1f-4bb1-8010-89ca7e79c5a9",
        "colab": {
          "base_uri": "https://localhost:8080/",
          "height": 265
        }
      },
      "source": [
        "plt.plot(history1.history['loss'],color='r',label='Training Loss')\n",
        "plt.plot(history1.history['val_loss'],color='b',label='Validation Loss')\n",
        "plt.legend()\n",
        "plt.show()"
      ],
      "execution_count": 135,
      "outputs": [
        {
          "output_type": "display_data",
          "data": {
            "image/png": "[encoded data removed]",
            "text/plain": [
              "<Figure size 432x288 with 1 Axes>"
            ]
          },
          "metadata": {
            "tags": [],
            "needs_background": "light"
          }
        }
      ]
    },
    {
      "cell_type": "code",
      "metadata": {
        "id": "ocnYTXzzU9hC",
        "colab_type": "code",
        "outputId": "98a9faf0-d67f-4e30-cba9-213bf99dd307",
        "colab": {
          "base_uri": "https://localhost:8080/",
          "height": 289
        }
      },
      "source": [
        "model3 = Sequential()\n",
        "model3.add(Embedding(vocab_en+2,300,input_length=maxi_fr))\n",
        "model3.add(Bidirectional(LSTM(64,return_sequences=True)))\n",
        "model3.add(LSTM(64,return_sequences=True))\n",
        "model3.add(Dense(vocab_fr+2))\n",
        "\n",
        "model3.compile(loss=sparse_categorical_crossentropy,optimizer='adam',metrics=['accuracy'])\n",
        "\n",
        "model3.summary()"
      ],
      "execution_count": 136,
      "outputs": [
        {
          "output_type": "stream",
          "text": [
            "Model: \"sequential_25\"\n",
            "_________________________________________________________________\n",
            "Layer (type)                 Output Shape              Param #   \n",
            "=================================================================\n",
            "embedding_24 (Embedding)     (None, 20, 300)           60000     \n",
            "_________________________________________________________________\n",
            "bidirectional_5 (Bidirection (None, 20, 128)           186880    \n",
            "_________________________________________________________________\n",
            "lstm_16 (LSTM)               (None, 20, 64)            49408     \n",
            "_________________________________________________________________\n",
            "dense_15 (Dense)             (None, 20, 320)           20800     \n",
            "=================================================================\n",
            "Total params: 317,088\n",
            "Trainable params: 317,088\n",
            "Non-trainable params: 0\n",
            "_________________________________________________________________\n"
          ],
          "name": "stdout"
        }
      ]
    },
    {
      "cell_type": "code",
      "metadata": {
        "id": "y8mbQi-nVJV8",
        "colab_type": "code",
        "outputId": "ce9b4580-5452-4547-afd5-07f24d9a67c5",
        "colab": {
          "base_uri": "https://localhost:8080/",
          "height": 1000
        }
      },
      "source": [
        "history2=model3.fit(x=en_pad,y=fr_pad,epochs=50,validation_split=0.1,batch_size=128)"
      ],
      "execution_count": 137,
      "outputs": [
        {
          "output_type": "stream",
          "text": [
            "/usr/local/lib/python3.6/dist-packages/tensorflow/python/framework/indexed_slices.py:434: UserWarning: Converting sparse IndexedSlices to a dense Tensor of unknown shape. This may consume a large amount of memory.\n",
            "  \"Converting sparse IndexedSlices to a dense Tensor of unknown shape. \"\n"
          ],
          "name": "stderr"
        },
        {
          "output_type": "stream",
          "text": [
            "Train on 9000 samples, validate on 1000 samples\n",
            "Epoch 1/50\n",
            "9000/9000 [==============================] - 15s 2ms/step - loss: 4.4379 - accuracy: 0.4168 - val_loss: 3.5051 - val_accuracy: 0.4168\n",
            "Epoch 2/50\n",
            "9000/9000 [==============================] - 14s 2ms/step - loss: 3.2665 - accuracy: 0.4111 - val_loss: 2.9052 - val_accuracy: 0.4031\n",
            "Epoch 3/50\n",
            "9000/9000 [==============================] - 14s 2ms/step - loss: 2.7467 - accuracy: 0.4233 - val_loss: 2.6072 - val_accuracy: 0.4532\n",
            "Epoch 4/50\n",
            "9000/9000 [==============================] - 14s 2ms/step - loss: 2.9368 - accuracy: 0.4546 - val_loss: 2.6807 - val_accuracy: 0.4672\n",
            "Epoch 5/50\n",
            "9000/9000 [==============================] - 14s 2ms/step - loss: 2.4809 - accuracy: 0.4632 - val_loss: 2.4236 - val_accuracy: 0.4341\n",
            "Epoch 6/50\n",
            "9000/9000 [==============================] - 14s 2ms/step - loss: 2.1665 - accuracy: 0.4953 - val_loss: 2.1906 - val_accuracy: 0.5165\n",
            "Epoch 7/50\n",
            "9000/9000 [==============================] - 14s 2ms/step - loss: 2.1635 - accuracy: 0.4909 - val_loss: 2.1376 - val_accuracy: 0.4790\n",
            "Epoch 8/50\n",
            "9000/9000 [==============================] - 14s 2ms/step - loss: 1.9746 - accuracy: 0.5059 - val_loss: 1.8385 - val_accuracy: 0.5231\n",
            "Epoch 9/50\n",
            "9000/9000 [==============================] - 14s 2ms/step - loss: 2.1927 - accuracy: 0.4900 - val_loss: 2.0904 - val_accuracy: 0.4988\n",
            "Epoch 10/50\n",
            "9000/9000 [==============================] - 14s 2ms/step - loss: 1.9121 - accuracy: 0.5482 - val_loss: 1.7679 - val_accuracy: 0.5881\n",
            "Epoch 11/50\n",
            "9000/9000 [==============================] - 14s 2ms/step - loss: 2.0164 - accuracy: 0.5362 - val_loss: 1.8892 - val_accuracy: 0.5466\n",
            "Epoch 12/50\n",
            "9000/9000 [==============================] - 14s 2ms/step - loss: 1.8165 - accuracy: 0.5637 - val_loss: 1.6731 - val_accuracy: 0.5897\n",
            "Epoch 13/50\n",
            "9000/9000 [==============================] - 14s 2ms/step - loss: 2.0222 - accuracy: 0.5363 - val_loss: 2.0349 - val_accuracy: 0.5337\n",
            "Epoch 14/50\n",
            "9000/9000 [==============================] - 14s 2ms/step - loss: 1.9535 - accuracy: 0.5405 - val_loss: 1.7641 - val_accuracy: 0.6004\n",
            "Epoch 15/50\n",
            "9000/9000 [==============================] - 14s 2ms/step - loss: 1.6740 - accuracy: 0.6141 - val_loss: 1.5826 - val_accuracy: 0.6209\n",
            "Epoch 16/50\n",
            "9000/9000 [==============================] - 14s 2ms/step - loss: 1.8726 - accuracy: 0.5541 - val_loss: 1.7130 - val_accuracy: 0.5928\n",
            "Epoch 17/50\n",
            "9000/9000 [==============================] - 14s 2ms/step - loss: 1.9638 - accuracy: 0.5442 - val_loss: 1.7008 - val_accuracy: 0.5817\n",
            "Epoch 18/50\n",
            "9000/9000 [==============================] - 14s 2ms/step - loss: 2.4025 - accuracy: 0.4737 - val_loss: 4.0459 - val_accuracy: 0.2944\n",
            "Epoch 19/50\n",
            "9000/9000 [==============================] - 14s 2ms/step - loss: 3.0594 - accuracy: 0.3309 - val_loss: 3.5677 - val_accuracy: 0.0909\n",
            "Epoch 20/50\n",
            "9000/9000 [==============================] - 14s 2ms/step - loss: 3.0552 - accuracy: 0.0676 - val_loss: 2.6305 - val_accuracy: 0.1441\n",
            "Epoch 21/50\n",
            "9000/9000 [==============================] - 14s 2ms/step - loss: 2.4436 - accuracy: 0.2537 - val_loss: 2.2453 - val_accuracy: 0.3762\n",
            "Epoch 22/50\n",
            "9000/9000 [==============================] - 14s 2ms/step - loss: 2.0924 - accuracy: 0.4625 - val_loss: 1.9816 - val_accuracy: 0.5241\n",
            "Epoch 23/50\n",
            "9000/9000 [==============================] - 14s 2ms/step - loss: 2.2845 - accuracy: 0.4642 - val_loss: 2.2166 - val_accuracy: 0.4589\n",
            "Epoch 24/50\n",
            "9000/9000 [==============================] - 14s 2ms/step - loss: 2.1319 - accuracy: 0.4683 - val_loss: 2.0199 - val_accuracy: 0.4800\n",
            "Epoch 25/50\n",
            "9000/9000 [==============================] - 14s 2ms/step - loss: 2.2116 - accuracy: 0.4570 - val_loss: 3.0737 - val_accuracy: 0.1420\n",
            "Epoch 26/50\n",
            "9000/9000 [==============================] - 14s 2ms/step - loss: 2.6576 - accuracy: 0.1892 - val_loss: 2.7001 - val_accuracy: 0.2228\n",
            "Epoch 27/50\n",
            "9000/9000 [==============================] - 14s 2ms/step - loss: 2.4708 - accuracy: 0.3067 - val_loss: 2.5922 - val_accuracy: 0.3722\n",
            "Epoch 28/50\n",
            "9000/9000 [==============================] - 14s 2ms/step - loss: 2.4650 - accuracy: 0.4119 - val_loss: 2.3415 - val_accuracy: 0.4493\n",
            "Epoch 29/50\n",
            "9000/9000 [==============================] - 14s 2ms/step - loss: 2.2460 - accuracy: 0.4806 - val_loss: 2.4607 - val_accuracy: 0.4706\n",
            "Epoch 30/50\n",
            "9000/9000 [==============================] - 14s 2ms/step - loss: 2.2677 - accuracy: 0.4663 - val_loss: 1.9994 - val_accuracy: 0.5135\n",
            "Epoch 31/50\n",
            "9000/9000 [==============================] - 14s 2ms/step - loss: 1.8873 - accuracy: 0.5389 - val_loss: 1.7808 - val_accuracy: 0.5608\n",
            "Epoch 32/50\n",
            "9000/9000 [==============================] - 14s 2ms/step - loss: 1.9495 - accuracy: 0.5161 - val_loss: 2.0097 - val_accuracy: 0.4642\n",
            "Epoch 33/50\n",
            "9000/9000 [==============================] - 14s 2ms/step - loss: 1.8098 - accuracy: 0.4963 - val_loss: 1.6850 - val_accuracy: 0.5288\n",
            "Epoch 34/50\n",
            "9000/9000 [==============================] - 14s 2ms/step - loss: 1.6307 - accuracy: 0.5469 - val_loss: 1.5797 - val_accuracy: 0.5660\n",
            "Epoch 35/50\n",
            "9000/9000 [==============================] - 14s 2ms/step - loss: 1.9259 - accuracy: 0.5355 - val_loss: 1.7357 - val_accuracy: 0.5422\n",
            "Epoch 36/50\n",
            "9000/9000 [==============================] - 14s 2ms/step - loss: 1.6474 - accuracy: 0.5599 - val_loss: 1.6618 - val_accuracy: 0.5774\n",
            "Epoch 37/50\n",
            "9000/9000 [==============================] - 14s 2ms/step - loss: 1.6120 - accuracy: 0.5816 - val_loss: 2.0598 - val_accuracy: 0.5451\n",
            "Epoch 38/50\n",
            "9000/9000 [==============================] - 14s 2ms/step - loss: 2.2311 - accuracy: 0.5169 - val_loss: 1.9475 - val_accuracy: 0.5223\n",
            "Epoch 39/50\n",
            "9000/9000 [==============================] - 14s 2ms/step - loss: 1.9462 - accuracy: 0.5176 - val_loss: 1.7716 - val_accuracy: 0.5512\n",
            "Epoch 40/50\n",
            "9000/9000 [==============================] - 14s 2ms/step - loss: 1.5843 - accuracy: 0.5743 - val_loss: 1.5058 - val_accuracy: 0.5936\n",
            "Epoch 41/50\n",
            "9000/9000 [==============================] - 14s 2ms/step - loss: 1.8727 - accuracy: 0.5143 - val_loss: 1.8392 - val_accuracy: 0.5039\n",
            "Epoch 42/50\n",
            "9000/9000 [==============================] - 14s 2ms/step - loss: 1.7834 - accuracy: 0.5202 - val_loss: 1.7202 - val_accuracy: 0.5374\n",
            "Epoch 43/50\n",
            "9000/9000 [==============================] - 14s 2ms/step - loss: 1.7196 - accuracy: 0.5565 - val_loss: 1.6680 - val_accuracy: 0.5741\n",
            "Epoch 44/50\n",
            "9000/9000 [==============================] - 14s 2ms/step - loss: 1.6037 - accuracy: 0.5867 - val_loss: 1.5081 - val_accuracy: 0.6011\n",
            "Epoch 45/50\n",
            "9000/9000 [==============================] - 14s 2ms/step - loss: 1.4659 - accuracy: 0.6101 - val_loss: 1.4352 - val_accuracy: 0.6230\n",
            "Epoch 46/50\n",
            "9000/9000 [==============================] - 14s 2ms/step - loss: 1.4362 - accuracy: 0.6043 - val_loss: 1.3545 - val_accuracy: 0.6244\n",
            "Epoch 47/50\n",
            "9000/9000 [==============================] - 14s 2ms/step - loss: 1.3660 - accuracy: 0.6244 - val_loss: 1.3503 - val_accuracy: 0.6274\n",
            "Epoch 48/50\n",
            "9000/9000 [==============================] - 14s 2ms/step - loss: 1.3239 - accuracy: 0.6356 - val_loss: 1.2949 - val_accuracy: 0.6461\n",
            "Epoch 49/50\n",
            "9000/9000 [==============================] - 14s 2ms/step - loss: 1.5046 - accuracy: 0.6021 - val_loss: 1.7029 - val_accuracy: 0.5472\n",
            "Epoch 50/50\n",
            "9000/9000 [==============================] - 14s 2ms/step - loss: 1.4712 - accuracy: 0.5966 - val_loss: 1.2691 - val_accuracy: 0.6289\n"
          ],
          "name": "stdout"
        }
      ]
    },
    {
      "cell_type": "code",
      "metadata": {
        "id": "g4XI3i_vVgQ6",
        "colab_type": "code",
        "outputId": "e14bca32-1b05-4f57-e9f6-fe911cf93d28",
        "colab": {
          "base_uri": "https://localhost:8080/",
          "height": 265
        }
      },
      "source": [
        "plt.plot(history2.history['loss'],color='r',label='Training Loss')\n",
        "plt.plot(history2.history['val_loss'],color='b',label='Validation Loss')\n",
        "plt.legend()\n",
        "plt.show()"
      ],
      "execution_count": 138,
      "outputs": [
        {
          "output_type": "display_data",
          "data": {
            "image/png": "[encoded data removed]",
            "text/plain": [
              "<Figure size 432x288 with 1 Axes>"
            ]
          },
          "metadata": {
            "tags": [],
            "needs_background": "light"
          }
        }
      ]
    },
    {
      "cell_type": "code",
      "metadata": {
        "id": "g7HnhqqAWD__",
        "colab_type": "code",
        "colab": {}
      },
      "source": [
        ""
      ],
      "execution_count": 0,
      "outputs": []
    },
    {
      "cell_type": "code",
      "metadata": {
        "id": "2Tn67lY364An",
        "colab_type": "code",
        "colab": {}
      },
      "source": [
        ""
      ],
      "execution_count": 0,
      "outputs": []
    }
  ]
}