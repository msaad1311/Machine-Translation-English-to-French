{
  "nbformat": 4,
  "nbformat_minor": 0,
  "metadata": {
    "colab": {
      "name": "Machine Translation.ipynb",
      "provenance": [],
      "collapsed_sections": [],
      "authorship_tag": "ABX9TyPvEWHaCCzDmzgb4HmZu1wx",
      "include_colab_link": true
    },
    "kernelspec": {
      "name": "python3",
      "display_name": "Python 3"
    }
  },
  "cells": [
    {
      "cell_type": "markdown",
      "metadata": {
        "id": "view-in-github",
        "colab_type": "text"
      },
      "source": [
        "<a href=\"https://colab.research.google.com/github/msaad1311/Machine-Translation-English-to-French/blob/master/Machine_Translation.ipynb\" target=\"_parent\"><img src=\"https://colab.research.google.com/assets/colab-badge.svg\" alt=\"Open In Colab\"/></a>"
      ]
    },
    {
      "cell_type": "code",
      "metadata": {
        "id": "xpgtUA-C2WjK",
        "colab_type": "code",
        "outputId": "f8d4aaab-b005-4515-f069-9b920113a887",
        "colab": {
          "base_uri": "https://localhost:8080/",
          "height": 80
        }
      },
      "source": [
        "import collections\n",
        "import numpy as np\n",
        "from keras.preprocessing.text import Tokenizer\n",
        "from keras.preprocessing.sequence import pad_sequences\n",
        "from keras.models import Model\n",
        "from keras.layers import LSTM, GRU, Input, Dense, TimeDistributed, Activation, RepeatVector, Bidirectional\n",
        "from keras.layers.embeddings import Embedding\n",
        "from keras.optimizers import Adam\n",
        "from keras.losses import sparse_categorical_crossentropy"
      ],
      "execution_count": 0,
      "outputs": [
        {
          "output_type": "stream",
          "text": [
            "Using TensorFlow backend.\n"
          ],
          "name": "stderr"
        },
        {
          "output_type": "display_data",
          "data": {
            "text/html": [
              "<p style=\"color: red;\">\n",
              "The default version of TensorFlow in Colab will soon switch to TensorFlow 2.x.<br>\n",
              "We recommend you <a href=\"https://www.tensorflow.org/guide/migrate\" target=\"_blank\">upgrade</a> now \n",
              "or ensure your notebook will continue to use TensorFlow 1.x via the <code>%tensorflow_version 1.x</code> magic:\n",
              "<a href=\"https://colab.research.google.com/notebooks/tensorflow_version.ipynb\" target=\"_blank\">more info</a>.</p>\n"
            ],
            "text/plain": [
              "<IPython.core.display.HTML object>"
            ]
          },
          "metadata": {
            "tags": []
          }
        }
      ]
    },
    {
      "cell_type": "code",
      "metadata": {
        "id": "8cN3NEXI23JV",
        "colab_type": "code",
        "colab": {}
      },
      "source": [
        "with open('/content/europarl-v7.fr-en.en', \"r\") as f:\n",
        "        data = f.read()\n",
        "\n",
        "english_sentences = data.split('\\n')\n",
        "\n",
        "with open('/content/europarl-v7.fr-en.fr', \"r\") as f:\n",
        "        data = f.read()\n",
        "\n",
        "french_sentences = data.split('\\n')"
      ],
      "execution_count": 0,
      "outputs": []
    },
    {
      "cell_type": "code",
      "metadata": {
        "id": "hEuAjW8a3YBb",
        "colab_type": "code",
        "outputId": "2a6e05eb-b182-444b-defd-63bbf853a7df",
        "colab": {
          "base_uri": "https://localhost:8080/",
          "height": 105
        }
      },
      "source": [
        "for sample_i in range(2):\n",
        "    print('small_vocab_en Line {}:  {}'.format(sample_i + 1, english_sentences[sample_i]))\n",
        "    print('small_vocab_fr Line {}:  {}'.format(sample_i + 1, french_sentences[sample_i]))"
      ],
      "execution_count": 0,
      "outputs": [
        {
          "output_type": "stream",
          "text": [
            "small_vocab_en Line 1:  Resumption of the session\n",
            "small_vocab_fr Line 1:  Reprise de la session\n",
            "small_vocab_en Line 2:  I declare resumed the session of the European Parliament adjourned on Friday 17 December 1999, and I would like once again to wish you a happy new year in the hope that you enjoyed a pleasant festive period.\n",
            "small_vocab_fr Line 2:  Je déclare reprise la session du Parlement européen qui avait été interrompue le vendredi 17 décembre dernier et je vous renouvelle tous mes vux en espérant que vous avez passé de bonnes vacances.\n"
          ],
          "name": "stdout"
        }
      ]
    },
    {
      "cell_type": "code",
      "metadata": {
        "id": "1lvbFhz33drn",
        "colab_type": "code",
        "colab": {}
      },
      "source": [
        "#English Preprocessing\n",
        "\n",
        "en_tlk = Tokenizer()\n",
        "en_tlk.fit_on_texts(english_sentences)\n",
        "entk = en_tlk.texts_to_sequences(english_sentences)\n",
        "en_pad = pad_sequences(entk, maxlen=len(max(entk,key=len)), padding='post')"
      ],
      "execution_count": 0,
      "outputs": []
    },
    {
      "cell_type": "code",
      "metadata": {
        "id": "KCJ9dqp15MB_",
        "colab_type": "code",
        "colab": {}
      },
      "source": [
        "#French Preprocessing\n",
        "\n",
        "fr_tlk = Tokenizer()\n",
        "fr_tlk.fit_on_texts(french_sentences)\n",
        "frtk=fr_tlk.texts_to_sequences(french_sentences)\n",
        "fr_pad = pad_sequences(frtk,maxlen=len(max(frtk,key=len)),padding='post')"
      ],
      "execution_count": 0,
      "outputs": []
    },
    {
      "cell_type": "code",
      "metadata": {
        "id": "C3heBin66e8U",
        "colab_type": "code",
        "outputId": "558728ad-87b9-451d-8232-c4032b1d29e9",
        "colab": {
          "base_uri": "https://localhost:8080/",
          "height": 164
        }
      },
      "source": [
        "fr_pad = fr_pad.reshape(*fr_pad.shape, 1)"
      ],
      "execution_count": 0,
      "outputs": [
        {
          "output_type": "error",
          "ename": "NameError",
          "evalue": "ignored",
          "traceback": [
            "\u001b[0;31m---------------------------------------------------------------------------\u001b[0m",
            "\u001b[0;31mNameError\u001b[0m                                 Traceback (most recent call last)",
            "\u001b[0;32m<ipython-input-10-e98fedc41c18>\u001b[0m in \u001b[0;36m<module>\u001b[0;34m()\u001b[0m\n\u001b[0;32m----> 1\u001b[0;31m \u001b[0mfr_pad\u001b[0m \u001b[0;34m=\u001b[0m \u001b[0mfr_pad\u001b[0m\u001b[0;34m.\u001b[0m\u001b[0mreshape\u001b[0m\u001b[0;34m(\u001b[0m\u001b[0;34m*\u001b[0m\u001b[0mfr_pad\u001b[0m\u001b[0;34m.\u001b[0m\u001b[0mshape\u001b[0m\u001b[0;34m,\u001b[0m \u001b[0;36m1\u001b[0m\u001b[0;34m)\u001b[0m\u001b[0;34m\u001b[0m\u001b[0;34m\u001b[0m\u001b[0m\n\u001b[0m",
            "\u001b[0;31mNameError\u001b[0m: name 'fr_pad' is not defined"
          ]
        }
      ]
    },
    {
      "cell_type": "code",
      "metadata": {
        "id": "qFKAhkGH6je0",
        "colab_type": "code",
        "colab": {}
      },
      "source": [
        "max_english_sequence_length = entk.shape[1]\n",
        "max_french_sequence_length = frtk.shape[1]\n",
        "english_vocab_size = len(entlk.word_index)\n",
        "french_vocab_size = len(frtlk.word_index)"
      ],
      "execution_count": 0,
      "outputs": []
    },
    {
      "cell_type": "code",
      "metadata": {
        "id": "arwPjzdG6stJ",
        "colab_type": "code",
        "colab": {}
      },
      "source": [
        "print(max_english_sequence_length)\n",
        "print(max_french_sequence_length)\n",
        "print(english_vocab_size)\n",
        "print(french_vocab_size)"
      ],
      "execution_count": 0,
      "outputs": []
    },
    {
      "cell_type": "code",
      "metadata": {
        "id": "2Tn67lY364An",
        "colab_type": "code",
        "colab": {}
      },
      "source": [
        ""
      ],
      "execution_count": 0,
      "outputs": []
    }
  ]
}