{
  "nbformat": 4,
  "nbformat_minor": 0,
  "metadata": {
    "colab": {
      "name": "Machine Translation.ipynb",
      "provenance": [],
      "collapsed_sections": [],
      "authorship_tag": "ABX9TyMTjexnfXC1WpFiaT5NLlqn",
      "include_colab_link": true
    },
    "kernelspec": {
      "name": "python3",
      "display_name": "Python 3"
    },
    "accelerator": "GPU"
  },
  "cells": [
    {
      "cell_type": "markdown",
      "metadata": {
        "id": "view-in-github",
        "colab_type": "text"
      },
      "source": [
        "<a href=\"https://colab.research.google.com/github/msaad1311/Machine-Translation-English-to-French/blob/master/Machine_Translation.ipynb\" target=\"_parent\"><img src=\"https://colab.research.google.com/assets/colab-badge.svg\" alt=\"Open In Colab\"/></a>"
      ]
    },
    {
      "cell_type": "code",
      "metadata": {
        "id": "xpgtUA-C2WjK",
        "colab_type": "code",
        "outputId": "8dcee608-045c-4a00-871a-ee233c0175c8",
        "colab": {
          "base_uri": "https://localhost:8080/",
          "height": 34
        }
      },
      "source": [
        "import collections\n",
        "import numpy as np\n",
        "from keras.preprocessing.text import Tokenizer\n",
        "from keras.preprocessing.sequence import pad_sequences\n",
        "from keras.models import Model\n",
        "from keras.layers import LSTM, GRU, Input, Dense, TimeDistributed, Activation, RepeatVector, Bidirectional,Flatten\n",
        "from keras.layers.embeddings import Embedding\n",
        "from keras.models import Sequential\n",
        "from keras.optimizers import Adam\n",
        "from keras.losses import sparse_categorical_crossentropy\n",
        "import matplotlib.pyplot as plt\n",
        "# import tensorflow as tf\n",
        "from keras.callbacks import ModelCheckpoint"
      ],
      "execution_count": 1,
      "outputs": [
        {
          "output_type": "stream",
          "text": [
            "Using TensorFlow backend.\n"
          ],
          "name": "stderr"
        }
      ]
    },
    {
      "cell_type": "code",
      "metadata": {
        "id": "8cN3NEXI23JV",
        "colab_type": "code",
        "colab": {}
      },
      "source": [
        "with open('/content/small_vocab_en', \"r\") as f:\n",
        "        data = f.read()\n",
        "\n",
        "english_sentences = data.split('\\n')\n",
        "\n",
        "with open('/content/small_vocab_fr', \"r\") as f:\n",
        "        data = f.read()\n",
        "\n",
        "french_sentences = data.split('\\n')"
      ],
      "execution_count": 0,
      "outputs": []
    },
    {
      "cell_type": "code",
      "metadata": {
        "id": "SYVciRhZKWPd",
        "colab_type": "code",
        "outputId": "15b211d7-1b0e-43d8-fb7b-ee0511655a4c",
        "colab": {
          "base_uri": "https://localhost:8080/",
          "height": 34
        }
      },
      "source": [
        "len(english_sentences),len(french_sentences)"
      ],
      "execution_count": 7,
      "outputs": [
        {
          "output_type": "execute_result",
          "data": {
            "text/plain": [
              "(137861, 137861)"
            ]
          },
          "metadata": {
            "tags": []
          },
          "execution_count": 7
        }
      ]
    },
    {
      "cell_type": "code",
      "metadata": {
        "id": "hEuAjW8a3YBb",
        "colab_type": "code",
        "outputId": "15b2dc7f-296c-4e95-e81d-62ee3fac5cd5",
        "colab": {
          "base_uri": "https://localhost:8080/",
          "height": 85
        }
      },
      "source": [
        "for sample_i in range(2):\n",
        "    print('small_vocab_en Line {}:  {}'.format(sample_i + 1, english_sentences[sample_i]))\n",
        "    print('small_vocab_fr Line {}:  {}'.format(sample_i + 1, french_sentences[sample_i]))"
      ],
      "execution_count": 8,
      "outputs": [
        {
          "output_type": "stream",
          "text": [
            "small_vocab_en Line 1:  new jersey is sometimes quiet during autumn , and it is snowy in april .\n",
            "small_vocab_fr Line 1:  new jersey est parfois calme pendant l' automne , et il est neigeux en avril .\n",
            "small_vocab_en Line 2:  the united states is usually chilly during july , and it is usually freezing in november .\n",
            "small_vocab_fr Line 2:  les états-unis est généralement froid en juillet , et il gèle habituellement en novembre .\n"
          ],
          "name": "stdout"
        }
      ]
    },
    {
      "cell_type": "code",
      "metadata": {
        "id": "7gNgTvtYLr5O",
        "colab_type": "code",
        "outputId": "4b53f431-1269-4857-92e3-1f3cf7b064cf",
        "colab": {
          "base_uri": "https://localhost:8080/",
          "height": 34
        }
      },
      "source": [
        "english_sentences=english_sentences[0:10000]\n",
        "french_sentences=french_sentences[0:10000]\n",
        "len(english_sentences),len(french_sentences)"
      ],
      "execution_count": 9,
      "outputs": [
        {
          "output_type": "execute_result",
          "data": {
            "text/plain": [
              "(10000, 10000)"
            ]
          },
          "metadata": {
            "tags": []
          },
          "execution_count": 9
        }
      ]
    },
    {
      "cell_type": "code",
      "metadata": {
        "id": "k6lRLQHXDDbo",
        "colab_type": "code",
        "colab": {
          "base_uri": "https://localhost:8080/",
          "height": 139
        },
        "outputId": "63d51ae7-cb98-4a72-9aea-7238d40495e5"
      },
      "source": [
        "en_sentence =[]\n",
        "fr_sentence=[]\n",
        "for i in english_sentences:\n",
        "    eng = 'SOS '+i+' EOS'\n",
        "    en_sentence.append(eng)\n",
        "for j in french_sentences:\n",
        "    fr = 'SOS '+j+' EOS'\n",
        "    fr_sentence.append(fr)\n",
        "for sample_i in range(2):\n",
        "    print('small_vocab_en Line {}:  {}'.format(sample_i + 1, en_sentence[sample_i]))\n",
        "    print('small_vocab_fr Line {}:  {}'.format(sample_i + 1, fr_sentence[sample_i]))\n",
        "print()\n",
        "print(len(en_sentence),len(fr_sentence))"
      ],
      "execution_count": 26,
      "outputs": [
        {
          "output_type": "stream",
          "text": [
            "small_vocab_en Line 1:  SOS new jersey is sometimes quiet during autumn , and it is snowy in april . EOS\n",
            "small_vocab_fr Line 1:  SOS new jersey est parfois calme pendant l' automne , et il est neigeux en avril . EOS\n",
            "small_vocab_en Line 2:  SOS the united states is usually chilly during july , and it is usually freezing in november . EOS\n",
            "small_vocab_fr Line 2:  SOS les états-unis est généralement froid en juillet , et il gèle habituellement en novembre . EOS\n",
            "\n",
            "10000 10000\n"
          ],
          "name": "stdout"
        }
      ]
    },
    {
      "cell_type": "code",
      "metadata": {
        "id": "VAV4asjgKoiq",
        "colab_type": "code",
        "outputId": "965cc9ec-5f7b-4c6c-be1a-4ed60e0963bd",
        "colab": {
          "base_uri": "https://localhost:8080/",
          "height": 34
        }
      },
      "source": [
        "token_en = Tokenizer()\n",
        "eng = token_en.fit_on_texts(en_sentence)\n",
        "eng = token_en.texts_to_sequences(en_sentence)\n",
        "print(len(eng))"
      ],
      "execution_count": 27,
      "outputs": [
        {
          "output_type": "stream",
          "text": [
            "10000\n"
          ],
          "name": "stdout"
        }
      ]
    },
    {
      "cell_type": "code",
      "metadata": {
        "id": "CK3ydArbM4w_",
        "colab_type": "code",
        "outputId": "0ddaa3c9-bacf-4bbd-b2ba-667740ca3d8a",
        "colab": {
          "base_uri": "https://localhost:8080/",
          "height": 34
        }
      },
      "source": [
        "token_fr = Tokenizer()\n",
        "fr = token_fr.fit_on_texts(fr_sentence)\n",
        "fr = token_fr.texts_to_sequences(fr_sentence)\n",
        "print(len(fr))"
      ],
      "execution_count": 28,
      "outputs": [
        {
          "output_type": "stream",
          "text": [
            "10000\n"
          ],
          "name": "stdout"
        }
      ]
    },
    {
      "cell_type": "code",
      "metadata": {
        "id": "TkcLyt0iL0dB",
        "colab_type": "code",
        "outputId": "4d9e8e04-7c3b-4f14-d40d-8d772c3f62d1",
        "colab": {
          "base_uri": "https://localhost:8080/",
          "height": 34
        }
      },
      "source": [
        "maxi_en= len(max(eng,key=len))\n",
        "print(maxi_en)"
      ],
      "execution_count": 35,
      "outputs": [
        {
          "output_type": "stream",
          "text": [
            "17\n"
          ],
          "name": "stdout"
        }
      ]
    },
    {
      "cell_type": "code",
      "metadata": {
        "id": "WjdCvaGpNjP4",
        "colab_type": "code",
        "outputId": "16cca3f3-9a5e-48a8-9c48-f961d81e06f4",
        "colab": {
          "base_uri": "https://localhost:8080/",
          "height": 34
        }
      },
      "source": [
        "maxi_fr = len(max(fr,key=len))\n",
        "print(maxi_fr)"
      ],
      "execution_count": 36,
      "outputs": [
        {
          "output_type": "stream",
          "text": [
            "22\n"
          ],
          "name": "stdout"
        }
      ]
    },
    {
      "cell_type": "code",
      "metadata": {
        "id": "1NyQo038MErE",
        "colab_type": "code",
        "outputId": "b4a20aa9-f60f-4c56-ab77-7cf74dcd524e",
        "colab": {
          "base_uri": "https://localhost:8080/",
          "height": 187
        }
      },
      "source": [
        "en_pad = pad_sequences(eng,maxlen=maxi_fr,truncating='post',padding='post')\n",
        "print(en_pad[0:10])"
      ],
      "execution_count": 37,
      "outputs": [
        {
          "output_type": "stream",
          "text": [
            "[[ 2 19 21  1 11 33  6 47  9  5  1 52  4 55  3  0  0  0  0  0  0  0]\n",
            " [ 2  7 24 25  1 10 56  6 42  9  5  1 10 70  4 50  3  0  0  0  0  0]\n",
            " [ 2 22  1 10 33  6 60  9  5  1 10 54  4 35  3  0  0  0  0  0  0  0]\n",
            " [ 2  7 24 25  1 11 61  6 35  9  5  1 62  4 34  3  0  0  0  0  0  0]\n",
            " [ 2 44 14 18 15  1  7 86  8 38 14 18  1  7 88  3  0  0  0  0  0  0]\n",
            " [ 2 43 13 15  1  7 85  8 38 13  1  7 86  3  0  0  0  0  0  0  0  0]\n",
            " [ 2 20  1 65  6 37  8  5  1 10 56  4 42  3  0  0  0  0  0  0  0  0]\n",
            " [ 2 19 21  1 40  6 36  9  5  1 12 54  4 60  3  0  0  0  0  0  0  0]\n",
            " [ 2 51 14 18 15  1  7 89  8 38 14 18  1  7 86  3  0  0  0  0  0  0]\n",
            " [ 2  7 24 25  1 11 40  6 53  9  5  1 11 68  4 50  3  0  0  0  0  0]]\n"
          ],
          "name": "stdout"
        }
      ]
    },
    {
      "cell_type": "code",
      "metadata": {
        "id": "H4vNi5IYNn2B",
        "colab_type": "code",
        "outputId": "84a46f4d-e141-4517-d993-13aa3f47c006",
        "colab": {
          "base_uri": "https://localhost:8080/",
          "height": 357
        }
      },
      "source": [
        "fr_pad = pad_sequences(fr,maxlen=maxi_fr,truncating='post',padding='post')\n",
        "print(fr_pad[0:10])"
      ],
      "execution_count": 38,
      "outputs": [
        {
          "output_type": "stream",
          "text": [
            "[[  2  32  31   1  10  68  38  13  27   8   5   1 115   4  54   3   0   0\n",
            "    0   0   0   0]\n",
            " [  2   6  35  36   1  14  21   4  48   8   5  98  72   4  50   3   0   0\n",
            "    0   0   0   0]\n",
            " [  2 102   1  14  68   4  56   8   5   1  14  22   4  43   3   0   0   0\n",
            "    0   0   0   0]\n",
            " [  2   6  35  36   1  10 238   4  43   8   5 104  21   4  42   3   0   0\n",
            "    0   0   0   0]\n",
            " [  2  55  16  17  18   1  12  85   7  51  16  17   1   9  87   3   0   0\n",
            "    0   0   0   0]\n",
            " [  2  23  18  19   1  84   7  51  19   1  12  85   3   0   0   0   0   0\n",
            "    0   0   0   0]\n",
            " [  2  29   1  60   4  45   7   5   1  14  21   4  48   3   0   0   0   0\n",
            "    0   0   0   0]\n",
            " [  2  32  31   1  63  15  44   8   5   1  11 139   4  56   3   0   0   0\n",
            "    0   0   0   0]\n",
            " [  2  61  18   1  16  17  12  88   7  51  16  17   1  12  85   3   0   0\n",
            "    0   0   0   0]\n",
            " [  2   6  35  36   1  10  63   4  53   8   5   1  10  22   4  50   3   0\n",
            "    0   0   0   0]]\n"
          ],
          "name": "stdout"
        }
      ]
    },
    {
      "cell_type": "code",
      "metadata": {
        "id": "irf0r66YN0BJ",
        "colab_type": "code",
        "outputId": "e845b50a-5344-4242-c375-54ea67d3baaa",
        "colab": {
          "base_uri": "https://localhost:8080/",
          "height": 51
        }
      },
      "source": [
        "vocab_en = len(token_en.word_index)\n",
        "print(vocab_en)\n",
        "\n",
        "vocab_fr = len(token_fr.word_index)\n",
        "print(vocab_fr)"
      ],
      "execution_count": 39,
      "outputs": [
        {
          "output_type": "stream",
          "text": [
            "200\n",
            "320\n"
          ],
          "name": "stdout"
        }
      ]
    },
    {
      "cell_type": "code",
      "metadata": {
        "id": "tSpORgc-RQK2",
        "colab_type": "code",
        "outputId": "d9605ab8-a6aa-4819-d42f-b47a60e4aa54",
        "colab": {
          "base_uri": "https://localhost:8080/",
          "height": 34
        }
      },
      "source": [
        "fr_pad=np.array(fr_pad)\n",
        "fr_pad=fr_pad.reshape(fr_pad.shape[0],fr_pad.shape[1],1)\n",
        "fr_pad.shape"
      ],
      "execution_count": 40,
      "outputs": [
        {
          "output_type": "execute_result",
          "data": {
            "text/plain": [
              "(10000, 22, 1)"
            ]
          },
          "metadata": {
            "tags": []
          },
          "execution_count": 40
        }
      ]
    },
    {
      "cell_type": "code",
      "metadata": {
        "id": "LM5AvjgSAcw8",
        "colab_type": "code",
        "colab": {}
      },
      "source": [
        "mcp_save = ModelCheckpoint('model1.hdf5', save_best_only=True, monitor='val_loss', mode='min',verbose = 0)\n",
        "mcp_save1 = ModelCheckpoint('model2.hdf5', save_best_only=True, monitor='val_loss', mode='min',verbose = 0)\n",
        "mcp_save2 = ModelCheckpoint('model3.hdf5', save_best_only=True, monitor='val_loss', mode='min',verbose = 0)\n",
        "mcp_save3 = ModelCheckpoint('model4.hdf5', save_best_only=True, monitor='val_loss', mode='min',verbose = 0)\n",
        "mcp_save4 = ModelCheckpoint('model5.hdf5', save_best_only=True, monitor='val_loss', mode='min',verbose = 0)"
      ],
      "execution_count": 0,
      "outputs": []
    },
    {
      "cell_type": "code",
      "metadata": {
        "id": "ETxi3MNGOb2L",
        "colab_type": "code",
        "colab": {}
      },
      "source": [
        "model1 = Sequential()\n",
        "model1.add(Embedding(vocab_en+2,300,input_length=maxi_fr))\n",
        "model1.add(GRU(64,activation='relu',return_sequences=True))\n",
        "model1.add(TimeDistributed(Dense(vocab_fr+2)))"
      ],
      "execution_count": 0,
      "outputs": []
    },
    {
      "cell_type": "code",
      "metadata": {
        "id": "TK6ww-BsPriN",
        "colab_type": "code",
        "colab": {}
      },
      "source": [
        "model1.compile(loss=sparse_categorical_crossentropy,optimizer='adam',metrics=['accuracy'])"
      ],
      "execution_count": 0,
      "outputs": []
    },
    {
      "cell_type": "code",
      "metadata": {
        "id": "FppB6etUP3E0",
        "colab_type": "code",
        "outputId": "f895b541-7112-4f2c-fcd4-eeb57320beba",
        "colab": {
          "base_uri": "https://localhost:8080/",
          "height": 255
        }
      },
      "source": [
        "model1.summary()"
      ],
      "execution_count": 44,
      "outputs": [
        {
          "output_type": "stream",
          "text": [
            "Model: \"sequential_1\"\n",
            "_________________________________________________________________\n",
            "Layer (type)                 Output Shape              Param #   \n",
            "=================================================================\n",
            "embedding_1 (Embedding)      (None, 22, 300)           60600     \n",
            "_________________________________________________________________\n",
            "gru_1 (GRU)                  (None, 22, 64)            70080     \n",
            "_________________________________________________________________\n",
            "time_distributed_1 (TimeDist (None, 22, 322)           20930     \n",
            "=================================================================\n",
            "Total params: 151,610\n",
            "Trainable params: 151,610\n",
            "Non-trainable params: 0\n",
            "_________________________________________________________________\n"
          ],
          "name": "stdout"
        }
      ]
    },
    {
      "cell_type": "code",
      "metadata": {
        "id": "zDzB-w3gP51j",
        "colab_type": "code",
        "outputId": "dbde583f-9946-4c33-b478-0b3d994c8859",
        "colab": {
          "base_uri": "https://localhost:8080/",
          "height": 768
        }
      },
      "source": [
        "history=model1.fit(x=en_pad,y=fr_pad,epochs=20,validation_split=0.1,batch_size=128,callbacks=[mcp_save])"
      ],
      "execution_count": 45,
      "outputs": [
        {
          "output_type": "stream",
          "text": [
            "/usr/local/lib/python3.6/dist-packages/tensorflow/python/framework/indexed_slices.py:434: UserWarning: Converting sparse IndexedSlices to a dense Tensor of unknown shape. This may consume a large amount of memory.\n",
            "  \"Converting sparse IndexedSlices to a dense Tensor of unknown shape. \"\n"
          ],
          "name": "stderr"
        },
        {
          "output_type": "stream",
          "text": [
            "Train on 9000 samples, validate on 1000 samples\n",
            "Epoch 1/20\n",
            "9000/9000 [==============================] - 6s 627us/step - loss: 3.7673 - accuracy: 0.4773 - val_loss: 2.5090 - val_accuracy: 0.5830\n",
            "Epoch 2/20\n",
            "9000/9000 [==============================] - 4s 417us/step - loss: 2.4846 - accuracy: 0.5774 - val_loss: 2.3796 - val_accuracy: 0.5868\n",
            "Epoch 3/20\n",
            "9000/9000 [==============================] - 4s 416us/step - loss: 2.6037 - accuracy: 0.5689 - val_loss: 2.6635 - val_accuracy: 0.5715\n",
            "Epoch 4/20\n",
            "9000/9000 [==============================] - 4s 409us/step - loss: 2.5944 - accuracy: 0.5585 - val_loss: 2.5073 - val_accuracy: 0.5446\n",
            "Epoch 5/20\n",
            "9000/9000 [==============================] - 4s 414us/step - loss: 2.6540 - accuracy: 0.4919 - val_loss: 3.0011 - val_accuracy: 0.2312\n",
            "Epoch 6/20\n",
            "9000/9000 [==============================] - 4s 412us/step - loss: 2.6662 - accuracy: 0.5281 - val_loss: 2.4339 - val_accuracy: 0.5642\n",
            "Epoch 7/20\n",
            "9000/9000 [==============================] - 4s 412us/step - loss: 2.5367 - accuracy: 0.5561 - val_loss: 2.5104 - val_accuracy: 0.5555\n",
            "Epoch 8/20\n",
            "9000/9000 [==============================] - 4s 410us/step - loss: 2.5494 - accuracy: 0.5537 - val_loss: 2.5826 - val_accuracy: 0.5474\n",
            "Epoch 9/20\n",
            "9000/9000 [==============================] - 4s 398us/step - loss: 2.5536 - accuracy: 0.5508 - val_loss: 2.4654 - val_accuracy: 0.5567\n",
            "Epoch 10/20\n",
            "9000/9000 [==============================] - 4s 411us/step - loss: 2.5049 - accuracy: 0.5524 - val_loss: 2.4516 - val_accuracy: 0.5513\n",
            "Epoch 11/20\n",
            "9000/9000 [==============================] - 4s 415us/step - loss: 2.5747 - accuracy: 0.5461 - val_loss: 2.4782 - val_accuracy: 0.5486\n",
            "Epoch 12/20\n",
            "9000/9000 [==============================] - 4s 414us/step - loss: 2.5285 - accuracy: 0.5418 - val_loss: 2.5365 - val_accuracy: 0.5380\n",
            "Epoch 13/20\n",
            "9000/9000 [==============================] - 4s 419us/step - loss: 2.6436 - accuracy: 0.5267 - val_loss: 2.5196 - val_accuracy: 0.5404\n",
            "Epoch 14/20\n",
            "9000/9000 [==============================] - 4s 407us/step - loss: 2.5604 - accuracy: 0.5372 - val_loss: 2.5058 - val_accuracy: 0.5409\n",
            "Epoch 15/20\n",
            "9000/9000 [==============================] - 4s 414us/step - loss: 2.5526 - accuracy: 0.5373 - val_loss: 2.7440 - val_accuracy: 0.4980\n",
            "Epoch 16/20\n",
            "9000/9000 [==============================] - 4s 417us/step - loss: 2.8131 - accuracy: 0.4961 - val_loss: 2.7848 - val_accuracy: 0.5008\n",
            "Epoch 17/20\n",
            "9000/9000 [==============================] - 4s 408us/step - loss: 2.7982 - accuracy: 0.4995 - val_loss: 2.7741 - val_accuracy: 0.5009\n",
            "Epoch 18/20\n",
            "9000/9000 [==============================] - 4s 400us/step - loss: 2.8428 - accuracy: 0.4960 - val_loss: 2.7419 - val_accuracy: 0.5039\n",
            "Epoch 19/20\n",
            "9000/9000 [==============================] - 4s 409us/step - loss: 2.7826 - accuracy: 0.5013 - val_loss: 2.7281 - val_accuracy: 0.5014\n",
            "Epoch 20/20\n",
            "9000/9000 [==============================] - 4s 411us/step - loss: 2.8123 - accuracy: 0.4965 - val_loss: 2.7427 - val_accuracy: 0.4968\n"
          ],
          "name": "stdout"
        }
      ]
    },
    {
      "cell_type": "code",
      "metadata": {
        "id": "dCZK_LjuS78a",
        "colab_type": "code",
        "outputId": "3e603072-0f4f-4366-de37-ab9be60f3776",
        "colab": {
          "base_uri": "https://localhost:8080/",
          "height": 265
        }
      },
      "source": [
        "plt.plot(history.history['loss'],color='r',label='Training Loss')\n",
        "plt.plot(history.history['val_loss'],color='b',label='Validation Loss')\n",
        "plt.legend()\n",
        "plt.show()"
      ],
      "execution_count": 46,
      "outputs": [
        {
          "output_type": "display_data",
          "data": {
            "image/png": "[encoded data removed]",
            "text/plain": [
              "<Figure size 432x288 with 1 Axes>"
            ]
          },
          "metadata": {
            "tags": [],
            "needs_background": "light"
          }
        }
      ]
    },
    {
      "cell_type": "code",
      "metadata": {
        "id": "sGBq-Y9RJdxh",
        "colab_type": "code",
        "colab": {}
      },
      "source": [
        "model1.load_weights('model1.hdf5')"
      ],
      "execution_count": 0,
      "outputs": []
    },
    {
      "cell_type": "code",
      "metadata": {
        "id": "RdiVyyV1TjEp",
        "colab_type": "code",
        "outputId": "9f3ba0c5-31ba-47d3-a99c-16ce6646f0f7",
        "colab": {
          "base_uri": "https://localhost:8080/",
          "height": 289
        }
      },
      "source": [
        "model2 = Sequential()\n",
        "model2.add(Embedding(vocab_en+2,300,input_length=maxi_fr))\n",
        "model2.add(GRU(64,return_sequences=True))\n",
        "model2.add(LSTM(64,return_sequences=True))\n",
        "model2.add(TimeDistributed(Dense(vocab_fr+2)))\n",
        "\n",
        "model2.compile(loss=sparse_categorical_crossentropy,optimizer='adam',metrics=['accuracy'])\n",
        "\n",
        "model2.summary()"
      ],
      "execution_count": 48,
      "outputs": [
        {
          "output_type": "stream",
          "text": [
            "Model: \"sequential_2\"\n",
            "_________________________________________________________________\n",
            "Layer (type)                 Output Shape              Param #   \n",
            "=================================================================\n",
            "embedding_2 (Embedding)      (None, 22, 300)           60600     \n",
            "_________________________________________________________________\n",
            "gru_2 (GRU)                  (None, 22, 64)            70080     \n",
            "_________________________________________________________________\n",
            "lstm_1 (LSTM)                (None, 22, 64)            33024     \n",
            "_________________________________________________________________\n",
            "time_distributed_2 (TimeDist (None, 22, 322)           20930     \n",
            "=================================================================\n",
            "Total params: 184,634\n",
            "Trainable params: 184,634\n",
            "Non-trainable params: 0\n",
            "_________________________________________________________________\n"
          ],
          "name": "stdout"
        }
      ]
    },
    {
      "cell_type": "code",
      "metadata": {
        "id": "lrohF-9uTyEk",
        "colab_type": "code",
        "outputId": "5eab2360-fa3a-4264-99f4-b1bfe6768d0f",
        "colab": {
          "base_uri": "https://localhost:8080/",
          "height": 768
        }
      },
      "source": [
        "history1=model2.fit(x=en_pad,y=fr_pad,epochs=20,validation_split=0.1,batch_size=128,callbacks=[mcp_save1])"
      ],
      "execution_count": 49,
      "outputs": [
        {
          "output_type": "stream",
          "text": [
            "/usr/local/lib/python3.6/dist-packages/tensorflow/python/framework/indexed_slices.py:434: UserWarning: Converting sparse IndexedSlices to a dense Tensor of unknown shape. This may consume a large amount of memory.\n",
            "  \"Converting sparse IndexedSlices to a dense Tensor of unknown shape. \"\n"
          ],
          "name": "stderr"
        },
        {
          "output_type": "stream",
          "text": [
            "Train on 9000 samples, validate on 1000 samples\n",
            "Epoch 1/20\n",
            "9000/9000 [==============================] - 7s 765us/step - loss: 3.9747 - accuracy: 0.3830 - val_loss: 3.1848 - val_accuracy: 0.3623\n",
            "Epoch 2/20\n",
            "9000/9000 [==============================] - 6s 699us/step - loss: 2.7292 - accuracy: 0.4345 - val_loss: 2.9830 - val_accuracy: 0.4600\n",
            "Epoch 3/20\n",
            "9000/9000 [==============================] - 6s 694us/step - loss: 2.4908 - accuracy: 0.4810 - val_loss: 2.2596 - val_accuracy: 0.4795\n",
            "Epoch 4/20\n",
            "9000/9000 [==============================] - 6s 701us/step - loss: 2.3379 - accuracy: 0.4793 - val_loss: 2.2746 - val_accuracy: 0.4784\n",
            "Epoch 5/20\n",
            "9000/9000 [==============================] - 6s 696us/step - loss: 2.8302 - accuracy: 0.4276 - val_loss: 2.9852 - val_accuracy: 0.4389\n",
            "Epoch 6/20\n",
            "9000/9000 [==============================] - 6s 704us/step - loss: 2.5668 - accuracy: 0.4770 - val_loss: 2.9328 - val_accuracy: 0.4407\n",
            "Epoch 7/20\n",
            "9000/9000 [==============================] - 6s 690us/step - loss: 2.5172 - accuracy: 0.4868 - val_loss: 2.5435 - val_accuracy: 0.4684\n",
            "Epoch 8/20\n",
            "9000/9000 [==============================] - 6s 693us/step - loss: 2.2851 - accuracy: 0.4700 - val_loss: 2.2848 - val_accuracy: 0.4686\n",
            "Epoch 9/20\n",
            "9000/9000 [==============================] - 6s 688us/step - loss: 2.2096 - accuracy: 0.4953 - val_loss: 2.0598 - val_accuracy: 0.5182\n",
            "Epoch 10/20\n",
            "9000/9000 [==============================] - 6s 693us/step - loss: 2.0913 - accuracy: 0.5221 - val_loss: 2.0981 - val_accuracy: 0.5088\n",
            "Epoch 11/20\n",
            "9000/9000 [==============================] - 6s 704us/step - loss: 2.0805 - accuracy: 0.5078 - val_loss: 2.0277 - val_accuracy: 0.5175\n",
            "Epoch 12/20\n",
            "9000/9000 [==============================] - 6s 693us/step - loss: 2.0646 - accuracy: 0.5235 - val_loss: 2.0141 - val_accuracy: 0.5305\n",
            "Epoch 13/20\n",
            "9000/9000 [==============================] - 6s 690us/step - loss: 2.0090 - accuracy: 0.5394 - val_loss: 1.9620 - val_accuracy: 0.5560\n",
            "Epoch 14/20\n",
            "9000/9000 [==============================] - 6s 693us/step - loss: 2.0870 - accuracy: 0.5426 - val_loss: 1.9920 - val_accuracy: 0.5408\n",
            "Epoch 15/20\n",
            "9000/9000 [==============================] - 6s 694us/step - loss: 2.0141 - accuracy: 0.5399 - val_loss: 1.9822 - val_accuracy: 0.5430\n",
            "Epoch 16/20\n",
            "9000/9000 [==============================] - 6s 685us/step - loss: 2.5639 - accuracy: 0.5029 - val_loss: 1.9114 - val_accuracy: 0.5370\n",
            "Epoch 17/20\n",
            "9000/9000 [==============================] - 6s 701us/step - loss: 1.8948 - accuracy: 0.5428 - val_loss: 1.8495 - val_accuracy: 0.5516\n",
            "Epoch 18/20\n",
            "9000/9000 [==============================] - 6s 708us/step - loss: 1.8637 - accuracy: 0.5567 - val_loss: 1.9400 - val_accuracy: 0.5440\n",
            "Epoch 19/20\n",
            "9000/9000 [==============================] - 6s 685us/step - loss: 1.8831 - accuracy: 0.5559 - val_loss: 1.8759 - val_accuracy: 0.5592\n",
            "Epoch 20/20\n",
            "9000/9000 [==============================] - 6s 705us/step - loss: 1.9128 - accuracy: 0.5530 - val_loss: 1.8296 - val_accuracy: 0.5677\n"
          ],
          "name": "stdout"
        }
      ]
    },
    {
      "cell_type": "code",
      "metadata": {
        "id": "f3T1uWlnUu7T",
        "colab_type": "code",
        "outputId": "f2e5c2af-45bf-49c0-9aa1-98a31c5b2765",
        "colab": {
          "base_uri": "https://localhost:8080/",
          "height": 265
        }
      },
      "source": [
        "plt.plot(history1.history['loss'],color='r',label='Training Loss')\n",
        "plt.plot(history1.history['val_loss'],color='b',label='Validation Loss')\n",
        "plt.legend()\n",
        "plt.show()"
      ],
      "execution_count": 50,
      "outputs": [
        {
          "output_type": "display_data",
          "data": {
            "image/png": "[encoded data removed]",
            "text/plain": [
              "<Figure size 432x288 with 1 Axes>"
            ]
          },
          "metadata": {
            "tags": [],
            "needs_background": "light"
          }
        }
      ]
    },
    {
      "cell_type": "code",
      "metadata": {
        "id": "ZJ66YOcqJkBN",
        "colab_type": "code",
        "colab": {}
      },
      "source": [
        "model2.load_weights('model2.hdf5')"
      ],
      "execution_count": 0,
      "outputs": []
    },
    {
      "cell_type": "code",
      "metadata": {
        "id": "ocnYTXzzU9hC",
        "colab_type": "code",
        "outputId": "bb8c6df7-73e2-4116-bb82-1585744e3888",
        "colab": {
          "base_uri": "https://localhost:8080/",
          "height": 289
        }
      },
      "source": [
        "model3 = Sequential()\n",
        "model3.add(Embedding(vocab_en+2,300,input_length=maxi_fr))\n",
        "model3.add(Bidirectional(LSTM(64,return_sequences=True)))\n",
        "model3.add(LSTM(64,return_sequences=True))\n",
        "model3.add(Dense(vocab_fr+2))\n",
        "\n",
        "model3.compile(loss=sparse_categorical_crossentropy,optimizer='adam',metrics=['accuracy'])\n",
        "\n",
        "model3.summary()"
      ],
      "execution_count": 52,
      "outputs": [
        {
          "output_type": "stream",
          "text": [
            "Model: \"sequential_3\"\n",
            "_________________________________________________________________\n",
            "Layer (type)                 Output Shape              Param #   \n",
            "=================================================================\n",
            "embedding_3 (Embedding)      (None, 22, 300)           60600     \n",
            "_________________________________________________________________\n",
            "bidirectional_1 (Bidirection (None, 22, 128)           186880    \n",
            "_________________________________________________________________\n",
            "lstm_3 (LSTM)                (None, 22, 64)            49408     \n",
            "_________________________________________________________________\n",
            "dense_3 (Dense)              (None, 22, 322)           20930     \n",
            "=================================================================\n",
            "Total params: 317,818\n",
            "Trainable params: 317,818\n",
            "Non-trainable params: 0\n",
            "_________________________________________________________________\n"
          ],
          "name": "stdout"
        }
      ]
    },
    {
      "cell_type": "code",
      "metadata": {
        "id": "y8mbQi-nVJV8",
        "colab_type": "code",
        "outputId": "610e9150-ea0a-45f3-841f-c409a641df6b",
        "colab": {
          "base_uri": "https://localhost:8080/",
          "height": 768
        }
      },
      "source": [
        "history2=model3.fit(x=en_pad,y=fr_pad,epochs=20,validation_split=0.1,batch_size=128,callbacks=[mcp_save2])"
      ],
      "execution_count": 53,
      "outputs": [
        {
          "output_type": "stream",
          "text": [
            "/usr/local/lib/python3.6/dist-packages/tensorflow/python/framework/indexed_slices.py:434: UserWarning: Converting sparse IndexedSlices to a dense Tensor of unknown shape. This may consume a large amount of memory.\n",
            "  \"Converting sparse IndexedSlices to a dense Tensor of unknown shape. \"\n"
          ],
          "name": "stderr"
        },
        {
          "output_type": "stream",
          "text": [
            "Train on 9000 samples, validate on 1000 samples\n",
            "Epoch 1/20\n",
            "9000/9000 [==============================] - 9s 984us/step - loss: 3.5524 - accuracy: 0.3898 - val_loss: 2.4978 - val_accuracy: 0.4765\n",
            "Epoch 2/20\n",
            "9000/9000 [==============================] - 8s 893us/step - loss: 2.4448 - accuracy: 0.4837 - val_loss: 2.9470 - val_accuracy: 0.3450\n",
            "Epoch 3/20\n",
            "9000/9000 [==============================] - 8s 887us/step - loss: 2.8330 - accuracy: 0.3490 - val_loss: 2.4847 - val_accuracy: 0.3975\n",
            "Epoch 4/20\n",
            "9000/9000 [==============================] - 8s 894us/step - loss: 2.2047 - accuracy: 0.4777 - val_loss: 2.1345 - val_accuracy: 0.5415\n",
            "Epoch 5/20\n",
            "9000/9000 [==============================] - 8s 890us/step - loss: 1.8923 - accuracy: 0.5647 - val_loss: 1.7408 - val_accuracy: 0.5888\n",
            "Epoch 6/20\n",
            "9000/9000 [==============================] - 8s 881us/step - loss: 2.2314 - accuracy: 0.4747 - val_loss: 2.2217 - val_accuracy: 0.4465\n",
            "Epoch 7/20\n",
            "9000/9000 [==============================] - 8s 909us/step - loss: 2.0074 - accuracy: 0.4850 - val_loss: 2.0253 - val_accuracy: 0.5414\n",
            "Epoch 8/20\n",
            "9000/9000 [==============================] - 8s 884us/step - loss: 2.3881 - accuracy: 0.4854 - val_loss: 2.3586 - val_accuracy: 0.4397\n",
            "Epoch 9/20\n",
            "9000/9000 [==============================] - 8s 883us/step - loss: 2.0357 - accuracy: 0.4878 - val_loss: 1.7880 - val_accuracy: 0.5404\n",
            "Epoch 10/20\n",
            "9000/9000 [==============================] - 8s 891us/step - loss: 2.2661 - accuracy: 0.4660 - val_loss: 1.9224 - val_accuracy: 0.5253\n",
            "Epoch 11/20\n",
            "9000/9000 [==============================] - 8s 890us/step - loss: 2.2800 - accuracy: 0.4666 - val_loss: 2.2999 - val_accuracy: 0.4209\n",
            "Epoch 12/20\n",
            "9000/9000 [==============================] - 8s 890us/step - loss: 2.0395 - accuracy: 0.4711 - val_loss: 1.8730 - val_accuracy: 0.5106\n",
            "Epoch 13/20\n",
            "9000/9000 [==============================] - 8s 897us/step - loss: 2.3429 - accuracy: 0.4388 - val_loss: 2.5072 - val_accuracy: 0.4277\n",
            "Epoch 14/20\n",
            "9000/9000 [==============================] - 8s 889us/step - loss: 2.2970 - accuracy: 0.4588 - val_loss: 2.1200 - val_accuracy: 0.4921\n",
            "Epoch 15/20\n",
            "9000/9000 [==============================] - 8s 910us/step - loss: 2.0217 - accuracy: 0.5097 - val_loss: 1.8862 - val_accuracy: 0.5362\n",
            "Epoch 16/20\n",
            "9000/9000 [==============================] - 8s 898us/step - loss: 1.8060 - accuracy: 0.5504 - val_loss: 1.7392 - val_accuracy: 0.5629\n",
            "Epoch 17/20\n",
            "9000/9000 [==============================] - 8s 874us/step - loss: 1.8767 - accuracy: 0.5406 - val_loss: 1.8280 - val_accuracy: 0.5343\n",
            "Epoch 18/20\n",
            "9000/9000 [==============================] - 8s 888us/step - loss: 1.8358 - accuracy: 0.5333 - val_loss: 1.7044 - val_accuracy: 0.5619\n",
            "Epoch 19/20\n",
            "9000/9000 [==============================] - 8s 904us/step - loss: 1.9770 - accuracy: 0.5108 - val_loss: 2.0791 - val_accuracy: 0.4649\n",
            "Epoch 20/20\n",
            "9000/9000 [==============================] - 8s 891us/step - loss: 1.8347 - accuracy: 0.5073 - val_loss: 1.6831 - val_accuracy: 0.5372\n"
          ],
          "name": "stdout"
        }
      ]
    },
    {
      "cell_type": "code",
      "metadata": {
        "id": "g4XI3i_vVgQ6",
        "colab_type": "code",
        "outputId": "f3bec1eb-c47a-4b2d-dea7-156faaa12d41",
        "colab": {
          "base_uri": "https://localhost:8080/",
          "height": 265
        }
      },
      "source": [
        "plt.plot(history2.history['loss'],color='r',label='Training Loss')\n",
        "plt.plot(history2.history['val_loss'],color='b',label='Validation Loss')\n",
        "plt.legend()\n",
        "plt.show()"
      ],
      "execution_count": 54,
      "outputs": [
        {
          "output_type": "display_data",
          "data": {
            "image/png": "[encoded data removed]",
            "text/plain": [
              "<Figure size 432x288 with 1 Axes>"
            ]
          },
          "metadata": {
            "tags": [],
            "needs_background": "light"
          }
        }
      ]
    },
    {
      "cell_type": "code",
      "metadata": {
        "id": "Ipbh6j4rJ4NU",
        "colab_type": "code",
        "colab": {}
      },
      "source": [
        "model3.load_weights('model3.hdf5')"
      ],
      "execution_count": 0,
      "outputs": []
    },
    {
      "cell_type": "code",
      "metadata": {
        "id": "_iP_OtqvMBY6",
        "colab_type": "code",
        "colab": {}
      },
      "source": [
        "encoder_inputs = Input(shape=(22,))\n",
        "encoder_embedding = Embedding(vocab_en+2,300)(encoder_inputs)\n",
        "encoder_LSTM = LSTM(300, return_state=True)\n",
        "encoder_outputs, state_h, state_c = encoder_LSTM(encoder_embedding)\n",
        "\n",
        "decoder_inputs = Input(shape=(22, ))\n",
        "decoder_embedding = Embedding(vocab_fr+2,300)(decoder_inputs)\n",
        "decoder_LSTM = LSTM(300, return_state=True, return_sequences=True)\n",
        "decoder_outputs, _, _ = decoder_LSTM(decoder_embedding, initial_state=[state_h, state_c])\n",
        "\n",
        "# dense_layer = Dense(VOCAB_SIZE, activation='softmax')\n",
        "outputs = TimeDistributed(Dense(vocab_fr+2, activation='softmax'))(decoder_outputs)\n",
        "model4 = Model([encoder_inputs, decoder_inputs], outputs)"
      ],
      "execution_count": 0,
      "outputs": []
    },
    {
      "cell_type": "code",
      "metadata": {
        "id": "qTeb2CznJtSj",
        "colab_type": "code",
        "colab": {}
      },
      "source": [
        "model4.compile(loss=sparse_categorical_crossentropy,optimizer='adam',metrics=['accuracy'])\n",
        "model4.summary()"
      ],
      "execution_count": 0,
      "outputs": []
    },
    {
      "cell_type": "code",
      "metadata": {
        "id": "DL2cCKkPK5e3",
        "colab_type": "code",
        "colab": {}
      },
      "source": [
        "history3=model4.fit([en_pad,fr_pad.reshape(10000,22)],fr_pad,epochs=20,validation_split=0.1,batch_size=128,callbacks=[mcp_save3])"
      ],
      "execution_count": 0,
      "outputs": []
    },
    {
      "cell_type": "code",
      "metadata": {
        "id": "4rBbQItRTPJq",
        "colab_type": "code",
        "colab": {}
      },
      "source": [
        "plt.plot(history3.history['loss'],color='r',label='Training Loss')\n",
        "plt.plot(history3.history['val_loss'],color='b',label='Validation Loss')\n",
        "plt.legend()\n",
        "plt.show()"
      ],
      "execution_count": 0,
      "outputs": []
    },
    {
      "cell_type": "code",
      "metadata": {
        "id": "I3LMIle7IHXx",
        "colab_type": "code",
        "colab": {}
      },
      "source": [
        "dec= np.zeros((10000,22))\n",
        "dec.shape"
      ],
      "execution_count": 0,
      "outputs": []
    },
    {
      "cell_type": "code",
      "metadata": {
        "id": "uG88KpD2IBiF",
        "colab_type": "code",
        "colab": {}
      },
      "source": [
        "history4=model4.fit([en_pad,dec],fr_pad,epochs=20,validation_split=0.1,batch_size=128,callbacks=[mcp_save4])"
      ],
      "execution_count": 0,
      "outputs": []
    },
    {
      "cell_type": "code",
      "metadata": {
        "id": "OBYCOBfoIznw",
        "colab_type": "code",
        "colab": {}
      },
      "source": [
        "plt.plot(history4.history['loss'],color='r',label='Training Loss')\n",
        "plt.plot(history4.history['val_loss'],color='b',label='Validation Loss')\n",
        "plt.legend()\n",
        "plt.show()"
      ],
      "execution_count": 0,
      "outputs": []
    },
    {
      "cell_type": "code",
      "metadata": {
        "id": "KDbhG_jCQ0iu",
        "colab_type": "code",
        "colab": {}
      },
      "source": [
        "model4.load_weights('model5.hdf5')"
      ],
      "execution_count": 0,
      "outputs": []
    },
    {
      "cell_type": "markdown",
      "metadata": {
        "id": "gqee4hxURfBy",
        "colab_type": "text"
      },
      "source": [
        "## Inference Part"
      ]
    },
    {
      "cell_type": "code",
      "metadata": {
        "id": "f0-547JmVZen",
        "colab_type": "code",
        "colab": {}
      },
      "source": [
        "last_states_encoder = [state_h, state_c]\n",
        "inference_encoder_model = Model(input = encoder_inputs, output = last_states_encoder)"
      ],
      "execution_count": 0,
      "outputs": []
    },
    {
      "cell_type": "code",
      "metadata": {
        "id": "6ddohKqmRvvs",
        "colab_type": "code",
        "colab": {}
      },
      "source": [
        "decoder_initial_state = [Input(shape = (300,)), Input(shape = (300,))]  \n",
        "all_hidden_decoder, last_hidden_decoder, last_cell_decoder = decoder_LSTM(decoder_inputs, \n",
        "                                                                          initial_state = decoder_initial_state)\n",
        "\n",
        "decoder_dense = TimeDistributed(Dense(vocab_fr+2, activation='softmax'))\n",
        "logits = decoder_dense(all_hidden_decoder)\n",
        "\n",
        "inference_decoder_model = Model(input  = [input_seq_decoder] + decoder_initial_state, \n",
        "                                output = [logits, last_hidden_decoder, last_cell_decoder])"
      ],
      "execution_count": 0,
      "outputs": []
    },
    {
      "cell_type": "code",
      "metadata": {
        "id": "W-q8ixnAgoYu",
        "colab_type": "code",
        "colab": {}
      },
      "source": [
        "model4.load_weights('model4.hdf5')"
      ],
      "execution_count": 0,
      "outputs": []
    },
    {
      "cell_type": "code",
      "metadata": {
        "id": "hYAi1LW5WDKd",
        "colab_type": "code",
        "colab": {}
      },
      "source": [
        "decoder_state_input_h = Input(shape=(None,))\n",
        "decoder_state_input_c = Input(shape=(None,))\n",
        "decoder_states_inputs = [decoder_state_input_h, decoder_state_input_c]"
      ],
      "execution_count": 0,
      "outputs": []
    },
    {
      "cell_type": "code",
      "metadata": {
        "id": "cT4dz2mDglgk",
        "colab_type": "code",
        "colab": {}
      },
      "source": [
        "decoder_outputs2, state_h2, state_c2 = decoder_LSTM(decoder_embedding, initial_state=decoder_states_inputs)"
      ],
      "execution_count": 0,
      "outputs": []
    },
    {
      "cell_type": "code",
      "metadata": {
        "id": "Zg73wy3RhzqB",
        "colab_type": "code",
        "colab": {}
      },
      "source": [
        "decoder_states2 = [state_h2, state_c2]\n",
        "decoder_outputs2 = TimeDistributed(Dense(vocab_fr+2, activation='softmax'))(decoder_outputs2)"
      ],
      "execution_count": 0,
      "outputs": []
    },
    {
      "cell_type": "code",
      "metadata": {
        "id": "9QVinPogiFtK",
        "colab_type": "code",
        "colab": {}
      },
      "source": [
        "decoder_model = Model(\n",
        "    [decoder_inputs] + decoder_states_inputs,\n",
        "    [decoder_outputs2] + decoder_states2)"
      ],
      "execution_count": 0,
      "outputs": []
    },
    {
      "cell_type": "code",
      "metadata": {
        "id": "IUPmlFyZiMf9",
        "colab_type": "code",
        "outputId": "4f512d8a-01c7-48e1-cdbc-8d572a3cd46c",
        "colab": {
          "base_uri": "https://localhost:8080/",
          "height": 422
        }
      },
      "source": [
        "from keras.utils import plot_model\n",
        "plot_model(decoder_model, to_file='model_plot_dec.png', show_shapes=True, show_layer_names=True)"
      ],
      "execution_count": 0,
      "outputs": [
        {
          "output_type": "execute_result",
          "data": {
            "image/png": "[encoded data removed]",
            "text/plain": [
              "<IPython.core.display.Image object>"
            ]
          },
          "metadata": {
            "tags": []
          },
          "execution_count": 25
        }
      ]
    },
    {
      "cell_type": "code",
      "metadata": {
        "id": "G-rQrTDHi2E7",
        "colab_type": "code",
        "colab": {}
      },
      "source": [
        "input_word2idx=token_en.word_index\n",
        "out_word2idx=token_fr.word_index"
      ],
      "execution_count": 0,
      "outputs": []
    },
    {
      "cell_type": "code",
      "metadata": {
        "id": "0j-uqLL6ihnv",
        "colab_type": "code",
        "colab": {}
      },
      "source": [
        "idx2word_input = {v:k for k, v in input_word2idx.items()}\n",
        "idx2word_target = {v:k for k, v in out_word2idx.items()}"
      ],
      "execution_count": 0,
      "outputs": []
    },
    {
      "cell_type": "code",
      "metadata": {
        "id": "v9LgUVgwl2ja",
        "colab_type": "code",
        "colab": {}
      },
      "source": [
        "idx2word_target['START_']='00'"
      ],
      "execution_count": 0,
      "outputs": []
    },
    {
      "cell_type": "code",
      "metadata": {
        "id": "VRNQY6UfmCJj",
        "colab_type": "code",
        "colab": {}
      },
      "source": [
        "reverse_target_char_index = dict((i, word) for word, i in idx2word_target.items())"
      ],
      "execution_count": 0,
      "outputs": []
    },
    {
      "cell_type": "code",
      "metadata": {
        "id": "1ZfCqK-sjIk6",
        "colab_type": "code",
        "colab": {}
      },
      "source": [
        "def decode_sequence(input_seq):\n",
        "    # Encode the input as state vectors.\n",
        "    states_value = encoder_model.predict(input_seq)\n",
        "    \n",
        "    # Generate empty target sequence of length 1.\n",
        "    target_seq = np.zeros((1,1))\n",
        "    \n",
        "    # Populate the first character of target sequence with the start character.\n",
        "    target_seq[0, 0] = idx2word_target['START_']\n",
        "    \n",
        "    # Sampling loop for a batch of sequences\n",
        "    # (to simplify, here we assume a batch of size 1).\n",
        "    stop_condition = False\n",
        "    decoded_sentence = ''\n",
        "    \n",
        "    while not stop_condition:\n",
        "        output_tokens, h, c = decoder_model.predict([target_seq] + states_value)\n",
        "        # Sample a token\n",
        "        sampled_token_index = np.argmax(output_tokens[0, -1, :])\n",
        "        sampled_char = reverse_target_char_index[sampled_token_index]\n",
        "        decoded_sentence += ' '+sampled_char\n",
        "        \n",
        "        # Exit condition: either hit max length or find stop token.\n",
        "        if (sampled_char == '_END' or len(decoded_sentence) > 50):\n",
        "            stop_condition = True\n",
        "        \n",
        "        # Update the target sequence (of length 1).\n",
        "        target_seq = np.zeros((1,1))\n",
        "        target_seq[0, 0] = sampled_token_index\n",
        "        \n",
        "        # Update states\n",
        "        states_value = [h, c]\n",
        "    \n",
        "    return decoded_sentence"
      ],
      "execution_count": 0,
      "outputs": []
    },
    {
      "cell_type": "code",
      "metadata": {
        "id": "WAUt0eVKjW1g",
        "colab_type": "code",
        "outputId": "577867e0-4fd4-4c44-b954-a963df26a360",
        "colab": {
          "base_uri": "https://localhost:8080/",
          "height": 351
        }
      },
      "source": [
        "i = np.random.choice(len(english_sentences))\n",
        "input_seq = en_pad[i:i+1]\n",
        "translation = decode_sequence(input_seq)\n",
        "print('-')\n",
        "print('Input:', input_sentences[i])\n",
        "print('Response:', translation)"
      ],
      "execution_count": 0,
      "outputs": [
        {
          "output_type": "error",
          "ename": "KeyError",
          "evalue": "ignored",
          "traceback": [
            "\u001b[0;31m---------------------------------------------------------------------------\u001b[0m",
            "\u001b[0;31mKeyError\u001b[0m                                  Traceback (most recent call last)",
            "\u001b[0;32m<ipython-input-56-8a237ae097fc>\u001b[0m in \u001b[0;36m<module>\u001b[0;34m()\u001b[0m\n\u001b[1;32m      1\u001b[0m \u001b[0mi\u001b[0m \u001b[0;34m=\u001b[0m \u001b[0mnp\u001b[0m\u001b[0;34m.\u001b[0m\u001b[0mrandom\u001b[0m\u001b[0;34m.\u001b[0m\u001b[0mchoice\u001b[0m\u001b[0;34m(\u001b[0m\u001b[0mlen\u001b[0m\u001b[0;34m(\u001b[0m\u001b[0menglish_sentences\u001b[0m\u001b[0;34m)\u001b[0m\u001b[0;34m)\u001b[0m\u001b[0;34m\u001b[0m\u001b[0;34m\u001b[0m\u001b[0m\n\u001b[1;32m      2\u001b[0m \u001b[0minput_seq\u001b[0m \u001b[0;34m=\u001b[0m \u001b[0men_pad\u001b[0m\u001b[0;34m[\u001b[0m\u001b[0mi\u001b[0m\u001b[0;34m:\u001b[0m\u001b[0mi\u001b[0m\u001b[0;34m+\u001b[0m\u001b[0;36m1\u001b[0m\u001b[0;34m]\u001b[0m\u001b[0;34m\u001b[0m\u001b[0;34m\u001b[0m\u001b[0m\n\u001b[0;32m----> 3\u001b[0;31m \u001b[0mtranslation\u001b[0m \u001b[0;34m=\u001b[0m \u001b[0mdecode_sequence\u001b[0m\u001b[0;34m(\u001b[0m\u001b[0minput_seq\u001b[0m\u001b[0;34m)\u001b[0m\u001b[0;34m\u001b[0m\u001b[0;34m\u001b[0m\u001b[0m\n\u001b[0m\u001b[1;32m      4\u001b[0m \u001b[0mprint\u001b[0m\u001b[0;34m(\u001b[0m\u001b[0;34m'-'\u001b[0m\u001b[0;34m)\u001b[0m\u001b[0;34m\u001b[0m\u001b[0;34m\u001b[0m\u001b[0m\n\u001b[1;32m      5\u001b[0m \u001b[0mprint\u001b[0m\u001b[0;34m(\u001b[0m\u001b[0;34m'Input:'\u001b[0m\u001b[0;34m,\u001b[0m \u001b[0minput_sentences\u001b[0m\u001b[0;34m[\u001b[0m\u001b[0mi\u001b[0m\u001b[0;34m]\u001b[0m\u001b[0;34m)\u001b[0m\u001b[0;34m\u001b[0m\u001b[0;34m\u001b[0m\u001b[0m\n",
            "\u001b[0;32m<ipython-input-55-8655ce3f9a80>\u001b[0m in \u001b[0;36mdecode_sequence\u001b[0;34m(input_seq)\u001b[0m\n\u001b[1;32m     18\u001b[0m         \u001b[0;31m# Sample a token\u001b[0m\u001b[0;34m\u001b[0m\u001b[0;34m\u001b[0m\u001b[0;34m\u001b[0m\u001b[0m\n\u001b[1;32m     19\u001b[0m         \u001b[0msampled_token_index\u001b[0m \u001b[0;34m=\u001b[0m \u001b[0mnp\u001b[0m\u001b[0;34m.\u001b[0m\u001b[0margmax\u001b[0m\u001b[0;34m(\u001b[0m\u001b[0moutput_tokens\u001b[0m\u001b[0;34m[\u001b[0m\u001b[0;36m0\u001b[0m\u001b[0;34m,\u001b[0m \u001b[0;34m-\u001b[0m\u001b[0;36m1\u001b[0m\u001b[0;34m,\u001b[0m \u001b[0;34m:\u001b[0m\u001b[0;34m]\u001b[0m\u001b[0;34m)\u001b[0m\u001b[0;34m\u001b[0m\u001b[0;34m\u001b[0m\u001b[0m\n\u001b[0;32m---> 20\u001b[0;31m         \u001b[0msampled_char\u001b[0m \u001b[0;34m=\u001b[0m \u001b[0mreverse_target_char_index\u001b[0m\u001b[0;34m[\u001b[0m\u001b[0msampled_token_index\u001b[0m\u001b[0;34m]\u001b[0m\u001b[0;34m\u001b[0m\u001b[0;34m\u001b[0m\u001b[0m\n\u001b[0m\u001b[1;32m     21\u001b[0m         \u001b[0mdecoded_sentence\u001b[0m \u001b[0;34m+=\u001b[0m \u001b[0;34m' '\u001b[0m\u001b[0;34m+\u001b[0m\u001b[0msampled_char\u001b[0m\u001b[0;34m\u001b[0m\u001b[0;34m\u001b[0m\u001b[0m\n\u001b[1;32m     22\u001b[0m \u001b[0;34m\u001b[0m\u001b[0m\n",
            "\u001b[0;31mKeyError\u001b[0m: 13"
          ]
        }
      ]
    },
    {
      "cell_type": "code",
      "metadata": {
        "id": "leQhFRdwaQ0z",
        "colab_type": "code",
        "outputId": "a2e968ec-62d5-4e1c-8eab-b1f59a2b8eeb",
        "colab": {
          "base_uri": "https://localhost:8080/",
          "height": 181
        }
      },
      "source": [
        "decoder_inputs_single = Input(shape=(1,))\n",
        "decoder_inputs_single_x = decoder_embedding(decoder_inputs_single)"
      ],
      "execution_count": 0,
      "outputs": [
        {
          "output_type": "error",
          "ename": "TypeError",
          "evalue": "ignored",
          "traceback": [
            "\u001b[0;31m---------------------------------------------------------------------------\u001b[0m",
            "\u001b[0;31mTypeError\u001b[0m                                 Traceback (most recent call last)",
            "\u001b[0;32m<ipython-input-19-0148dfd63518>\u001b[0m in \u001b[0;36m<module>\u001b[0;34m()\u001b[0m\n\u001b[1;32m      1\u001b[0m \u001b[0mdecoder_inputs_single\u001b[0m \u001b[0;34m=\u001b[0m \u001b[0mInput\u001b[0m\u001b[0;34m(\u001b[0m\u001b[0mshape\u001b[0m\u001b[0;34m=\u001b[0m\u001b[0;34m(\u001b[0m\u001b[0;36m1\u001b[0m\u001b[0;34m,\u001b[0m\u001b[0;34m)\u001b[0m\u001b[0;34m)\u001b[0m\u001b[0;34m\u001b[0m\u001b[0;34m\u001b[0m\u001b[0m\n\u001b[0;32m----> 2\u001b[0;31m \u001b[0mdecoder_inputs_single_x\u001b[0m \u001b[0;34m=\u001b[0m \u001b[0mdecoder_embedding\u001b[0m\u001b[0;34m(\u001b[0m\u001b[0mdecoder_inputs_single\u001b[0m\u001b[0;34m)\u001b[0m\u001b[0;34m\u001b[0m\u001b[0;34m\u001b[0m\u001b[0m\n\u001b[0m",
            "\u001b[0;31mTypeError\u001b[0m: 'Tensor' object is not callable"
          ]
        }
      ]
    },
    {
      "cell_type": "code",
      "metadata": {
        "id": "R_rwM-xmfMxs",
        "colab_type": "code",
        "outputId": "5d252a3e-21a4-42c1-f8bf-083911d12dd8",
        "colab": {
          "base_uri": "https://localhost:8080/",
          "height": 34
        }
      },
      "source": [
        "type(Embedding(vocab_fr+2,300))"
      ],
      "execution_count": 0,
      "outputs": [
        {
          "output_type": "execute_result",
          "data": {
            "text/plain": [
              "keras.layers.embeddings.Embedding"
            ]
          },
          "metadata": {
            "tags": []
          },
          "execution_count": 96
        }
      ]
    },
    {
      "cell_type": "code",
      "metadata": {
        "id": "eWWi8ygXdSaL",
        "colab_type": "code",
        "outputId": "37c2b090-bd79-4dd2-a400-a98538edc1a3",
        "colab": {
          "base_uri": "https://localhost:8080/",
          "height": 164
        }
      },
      "source": [
        "x=decoder_embedding(decoder_inputs)"
      ],
      "execution_count": 0,
      "outputs": [
        {
          "output_type": "error",
          "ename": "TypeError",
          "evalue": "ignored",
          "traceback": [
            "\u001b[0;31m---------------------------------------------------------------------------\u001b[0m",
            "\u001b[0;31mTypeError\u001b[0m                                 Traceback (most recent call last)",
            "\u001b[0;32m<ipython-input-85-c1e0c60e9f1b>\u001b[0m in \u001b[0;36m<module>\u001b[0;34m()\u001b[0m\n\u001b[0;32m----> 1\u001b[0;31m \u001b[0mx\u001b[0m\u001b[0;34m=\u001b[0m\u001b[0mdecoder_embedding\u001b[0m\u001b[0;34m(\u001b[0m\u001b[0mdecoder_inputs\u001b[0m\u001b[0;34m)\u001b[0m\u001b[0;34m\u001b[0m\u001b[0;34m\u001b[0m\u001b[0m\n\u001b[0m",
            "\u001b[0;31mTypeError\u001b[0m: 'Tensor' object is not callable"
          ]
        }
      ]
    },
    {
      "cell_type": "code",
      "metadata": {
        "id": "kZevgoued6vo",
        "colab_type": "code",
        "colab": {}
      },
      "source": [
        "latent_dim=300"
      ],
      "execution_count": 0,
      "outputs": []
    },
    {
      "cell_type": "code",
      "metadata": {
        "id": "dFVNrR-bc75O",
        "colab_type": "code",
        "outputId": "16cd38ef-4636-4430-84ae-17b9ef60f1f0",
        "colab": {
          "base_uri": "https://localhost:8080/",
          "height": 232
        }
      },
      "source": [
        "decoder_hidden_state_inputs = Input(shape=(latent_dim,))\n",
        "decoder_cell_state_inputs = Input(shape=(latent_dim,))\n",
        "decoder_state_inputs = [decoder_hidden_state_inputs, decoder_cell_state_inputs]\n",
        "\n",
        "decoder_lstm_outputs, decoder_hidden_state, decoder_cell_state = decoder_LSTM(inputs=decoder_embedding(decoder_inputs),\n",
        "                                                                              initial_state=decoder_state_inputs,\n",
        "    )\n",
        "decoder_state = [decoder_hidden_state, decoder_cell_state]\n",
        "\n",
        "decoder_outputs = decoder_dense(inputs=decoder_lstm_outputs)\n",
        "\n",
        "decoder_model = Model(\n",
        "    inputs=[decoder_inputs] + decoder_state_inputs,\n",
        "    outputs=[decoder_dense_outputs] + decoder_state,\n",
        ")"
      ],
      "execution_count": 0,
      "outputs": [
        {
          "output_type": "error",
          "ename": "TypeError",
          "evalue": "ignored",
          "traceback": [
            "\u001b[0;31m---------------------------------------------------------------------------\u001b[0m",
            "\u001b[0;31mTypeError\u001b[0m                                 Traceback (most recent call last)",
            "\u001b[0;32m<ipython-input-89-3bbadd21ee0d>\u001b[0m in \u001b[0;36m<module>\u001b[0;34m()\u001b[0m\n\u001b[1;32m      3\u001b[0m \u001b[0mdecoder_state_inputs\u001b[0m \u001b[0;34m=\u001b[0m \u001b[0;34m[\u001b[0m\u001b[0mdecoder_hidden_state_inputs\u001b[0m\u001b[0;34m,\u001b[0m \u001b[0mdecoder_cell_state_inputs\u001b[0m\u001b[0;34m]\u001b[0m\u001b[0;34m\u001b[0m\u001b[0;34m\u001b[0m\u001b[0m\n\u001b[1;32m      4\u001b[0m \u001b[0;34m\u001b[0m\u001b[0m\n\u001b[0;32m----> 5\u001b[0;31m decoder_lstm_outputs, decoder_hidden_state, decoder_cell_state = decoder_LSTM(inputs=decoder_embedding(decoder_inputs),\n\u001b[0m\u001b[1;32m      6\u001b[0m                                                                               \u001b[0minitial_state\u001b[0m\u001b[0;34m=\u001b[0m\u001b[0mdecoder_state_inputs\u001b[0m\u001b[0;34m,\u001b[0m\u001b[0;34m\u001b[0m\u001b[0;34m\u001b[0m\u001b[0m\n\u001b[1;32m      7\u001b[0m     )\n",
            "\u001b[0;31mTypeError\u001b[0m: 'Tensor' object is not callable"
          ]
        }
      ]
    },
    {
      "cell_type": "code",
      "metadata": {
        "id": "AzrPGY3mWJI7",
        "colab_type": "code",
        "outputId": "1d770a14-786f-4828-f4ff-078b005a7acb",
        "colab": {
          "base_uri": "https://localhost:8080/",
          "height": 184
        }
      },
      "source": [
        "decoder_output, decoder_hidden_state, decoder_cell_state = decoder_LSTM(inputs=decoder_embedding(decoder_inputs),initial_state=decoder_states_inputs)"
      ],
      "execution_count": 0,
      "outputs": [
        {
          "output_type": "error",
          "ename": "TypeError",
          "evalue": "ignored",
          "traceback": [
            "\u001b[0;31m---------------------------------------------------------------------------\u001b[0m",
            "\u001b[0;31mTypeError\u001b[0m                                 Traceback (most recent call last)",
            "\u001b[0;32m<ipython-input-68-b7dd8ef80923>\u001b[0m in \u001b[0;36m<module>\u001b[0;34m()\u001b[0m\n\u001b[0;32m----> 1\u001b[0;31m \u001b[0mdecoder_output\u001b[0m\u001b[0;34m,\u001b[0m \u001b[0mdecoder_hidden_state\u001b[0m\u001b[0;34m,\u001b[0m \u001b[0mdecoder_cell_state\u001b[0m \u001b[0;34m=\u001b[0m \u001b[0mdecoder_LSTM\u001b[0m\u001b[0;34m(\u001b[0m\u001b[0minputs\u001b[0m\u001b[0;34m=\u001b[0m\u001b[0mdecoder_embedding\u001b[0m\u001b[0;34m(\u001b[0m\u001b[0mdecoder_inputs\u001b[0m\u001b[0;34m)\u001b[0m\u001b[0;34m,\u001b[0m\u001b[0minitial_state\u001b[0m\u001b[0;34m=\u001b[0m\u001b[0mdecoder_states_inputs\u001b[0m\u001b[0;34m)\u001b[0m\u001b[0;34m\u001b[0m\u001b[0;34m\u001b[0m\u001b[0m\n\u001b[0m",
            "\u001b[0;31mTypeError\u001b[0m: 'Tensor' object is not callable"
          ]
        }
      ]
    },
    {
      "cell_type": "code",
      "metadata": {
        "id": "wg0hTKAwYbjx",
        "colab_type": "code",
        "colab": {}
      },
      "source": [
        "encoder_model = Model(encoder_inputs, encoder_states)\n",
        "\n",
        "decoder_hidden_state_inputs = Input(shape=(latent_dim,))\n",
        "decoder_cell_state_inputs = Input(shape=(latent_dim,))\n",
        "decoder_state_inputs = [decoder_hidden_state_inputs, decoder_cell_state_inputs]\n",
        "\n",
        "decoder_lstm_outputs, decoder_hidden_state, decoder_cell_state = decoder_lstm(inputs=decoder_embedding(decoder_inputs),\n",
        "                                                                              initial_state=decoder_state_inputs,\n",
        "    )\n",
        "decoder_state = [decoder_hidden_state, decoder_cell_state]\n",
        "\n",
        "decoder_outputs = decoder_dense(inputs=decoder_lstm_outputs)\n",
        "\n",
        "decoder_model = Model(\n",
        "    inputs=[decoder_inputs] + decoder_state_inputs,\n",
        "    outputs=[decoder_dense_outputs] + decoder_state,\n",
        ")"
      ],
      "execution_count": 0,
      "outputs": []
    },
    {
      "cell_type": "code",
      "metadata": {
        "id": "3Nb3EYGiRpLq",
        "colab_type": "code",
        "colab": {}
      },
      "source": [
        "fr_new = fr_pad.reshape(10000,20)"
      ],
      "execution_count": 0,
      "outputs": []
    },
    {
      "cell_type": "code",
      "metadata": {
        "id": "v2hCxg62R8Ud",
        "colab_type": "code",
        "outputId": "b0dee51e-1fb1-4c4e-88bc-e69cbffcb473",
        "colab": {
          "base_uri": "https://localhost:8080/",
          "height": 34
        }
      },
      "source": [
        "fr_new.shape"
      ],
      "execution_count": 0,
      "outputs": [
        {
          "output_type": "execute_result",
          "data": {
            "text/plain": [
              "(10000, 20)"
            ]
          },
          "metadata": {
            "tags": []
          },
          "execution_count": 57
        }
      ]
    },
    {
      "cell_type": "code",
      "metadata": {
        "id": "g7HnhqqAWD__",
        "colab_type": "code",
        "colab": {}
      },
      "source": [
        "random = 'SOS i plan to visit france in spring EOS'\n",
        "random = token_en.texts_to_sequences([random])\n"
      ],
      "execution_count": 0,
      "outputs": []
    },
    {
      "cell_type": "code",
      "metadata": {
        "id": "D1iUNkX2jcVE",
        "colab_type": "code",
        "outputId": "42593d41-a149-42a8-a48a-27a23a465ec2",
        "colab": {
          "base_uri": "https://localhost:8080/",
          "height": 34
        }
      },
      "source": [
        "random"
      ],
      "execution_count": 168,
      "outputs": [
        {
          "output_type": "execute_result",
          "data": {
            "text/plain": [
              "[[2, 98, 128, 93, 110, 27, 4, 36, 3]]"
            ]
          },
          "metadata": {
            "tags": []
          },
          "execution_count": 168
        }
      ]
    },
    {
      "cell_type": "code",
      "metadata": {
        "id": "2Tn67lY364An",
        "colab_type": "code",
        "colab": {}
      },
      "source": [
        "flat_list = []\n",
        "for sublist in random:\n",
        "    for item in sublist:\n",
        "        flat_list.append(item)\n",
        "\n",
        "flat_list = [flat_list]\n"
      ],
      "execution_count": 0,
      "outputs": []
    },
    {
      "cell_type": "code",
      "metadata": {
        "id": "bHgmnOprhRU5",
        "colab_type": "code",
        "colab": {}
      },
      "source": [
        "r_pad = pad_sequences(flat_list,maxlen=maxi_fr,padding='post')"
      ],
      "execution_count": 0,
      "outputs": []
    },
    {
      "cell_type": "code",
      "metadata": {
        "id": "PnFgRni-hlFo",
        "colab_type": "code",
        "outputId": "571c371b-fea0-43e6-fab7-17ebc7b15c37",
        "colab": {
          "base_uri": "https://localhost:8080/",
          "height": 34
        }
      },
      "source": [
        "r_pad.shape"
      ],
      "execution_count": 171,
      "outputs": [
        {
          "output_type": "execute_result",
          "data": {
            "text/plain": [
              "(1, 22)"
            ]
          },
          "metadata": {
            "tags": []
          },
          "execution_count": 171
        }
      ]
    },
    {
      "cell_type": "code",
      "metadata": {
        "id": "jmq8bK7GQKU4",
        "colab_type": "code",
        "colab": {
          "base_uri": "https://localhost:8080/",
          "height": 51
        },
        "outputId": "a63d9923-c797-4656-b503-1e82a415ed85"
      },
      "source": [
        "r_pad"
      ],
      "execution_count": 172,
      "outputs": [
        {
          "output_type": "execute_result",
          "data": {
            "text/plain": [
              "array([[  2,  98, 128,  93, 110,  27,   4,  36,   3,   0,   0,   0,   0,\n",
              "          0,   0,   0,   0,   0,   0,   0,   0,   0]], dtype=int32)"
            ]
          },
          "metadata": {
            "tags": []
          },
          "execution_count": 172
        }
      ]
    },
    {
      "cell_type": "code",
      "metadata": {
        "id": "R7lBN4GqkpfL",
        "colab_type": "code",
        "outputId": "4ac1d8fb-7bfe-4f98-806f-6af8b8a31a11",
        "colab": {
          "base_uri": "https://localhost:8080/",
          "height": 34
        }
      },
      "source": [
        "en_pad[0].reshape(1,-1).shape"
      ],
      "execution_count": 0,
      "outputs": [
        {
          "output_type": "execute_result",
          "data": {
            "text/plain": [
              "(1, 20)"
            ]
          },
          "metadata": {
            "tags": []
          },
          "execution_count": 209
        }
      ]
    },
    {
      "cell_type": "code",
      "metadata": {
        "id": "RSf-XAg5hlps",
        "colab_type": "code",
        "outputId": "e6bb2da1-339f-41c4-97d2-d88d272b6b86",
        "colab": {
          "base_uri": "https://localhost:8080/",
          "height": 34
        }
      },
      "source": [
        "model2.predict(r_pad)[0].shape"
      ],
      "execution_count": 0,
      "outputs": [
        {
          "output_type": "execute_result",
          "data": {
            "text/plain": [
              "(20, 320)"
            ]
          },
          "metadata": {
            "tags": []
          },
          "execution_count": 157
        }
      ]
    },
    {
      "cell_type": "code",
      "metadata": {
        "id": "yTRXQJ7ahoPT",
        "colab_type": "code",
        "outputId": "b6fa685f-17bd-4999-fc32-3efab2fc2924",
        "colab": {
          "base_uri": "https://localhost:8080/",
          "height": 34
        }
      },
      "source": [
        "def logits_to_text(logits, tokenizer):\n",
        "    \"\"\"\n",
        "    Turn logits from a neural network into text using the tokenizer\n",
        "    :param logits: Logits from a neural network\n",
        "    :param tokenizer: Keras Tokenizer fit on the labels\n",
        "    :return: String that represents the text of the logits\n",
        "    \"\"\"\n",
        "    index_to_words = {id: word for word, id in tokenizer.word_index.items()}\n",
        "    index_to_words[0] = '<PAD>'\n",
        "\n",
        "    return ' '.join([index_to_words[prediction] for prediction in np.argmax(logits, 1)])\n",
        "\n",
        "print('`logits_to_text` function loaded.')"
      ],
      "execution_count": 173,
      "outputs": [
        {
          "output_type": "stream",
          "text": [
            "`logits_to_text` function loaded.\n"
          ],
          "name": "stdout"
        }
      ]
    },
    {
      "cell_type": "code",
      "metadata": {
        "id": "XOzTvo_5h50B",
        "colab_type": "code",
        "colab": {}
      },
      "source": [
        "logits_to_text(model2.predict(en_pad[0].reshape(1,-1)).reshape(22,322), token_fr)"
      ],
      "execution_count": 0,
      "outputs": []
    },
    {
      "cell_type": "code",
      "metadata": {
        "id": "RCR6gW9mKiff",
        "colab_type": "code",
        "colab": {
          "base_uri": "https://localhost:8080/",
          "height": 34
        },
        "outputId": "26581496-4613-4df1-84d0-4c426facce83"
      },
      "source": [
        "logits_to_text(model3.predict(r_pad)[0], token_fr)"
      ],
      "execution_count": 185,
      "outputs": [
        {
          "output_type": "execute_result",
          "data": {
            "text/plain": [
              "'sos en en en en en en en en <PAD> <PAD> <PAD> <PAD> <PAD> <PAD> <PAD> <PAD> <PAD> <PAD> <PAD> <PAD> <PAD>'"
            ]
          },
          "metadata": {
            "tags": []
          },
          "execution_count": 185
        }
      ]
    },
    {
      "cell_type": "code",
      "metadata": {
        "id": "fMxwsvFOKXnp",
        "colab_type": "code",
        "colab": {
          "base_uri": "https://localhost:8080/",
          "height": 54
        },
        "outputId": "02057434-6d3f-4a0e-ae50-2d42a9f02bb4"
      },
      "source": [
        "logits_to_text(model4.predict([r_pad,np.zeros((1,22))])[0], token_fr)"
      ],
      "execution_count": 188,
      "outputs": [
        {
          "output_type": "execute_result",
          "data": {
            "text/plain": [
              "'sos paris citrons <PAD> <PAD> <PAD> <PAD> <PAD> <PAD> <PAD> <PAD> <PAD> <PAD> <PAD> <PAD> <PAD> <PAD> <PAD> <PAD> <PAD> <PAD> <PAD>'"
            ]
          },
          "metadata": {
            "tags": []
          },
          "execution_count": 188
        }
      ]
    },
    {
      "cell_type": "code",
      "metadata": {
        "id": "-Jx-R0TTNkuc",
        "colab_type": "code",
        "colab": {
          "base_uri": "https://localhost:8080/",
          "height": 51
        },
        "outputId": "85a26372-ed9b-499a-eb8c-df405a26dfb8"
      },
      "source": [
        "french_sentences[0],english_sentences[0]"
      ],
      "execution_count": 155,
      "outputs": [
        {
          "output_type": "execute_result",
          "data": {
            "text/plain": [
              "(\"new jersey est parfois calme pendant l' automne , et il est neigeux en avril .\",\n",
              " 'new jersey is sometimes quiet during autumn , and it is snowy in april .')"
            ]
          },
          "metadata": {
            "tags": []
          },
          "execution_count": 155
        }
      ]
    },
    {
      "cell_type": "code",
      "metadata": {
        "id": "9y7vKsWuJVyg",
        "colab_type": "code",
        "colab": {
          "base_uri": "https://localhost:8080/",
          "height": 34
        },
        "outputId": "6129cddc-bb47-4f4c-efe9-be399222a657"
      },
      "source": [
        "model3.predict(r_pad).shape"
      ],
      "execution_count": 158,
      "outputs": [
        {
          "output_type": "execute_result",
          "data": {
            "text/plain": [
              "(1, 22, 322)"
            ]
          },
          "metadata": {
            "tags": []
          },
          "execution_count": 158
        }
      ]
    },
    {
      "cell_type": "code",
      "metadata": {
        "id": "uBpcBwhPiDOd",
        "colab_type": "code",
        "colab": {}
      },
      "source": [
        "index_to_words = {id: word for word, id in token_en.word_index.items()}"
      ],
      "execution_count": 0,
      "outputs": []
    },
    {
      "cell_type": "code",
      "metadata": {
        "id": "4fpZgknCj8bg",
        "colab_type": "code",
        "outputId": "3deda353-dcc0-49f7-eb8a-5c41099d45c9",
        "colab": {
          "base_uri": "https://localhost:8080/",
          "height": 34
        }
      },
      "source": [
        "french_sentences[0]"
      ],
      "execution_count": 75,
      "outputs": [
        {
          "output_type": "execute_result",
          "data": {
            "text/plain": [
              "\"new jersey est parfois calme pendant l' automne , et il est neigeux en avril .\""
            ]
          },
          "metadata": {
            "tags": []
          },
          "execution_count": 75
        }
      ]
    },
    {
      "cell_type": "code",
      "metadata": {
        "id": "qaYI59ICj97C",
        "colab_type": "code",
        "colab": {}
      },
      "source": [
        ""
      ],
      "execution_count": 0,
      "outputs": []
    }
  ]
}