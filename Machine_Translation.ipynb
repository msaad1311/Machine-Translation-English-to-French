{
  "nbformat": 4,
  "nbformat_minor": 0,
  "metadata": {
    "colab": {
      "name": "Machine Translation.ipynb",
      "provenance": [],
      "collapsed_sections": [],
      "authorship_tag": "ABX9TyPmFU3Y1zV+0ILjtNzaGInS",
      "include_colab_link": true
    },
    "kernelspec": {
      "name": "python3",
      "display_name": "Python 3"
    }
  },
  "cells": [
    {
      "cell_type": "markdown",
      "metadata": {
        "id": "view-in-github",
        "colab_type": "text"
      },
      "source": [
        "<a href=\"https://colab.research.google.com/github/msaad1311/Machine-Translation-English-to-French/blob/master/Machine_Translation.ipynb\" target=\"_parent\"><img src=\"https://colab.research.google.com/assets/colab-badge.svg\" alt=\"Open In Colab\"/></a>"
      ]
    },
    {
      "cell_type": "code",
      "metadata": {
        "id": "xpgtUA-C2WjK",
        "colab_type": "code",
        "colab": {}
      },
      "source": [
        "import collections\n",
        "import numpy as np\n",
        "from keras.preprocessing.text import Tokenizer\n",
        "from keras.preprocessing.sequence import pad_sequences\n",
        "from keras.models import Model\n",
        "from keras.layers import LSTM, GRU, Input, Dense, TimeDistributed, Activation, RepeatVector, Bidirectional,Flatten\n",
        "from keras.layers.embeddings import Embedding\n",
        "from keras.models import Sequential\n",
        "from keras.optimizers import Adam\n",
        "from keras.losses import sparse_categorical_crossentropy\n",
        "import matplotlib.pyplot as plt\n",
        "import tensorflow as tf"
      ],
      "execution_count": 0,
      "outputs": []
    },
    {
      "cell_type": "code",
      "metadata": {
        "id": "8cN3NEXI23JV",
        "colab_type": "code",
        "colab": {}
      },
      "source": [
        "with open('/content/small_vocab_en', \"r\") as f:\n",
        "        data = f.read()\n",
        "\n",
        "english_sentences = data.split('\\n')\n",
        "\n",
        "with open('/content/small_vocab_fr', \"r\") as f:\n",
        "        data = f.read()\n",
        "\n",
        "french_sentences = data.split('\\n')"
      ],
      "execution_count": 0,
      "outputs": []
    },
    {
      "cell_type": "code",
      "metadata": {
        "id": "SYVciRhZKWPd",
        "colab_type": "code",
        "colab": {
          "base_uri": "https://localhost:8080/",
          "height": 34
        },
        "outputId": "7de3a162-602a-41e5-8b1f-ed6aaf68cdd9"
      },
      "source": [
        "len(english_sentences),len(french_sentences)"
      ],
      "execution_count": 17,
      "outputs": [
        {
          "output_type": "execute_result",
          "data": {
            "text/plain": [
              "(137861, 137861)"
            ]
          },
          "metadata": {
            "tags": []
          },
          "execution_count": 17
        }
      ]
    },
    {
      "cell_type": "code",
      "metadata": {
        "id": "hEuAjW8a3YBb",
        "colab_type": "code",
        "outputId": "acbb8a7c-132a-4afa-b7a1-cd7a803bf6a4",
        "colab": {
          "base_uri": "https://localhost:8080/",
          "height": 85
        }
      },
      "source": [
        "for sample_i in range(2):\n",
        "    print('small_vocab_en Line {}:  {}'.format(sample_i + 1, english_sentences[sample_i]))\n",
        "    print('small_vocab_fr Line {}:  {}'.format(sample_i + 1, french_sentences[sample_i]))"
      ],
      "execution_count": 18,
      "outputs": [
        {
          "output_type": "stream",
          "text": [
            "small_vocab_en Line 1:  new jersey is sometimes quiet during autumn , and it is snowy in april .\n",
            "small_vocab_fr Line 1:  new jersey est parfois calme pendant l' automne , et il est neigeux en avril .\n",
            "small_vocab_en Line 2:  the united states is usually chilly during july , and it is usually freezing in november .\n",
            "small_vocab_fr Line 2:  les états-unis est généralement froid en juillet , et il gèle habituellement en novembre .\n"
          ],
          "name": "stdout"
        }
      ]
    },
    {
      "cell_type": "code",
      "metadata": {
        "id": "7gNgTvtYLr5O",
        "colab_type": "code",
        "colab": {
          "base_uri": "https://localhost:8080/",
          "height": 34
        },
        "outputId": "25f06d8f-352a-47d9-a326-07d6cfcc3794"
      },
      "source": [
        "english_sentences=english_sentences[0:1000]\n",
        "french_sentences=french_sentences[0:1000]\n",
        "len(english_sentences),len(french_sentences)"
      ],
      "execution_count": 19,
      "outputs": [
        {
          "output_type": "execute_result",
          "data": {
            "text/plain": [
              "(1000, 1000)"
            ]
          },
          "metadata": {
            "tags": []
          },
          "execution_count": 19
        }
      ]
    },
    {
      "cell_type": "code",
      "metadata": {
        "id": "VAV4asjgKoiq",
        "colab_type": "code",
        "colab": {}
      },
      "source": [
        "token_en = Tokenizer()\n",
        "eng = token_en.fit_on_texts(english_sentences)\n",
        "eng = token_en.texts_to_sequences(english_sentences)"
      ],
      "execution_count": 0,
      "outputs": []
    },
    {
      "cell_type": "code",
      "metadata": {
        "id": "TkcLyt0iL0dB",
        "colab_type": "code",
        "colab": {
          "base_uri": "https://localhost:8080/",
          "height": 34
        },
        "outputId": "a87e66d8-9e59-4fd6-ce4b-7e8edf239b7b"
      },
      "source": [
        "maxi_en= len(max(eng,key=len))\n",
        "print(maxi_en)"
      ],
      "execution_count": 22,
      "outputs": [
        {
          "output_type": "stream",
          "text": [
            "15\n"
          ],
          "name": "stdout"
        }
      ]
    },
    {
      "cell_type": "code",
      "metadata": {
        "id": "1NyQo038MErE",
        "colab_type": "code",
        "colab": {
          "base_uri": "https://localhost:8080/",
          "height": 187
        },
        "outputId": "3ce8decd-5c57-4ec1-9a04-3e6cdf57400e"
      },
      "source": [
        "en_pad = pad_sequences(eng,maxlen=maxi_fr,truncating='post',padding='post')\n",
        "print(en_pad[0:10])"
      ],
      "execution_count": 60,
      "outputs": [
        {
          "output_type": "stream",
          "text": [
            "[[15 16  1 10 23  4 41  7  3  1 46  2 54  0  0  0  0  0  0]\n",
            " [ 6 37 38  1  9 52  4 26  7  3  1  9 34  2 42  0  0  0  0]\n",
            " [20  1  9 23  4 59  7  3  1  9 27  2 48  0  0  0  0  0  0]\n",
            " [ 6 37 38  1 10 61  4 48  7  3  1 55  2 56  0  0  0  0  0]\n",
            " [47 11 14 13  1  6 80  5 39 11 14  1  6 93  0  0  0  0  0]\n",
            " [57 12 13  1  6 83  5 39 12  1  6 80  0  0  0  0  0  0  0]\n",
            " [17  1 66  4 62  5  3  1  9 52  2 26  0  0  0  0  0  0  0]\n",
            " [15 16  1 35  4 28  7  3  1  8 27  2 59  0  0  0  0  0  0]\n",
            " [31 11 14 13  1  6 81  5 39 11 14  1  6 80  0  0  0  0  0]\n",
            " [ 6 37 38  1 10 35  4 43  7  3  1 10 63  2 42  0  0  0  0]]\n"
          ],
          "name": "stdout"
        }
      ]
    },
    {
      "cell_type": "code",
      "metadata": {
        "id": "CK3ydArbM4w_",
        "colab_type": "code",
        "colab": {
          "base_uri": "https://localhost:8080/",
          "height": 34
        },
        "outputId": "4ecee538-c144-445c-b002-f5d1bf209042"
      },
      "source": [
        "token_fr = Tokenizer()\n",
        "fr = token_fr.fit_on_texts(french_sentences)\n",
        "fr = token_fr.texts_to_sequences(french_sentences)\n",
        "print(len(fr))"
      ],
      "execution_count": 28,
      "outputs": [
        {
          "output_type": "stream",
          "text": [
            "1000\n"
          ],
          "name": "stdout"
        }
      ]
    },
    {
      "cell_type": "code",
      "metadata": {
        "id": "WjdCvaGpNjP4",
        "colab_type": "code",
        "colab": {
          "base_uri": "https://localhost:8080/",
          "height": 34
        },
        "outputId": "e8404614-a9f2-4555-ecbc-593a9862c37b"
      },
      "source": [
        "maxi_fr = len(max(fr,key=len))\n",
        "print(maxi_fr)"
      ],
      "execution_count": 29,
      "outputs": [
        {
          "output_type": "stream",
          "text": [
            "19\n"
          ],
          "name": "stdout"
        }
      ]
    },
    {
      "cell_type": "code",
      "metadata": {
        "id": "H4vNi5IYNn2B",
        "colab_type": "code",
        "colab": {
          "base_uri": "https://localhost:8080/",
          "height": 357
        },
        "outputId": "86949e81-d83b-458a-cb81-d2b1f2609b5f"
      },
      "source": [
        "fr_pad = pad_sequences(fr,maxlen=maxi_fr,truncating='post',padding='post')\n",
        "print(fr_pad[0:10])"
      ],
      "execution_count": 30,
      "outputs": [
        {
          "output_type": "stream",
          "text": [
            "[[ 28  26   1   9  54  34  11  22   6   3   1 116   2  55   0   0   0   0\n",
            "    0]\n",
            " [  4  40  41   1  12  20   2  35   6   3  91  64   2  45   0   0   0   0\n",
            "    0]\n",
            " [ 95   1  12  54   2  59   6   3   1  12  19   2  49   0   0   0   0   0\n",
            "    0]\n",
            " [  4  40  41   1   9 204   2  49   6   3 100  20   2  56   0   0   0   0\n",
            "    0]\n",
            " [ 52  13  15  17   1  10  79   5  43  13  15   1   7  96   0   0   0   0\n",
            "    0]\n",
            " [ 24  17  16   1  81   5  43  16   1  10  79   0   0   0   0   0   0   0\n",
            "    0]\n",
            " [ 25   1  65   2  60   5   3   1  12  20   2  35   0   0   0   0   0   0\n",
            "    0]\n",
            " [ 28  26   1  53  14  36   6   3   1   8 119   2  59   0   0   0   0   0\n",
            "    0]\n",
            " [ 48  17   1  13  15  10  80   5  43  13  15   1  10  79   0   0   0   0\n",
            "    0]\n",
            " [  4  40  41   1   9  53   2  46   6   3   1   9  19   2  45   0   0   0\n",
            "    0]]\n"
          ],
          "name": "stdout"
        }
      ]
    },
    {
      "cell_type": "code",
      "metadata": {
        "id": "irf0r66YN0BJ",
        "colab_type": "code",
        "colab": {
          "base_uri": "https://localhost:8080/",
          "height": 51
        },
        "outputId": "be533e73-6798-4975-9027-72dd10554596"
      },
      "source": [
        "vocab_en = len(token_en.word_index)\n",
        "print(vocab_en)\n",
        "\n",
        "vocab_fr = len(token_fr.word_index)\n",
        "print(vocab_fr)"
      ],
      "execution_count": 32,
      "outputs": [
        {
          "output_type": "stream",
          "text": [
            "170\n",
            "255\n"
          ],
          "name": "stdout"
        }
      ]
    },
    {
      "cell_type": "code",
      "metadata": {
        "id": "1EFaYx6fQxWA",
        "colab_type": "code",
        "colab": {}
      },
      "source": [
        "en_pad=np.array(en_pad)"
      ],
      "execution_count": 0,
      "outputs": []
    },
    {
      "cell_type": "code",
      "metadata": {
        "id": "g2mlKYgYQ1vX",
        "colab_type": "code",
        "colab": {}
      },
      "source": [
        "en_pad=en_pad.reshape(en_pad.shape[0],en_pad.shape[1])"
      ],
      "execution_count": 0,
      "outputs": []
    },
    {
      "cell_type": "code",
      "metadata": {
        "id": "7TNc2kCsRO4Y",
        "colab_type": "code",
        "colab": {
          "base_uri": "https://localhost:8080/",
          "height": 34
        },
        "outputId": "278fcc24-2425-46a7-f3cf-082aa9e723fb"
      },
      "source": [
        "en_pad.shape"
      ],
      "execution_count": 58,
      "outputs": [
        {
          "output_type": "execute_result",
          "data": {
            "text/plain": [
              "(1000, 15)"
            ]
          },
          "metadata": {
            "tags": []
          },
          "execution_count": 58
        }
      ]
    },
    {
      "cell_type": "code",
      "metadata": {
        "id": "tSpORgc-RQK2",
        "colab_type": "code",
        "colab": {
          "base_uri": "https://localhost:8080/",
          "height": 34
        },
        "outputId": "b24fccf9-8535-4085-e62e-fed5238552d4"
      },
      "source": [
        "fr_pad=np.array(fr_pad)\n",
        "fr_pad=fr_pad.reshape(fr_pad.shape[0],fr_pad.shape[1],1)\n",
        "fr_pad.shape"
      ],
      "execution_count": 53,
      "outputs": [
        {
          "output_type": "execute_result",
          "data": {
            "text/plain": [
              "(1000, 19, 1)"
            ]
          },
          "metadata": {
            "tags": []
          },
          "execution_count": 53
        }
      ]
    },
    {
      "cell_type": "code",
      "metadata": {
        "id": "ETxi3MNGOb2L",
        "colab_type": "code",
        "colab": {}
      },
      "source": [
        "model1 = Sequential()\n",
        "model1.add(Embedding(vocab_en+2,300,input_length=maxi_fr))\n",
        "model1.add(GRU(64,activation='relu',return_sequences=True))\n",
        "model1.add(TimeDistributed(Dense(vocab_fr+2)))"
      ],
      "execution_count": 0,
      "outputs": []
    },
    {
      "cell_type": "code",
      "metadata": {
        "id": "TK6ww-BsPriN",
        "colab_type": "code",
        "colab": {}
      },
      "source": [
        "model1.compile(loss=sparse_categorical_crossentropy,optimizer='adam',metrics=['accuracy'])"
      ],
      "execution_count": 0,
      "outputs": []
    },
    {
      "cell_type": "code",
      "metadata": {
        "id": "FppB6etUP3E0",
        "colab_type": "code",
        "colab": {
          "base_uri": "https://localhost:8080/",
          "height": 255
        },
        "outputId": "48d5a5ff-aa2a-46c1-9b12-20912c6395ed"
      },
      "source": [
        "model1.summary()"
      ],
      "execution_count": 76,
      "outputs": [
        {
          "output_type": "stream",
          "text": [
            "Model: \"sequential_9\"\n",
            "_________________________________________________________________\n",
            "Layer (type)                 Output Shape              Param #   \n",
            "=================================================================\n",
            "embedding_8 (Embedding)      (None, 19, 300)           51600     \n",
            "_________________________________________________________________\n",
            "gru_7 (GRU)                  (None, 19, 64)            70080     \n",
            "_________________________________________________________________\n",
            "time_distributed_5 (TimeDist (None, 19, 257)           16705     \n",
            "=================================================================\n",
            "Total params: 138,385\n",
            "Trainable params: 138,385\n",
            "Non-trainable params: 0\n",
            "_________________________________________________________________\n"
          ],
          "name": "stdout"
        }
      ]
    },
    {
      "cell_type": "code",
      "metadata": {
        "id": "zDzB-w3gP51j",
        "colab_type": "code",
        "colab": {
          "base_uri": "https://localhost:8080/",
          "height": 1000
        },
        "outputId": "066d2fca-50b8-4fe5-a279-b46d8788e4cc"
      },
      "source": [
        "history=model1.fit(x=en_pad,y=fr_pad,epochs=50,validation_split=0.2)"
      ],
      "execution_count": 84,
      "outputs": [
        {
          "output_type": "stream",
          "text": [
            "Train on 800 samples, validate on 200 samples\n",
            "Epoch 1/50\n",
            "800/800 [==============================] - 1s 987us/step - loss: 3.1655 - accuracy: 0.4830 - val_loss: 3.4296 - val_accuracy: 0.4863\n",
            "Epoch 2/50\n",
            "800/800 [==============================] - 1s 977us/step - loss: 3.4357 - accuracy: 0.4837 - val_loss: 3.3724 - val_accuracy: 0.4871\n",
            "Epoch 3/50\n",
            "800/800 [==============================] - 1s 1ms/step - loss: 3.2715 - accuracy: 0.4812 - val_loss: 3.2622 - val_accuracy: 0.4811\n",
            "Epoch 4/50\n",
            "800/800 [==============================] - 1s 992us/step - loss: 3.1498 - accuracy: 0.4811 - val_loss: 3.2075 - val_accuracy: 0.4805\n",
            "Epoch 5/50\n",
            "800/800 [==============================] - 1s 986us/step - loss: 3.1179 - accuracy: 0.4832 - val_loss: 3.1308 - val_accuracy: 0.4824\n",
            "Epoch 6/50\n",
            "800/800 [==============================] - 1s 983us/step - loss: 3.1122 - accuracy: 0.4868 - val_loss: 3.3605 - val_accuracy: 0.4818\n",
            "Epoch 7/50\n",
            "800/800 [==============================] - 1s 984us/step - loss: 3.1975 - accuracy: 0.4898 - val_loss: 3.1665 - val_accuracy: 0.4908\n",
            "Epoch 8/50\n",
            "800/800 [==============================] - 1s 983us/step - loss: 3.0783 - accuracy: 0.4964 - val_loss: 3.1307 - val_accuracy: 0.4882\n",
            "Epoch 9/50\n",
            "800/800 [==============================] - 1s 992us/step - loss: 3.0480 - accuracy: 0.4972 - val_loss: 3.1271 - val_accuracy: 0.4900\n",
            "Epoch 10/50\n",
            "800/800 [==============================] - 1s 1ms/step - loss: 3.0517 - accuracy: 0.4964 - val_loss: 3.1200 - val_accuracy: 0.4900\n",
            "Epoch 11/50\n",
            "800/800 [==============================] - 1s 971us/step - loss: 3.0614 - accuracy: 0.4962 - val_loss: 3.1579 - val_accuracy: 0.4911\n",
            "Epoch 12/50\n",
            "800/800 [==============================] - 1s 981us/step - loss: 3.0810 - accuracy: 0.4928 - val_loss: 3.1719 - val_accuracy: 0.4892\n",
            "Epoch 13/50\n",
            "800/800 [==============================] - 1s 996us/step - loss: 3.1032 - accuracy: 0.4897 - val_loss: 3.1821 - val_accuracy: 0.4876\n",
            "Epoch 14/50\n",
            "800/800 [==============================] - 1s 984us/step - loss: 3.1100 - accuracy: 0.4843 - val_loss: 3.1758 - val_accuracy: 0.4850\n",
            "Epoch 15/50\n",
            "800/800 [==============================] - 1s 1ms/step - loss: 3.2048 - accuracy: 0.4825 - val_loss: 3.4597 - val_accuracy: 0.4687\n",
            "Epoch 16/50\n",
            "800/800 [==============================] - 1s 982us/step - loss: 4.5113 - accuracy: 0.4248 - val_loss: 4.5871 - val_accuracy: 0.4276\n",
            "Epoch 17/50\n",
            "800/800 [==============================] - 1s 986us/step - loss: 4.1180 - accuracy: 0.4276 - val_loss: 3.8948 - val_accuracy: 0.4355\n",
            "Epoch 18/50\n",
            "800/800 [==============================] - 1s 986us/step - loss: 3.8566 - accuracy: 0.4285 - val_loss: 5.2391 - val_accuracy: 0.3979\n",
            "Epoch 19/50\n",
            "800/800 [==============================] - 1s 994us/step - loss: 5.3406 - accuracy: 0.3707 - val_loss: 4.9619 - val_accuracy: 0.3924\n",
            "Epoch 20/50\n",
            "800/800 [==============================] - 1s 985us/step - loss: 4.5502 - accuracy: 0.3966 - val_loss: 4.4267 - val_accuracy: 0.4084\n",
            "Epoch 21/50\n",
            "800/800 [==============================] - 1s 985us/step - loss: 4.2413 - accuracy: 0.4068 - val_loss: 4.2305 - val_accuracy: 0.4147\n",
            "Epoch 22/50\n",
            "800/800 [==============================] - 1s 993us/step - loss: 4.0193 - accuracy: 0.4160 - val_loss: 4.0314 - val_accuracy: 0.4197\n",
            "Epoch 23/50\n",
            "800/800 [==============================] - 1s 1ms/step - loss: 3.7838 - accuracy: 0.4255 - val_loss: 3.8067 - val_accuracy: 0.4287\n",
            "Epoch 24/50\n",
            "800/800 [==============================] - 1s 1ms/step - loss: 3.6172 - accuracy: 0.4322 - val_loss: 3.6494 - val_accuracy: 0.4353\n",
            "Epoch 25/50\n",
            "800/800 [==============================] - 1s 1ms/step - loss: 3.4779 - accuracy: 0.4414 - val_loss: 3.5462 - val_accuracy: 0.4424\n",
            "Epoch 26/50\n",
            "800/800 [==============================] - 1s 1ms/step - loss: 3.4644 - accuracy: 0.4429 - val_loss: 3.6069 - val_accuracy: 0.4384\n",
            "Epoch 27/50\n",
            "800/800 [==============================] - 1s 1ms/step - loss: 3.4543 - accuracy: 0.4395 - val_loss: 3.5610 - val_accuracy: 0.4366\n",
            "Epoch 28/50\n",
            "800/800 [==============================] - 1s 1ms/step - loss: 3.4551 - accuracy: 0.4405 - val_loss: 3.5305 - val_accuracy: 0.4329\n",
            "Epoch 29/50\n",
            "800/800 [==============================] - 1s 1ms/step - loss: 3.4691 - accuracy: 0.4327 - val_loss: 3.5416 - val_accuracy: 0.4292\n",
            "Epoch 30/50\n",
            "800/800 [==============================] - 1s 1ms/step - loss: 3.5811 - accuracy: 0.4076 - val_loss: 3.7027 - val_accuracy: 0.3911\n",
            "Epoch 31/50\n",
            "800/800 [==============================] - 1s 1ms/step - loss: 3.6736 - accuracy: 0.3916 - val_loss: 3.7154 - val_accuracy: 0.3866\n",
            "Epoch 32/50\n",
            "800/800 [==============================] - 1s 985us/step - loss: 3.6723 - accuracy: 0.3820 - val_loss: 3.6598 - val_accuracy: 0.3903\n",
            "Epoch 33/50\n",
            "800/800 [==============================] - 1s 988us/step - loss: 3.5630 - accuracy: 0.3966 - val_loss: 3.6082 - val_accuracy: 0.3963\n",
            "Epoch 34/50\n",
            "800/800 [==============================] - 1s 987us/step - loss: 3.5538 - accuracy: 0.4006 - val_loss: 3.5823 - val_accuracy: 0.4113\n",
            "Epoch 35/50\n",
            "800/800 [==============================] - 1s 975us/step - loss: 3.4772 - accuracy: 0.4154 - val_loss: 3.4862 - val_accuracy: 0.4255\n",
            "Epoch 36/50\n",
            "800/800 [==============================] - 1s 988us/step - loss: 3.4451 - accuracy: 0.4137 - val_loss: 3.5214 - val_accuracy: 0.4087\n",
            "Epoch 37/50\n",
            "800/800 [==============================] - 1s 987us/step - loss: 3.6685 - accuracy: 0.4003 - val_loss: 3.7569 - val_accuracy: 0.4395\n",
            "Epoch 38/50\n",
            "800/800 [==============================] - 1s 1ms/step - loss: 3.5799 - accuracy: 0.4484 - val_loss: 3.6405 - val_accuracy: 0.4539\n",
            "Epoch 39/50\n",
            "800/800 [==============================] - 1s 982us/step - loss: 3.4899 - accuracy: 0.4533 - val_loss: 3.5523 - val_accuracy: 0.4547\n",
            "Epoch 40/50\n",
            "800/800 [==============================] - 1s 997us/step - loss: 3.4310 - accuracy: 0.4564 - val_loss: 3.5218 - val_accuracy: 0.4532\n",
            "Epoch 41/50\n",
            "800/800 [==============================] - 1s 1ms/step - loss: 3.4166 - accuracy: 0.4557 - val_loss: 3.4878 - val_accuracy: 0.4542\n",
            "Epoch 42/50\n",
            "800/800 [==============================] - 1s 1ms/step - loss: 3.3879 - accuracy: 0.4520 - val_loss: 3.4225 - val_accuracy: 0.4521\n",
            "Epoch 43/50\n",
            "800/800 [==============================] - 1s 977us/step - loss: 3.3844 - accuracy: 0.4486 - val_loss: 3.4293 - val_accuracy: 0.4516\n",
            "Epoch 44/50\n",
            "800/800 [==============================] - 1s 977us/step - loss: 3.3955 - accuracy: 0.4480 - val_loss: 3.4387 - val_accuracy: 0.4505\n",
            "Epoch 45/50\n",
            "800/800 [==============================] - 1s 985us/step - loss: 3.4164 - accuracy: 0.4509 - val_loss: 3.4389 - val_accuracy: 0.4537\n",
            "Epoch 46/50\n",
            "800/800 [==============================] - 1s 981us/step - loss: 3.4027 - accuracy: 0.4478 - val_loss: 3.5112 - val_accuracy: 0.4426\n",
            "Epoch 47/50\n",
            "800/800 [==============================] - 1s 1ms/step - loss: 3.5083 - accuracy: 0.4411 - val_loss: 3.5002 - val_accuracy: 0.4450\n",
            "Epoch 48/50\n",
            "800/800 [==============================] - 1s 981us/step - loss: 3.4267 - accuracy: 0.4424 - val_loss: 3.4268 - val_accuracy: 0.4442\n",
            "Epoch 49/50\n",
            "800/800 [==============================] - 1s 990us/step - loss: 3.3619 - accuracy: 0.4433 - val_loss: 3.4103 - val_accuracy: 0.4484\n",
            "Epoch 50/50\n",
            "800/800 [==============================] - 1s 988us/step - loss: 3.3565 - accuracy: 0.4434 - val_loss: 3.4056 - val_accuracy: 0.4471\n"
          ],
          "name": "stdout"
        }
      ]
    },
    {
      "cell_type": "code",
      "metadata": {
        "id": "dCZK_LjuS78a",
        "colab_type": "code",
        "colab": {
          "base_uri": "https://localhost:8080/",
          "height": 265
        },
        "outputId": "65f92680-5603-49a5-dbda-dc685d0fcac7"
      },
      "source": [
        "plt.plot(history.history['loss'],color='r',label='Training Loss')\n",
        "plt.plot(history.history['val_loss'],color='b',label='Validation Loss')\n",
        "plt.legend()\n",
        "plt.show()"
      ],
      "execution_count": 85,
      "outputs": [
        {
          "output_type": "display_data",
          "data": {
            "image/png": "[encoded data removed]",
            "text/plain": [
              "<Figure size 432x288 with 1 Axes>"
            ]
          },
          "metadata": {
            "tags": [],
            "needs_background": "light"
          }
        }
      ]
    },
    {
      "cell_type": "code",
      "metadata": {
        "id": "RdiVyyV1TjEp",
        "colab_type": "code",
        "colab": {
          "base_uri": "https://localhost:8080/",
          "height": 289
        },
        "outputId": "806552f5-cd8e-4d5c-94f5-ef788cbb3bda"
      },
      "source": [
        "model2 = Sequential()\n",
        "model2.add(Embedding(vocab_en+2,300,input_length=maxi_fr))\n",
        "model2.add(GRU(64,return_sequences=True))\n",
        "model2.add(LSTM(64,return_sequences=True))\n",
        "model2.add(TimeDistributed(Dense(vocab_fr+2)))\n",
        "\n",
        "model2.compile(loss=sparse_categorical_crossentropy,optimizer='adam',metrics=['accuracy'])\n",
        "\n",
        "model2.summary()"
      ],
      "execution_count": 98,
      "outputs": [
        {
          "output_type": "stream",
          "text": [
            "Model: \"sequential_18\"\n",
            "_________________________________________________________________\n",
            "Layer (type)                 Output Shape              Param #   \n",
            "=================================================================\n",
            "embedding_17 (Embedding)     (None, 19, 300)           51600     \n",
            "_________________________________________________________________\n",
            "gru_16 (GRU)                 (None, 19, 64)            70080     \n",
            "_________________________________________________________________\n",
            "lstm_5 (LSTM)                (None, 19, 64)            33024     \n",
            "_________________________________________________________________\n",
            "time_distributed_8 (TimeDist (None, 19, 257)           16705     \n",
            "=================================================================\n",
            "Total params: 171,409\n",
            "Trainable params: 171,409\n",
            "Non-trainable params: 0\n",
            "_________________________________________________________________\n"
          ],
          "name": "stdout"
        }
      ]
    },
    {
      "cell_type": "code",
      "metadata": {
        "id": "lrohF-9uTyEk",
        "colab_type": "code",
        "colab": {
          "base_uri": "https://localhost:8080/",
          "height": 1000
        },
        "outputId": "1e4c42c3-2b28-4b0f-9876-5596a008a669"
      },
      "source": [
        "history1=model2.fit(x=en_pad,y=fr_pad,epochs=50,validation_split=0.2)"
      ],
      "execution_count": 99,
      "outputs": [
        {
          "output_type": "stream",
          "text": [
            "/usr/local/lib/python3.6/dist-packages/tensorflow/python/framework/indexed_slices.py:434: UserWarning: Converting sparse IndexedSlices to a dense Tensor of unknown shape. This may consume a large amount of memory.\n",
            "  \"Converting sparse IndexedSlices to a dense Tensor of unknown shape. \"\n"
          ],
          "name": "stderr"
        },
        {
          "output_type": "stream",
          "text": [
            "Train on 800 samples, validate on 200 samples\n",
            "Epoch 1/50\n",
            "800/800 [==============================] - 2s 2ms/step - loss: 5.2447 - accuracy: 0.3433 - val_loss: 4.2064 - val_accuracy: 0.4168\n",
            "Epoch 2/50\n",
            "800/800 [==============================] - 1s 1ms/step - loss: 3.7345 - accuracy: 0.4089 - val_loss: 3.6230 - val_accuracy: 0.4097\n",
            "Epoch 3/50\n",
            "800/800 [==============================] - 1s 1ms/step - loss: 3.4345 - accuracy: 0.4038 - val_loss: 3.7835 - val_accuracy: 0.3863\n",
            "Epoch 4/50\n",
            "800/800 [==============================] - 1s 1ms/step - loss: 3.6060 - accuracy: 0.3247 - val_loss: 3.6304 - val_accuracy: 0.3587\n",
            "Epoch 5/50\n",
            "800/800 [==============================] - 1s 1ms/step - loss: 3.2965 - accuracy: 0.3982 - val_loss: 3.3305 - val_accuracy: 0.4361\n",
            "Epoch 6/50\n",
            "800/800 [==============================] - 1s 1ms/step - loss: 3.0294 - accuracy: 0.4675 - val_loss: 3.0905 - val_accuracy: 0.4929\n",
            "Epoch 7/50\n",
            "800/800 [==============================] - 1s 1ms/step - loss: 2.8104 - accuracy: 0.4941 - val_loss: 2.9419 - val_accuracy: 0.4971\n",
            "Epoch 8/50\n",
            "800/800 [==============================] - 1s 1ms/step - loss: 2.7353 - accuracy: 0.5012 - val_loss: 2.8588 - val_accuracy: 0.5105\n",
            "Epoch 9/50\n",
            "800/800 [==============================] - 1s 1ms/step - loss: 2.6293 - accuracy: 0.5259 - val_loss: 2.9537 - val_accuracy: 0.5203\n",
            "Epoch 10/50\n",
            "800/800 [==============================] - 1s 1ms/step - loss: 3.4248 - accuracy: 0.4118 - val_loss: 3.6970 - val_accuracy: 0.3579\n",
            "Epoch 11/50\n",
            "800/800 [==============================] - 1s 1ms/step - loss: 3.2978 - accuracy: 0.3846 - val_loss: 3.3199 - val_accuracy: 0.4216\n",
            "Epoch 12/50\n",
            "800/800 [==============================] - 1s 1ms/step - loss: 2.9614 - accuracy: 0.4484 - val_loss: 2.9397 - val_accuracy: 0.4837\n",
            "Epoch 13/50\n",
            "800/800 [==============================] - 1s 1ms/step - loss: 2.6430 - accuracy: 0.5048 - val_loss: 2.7859 - val_accuracy: 0.4995\n",
            "Epoch 14/50\n",
            "800/800 [==============================] - 1s 1ms/step - loss: 2.6954 - accuracy: 0.5165 - val_loss: 3.0718 - val_accuracy: 0.4889\n",
            "Epoch 15/50\n",
            "800/800 [==============================] - 1s 1ms/step - loss: 3.0351 - accuracy: 0.4786 - val_loss: 3.0779 - val_accuracy: 0.4845\n",
            "Epoch 16/50\n",
            "800/800 [==============================] - 1s 1ms/step - loss: 4.1791 - accuracy: 0.2856 - val_loss: 4.5765 - val_accuracy: 0.3163\n",
            "Epoch 17/50\n",
            "800/800 [==============================] - 1s 1ms/step - loss: 4.1031 - accuracy: 0.3709 - val_loss: 3.8773 - val_accuracy: 0.4063\n",
            "Epoch 18/50\n",
            "800/800 [==============================] - 1s 1ms/step - loss: 3.4533 - accuracy: 0.4105 - val_loss: 3.4626 - val_accuracy: 0.4253\n",
            "Epoch 19/50\n",
            "800/800 [==============================] - 1s 1ms/step - loss: 3.1492 - accuracy: 0.4353 - val_loss: 3.1748 - val_accuracy: 0.4455\n",
            "Epoch 20/50\n",
            "800/800 [==============================] - 1s 1ms/step - loss: 2.8918 - accuracy: 0.4613 - val_loss: 3.0660 - val_accuracy: 0.4750\n",
            "Epoch 21/50\n",
            "800/800 [==============================] - 1s 1ms/step - loss: 3.0067 - accuracy: 0.4807 - val_loss: 3.1766 - val_accuracy: 0.4705\n",
            "Epoch 22/50\n",
            "800/800 [==============================] - 1s 1ms/step - loss: 3.0746 - accuracy: 0.4680 - val_loss: 3.9594 - val_accuracy: 0.4216\n",
            "Epoch 23/50\n",
            "800/800 [==============================] - 1s 1ms/step - loss: 3.4402 - accuracy: 0.4211 - val_loss: 3.2633 - val_accuracy: 0.4518\n",
            "Epoch 24/50\n",
            "800/800 [==============================] - 1s 1ms/step - loss: 2.8810 - accuracy: 0.4643 - val_loss: 2.9826 - val_accuracy: 0.4745\n",
            "Epoch 25/50\n",
            "800/800 [==============================] - 1s 1ms/step - loss: 2.7909 - accuracy: 0.4816 - val_loss: 2.9235 - val_accuracy: 0.4826\n",
            "Epoch 26/50\n",
            "800/800 [==============================] - 1s 1ms/step - loss: 2.6401 - accuracy: 0.5011 - val_loss: 2.9794 - val_accuracy: 0.4955\n",
            "Epoch 27/50\n",
            "800/800 [==============================] - 1s 1ms/step - loss: 3.4395 - accuracy: 0.4126 - val_loss: 3.6667 - val_accuracy: 0.3976\n",
            "Epoch 28/50\n",
            "800/800 [==============================] - 1s 1ms/step - loss: 3.3026 - accuracy: 0.4182 - val_loss: 3.2290 - val_accuracy: 0.4413\n",
            "Epoch 29/50\n",
            "800/800 [==============================] - 1s 1ms/step - loss: 2.9679 - accuracy: 0.4437 - val_loss: 3.0392 - val_accuracy: 0.4526\n",
            "Epoch 30/50\n",
            "800/800 [==============================] - 1s 1ms/step - loss: 2.8227 - accuracy: 0.4564 - val_loss: 2.9268 - val_accuracy: 0.4663\n",
            "Epoch 31/50\n",
            "800/800 [==============================] - 1s 1ms/step - loss: 2.7367 - accuracy: 0.4669 - val_loss: 2.8874 - val_accuracy: 0.4716\n",
            "Epoch 32/50\n",
            "800/800 [==============================] - 1s 1ms/step - loss: 2.6340 - accuracy: 0.4777 - val_loss: 2.7683 - val_accuracy: 0.4839\n",
            "Epoch 33/50\n",
            "800/800 [==============================] - 1s 1ms/step - loss: 2.5116 - accuracy: 0.4858 - val_loss: 2.6930 - val_accuracy: 0.4924\n",
            "Epoch 34/50\n",
            "800/800 [==============================] - 1s 1ms/step - loss: 2.4313 - accuracy: 0.4965 - val_loss: 2.5974 - val_accuracy: 0.4982\n",
            "Epoch 35/50\n",
            "800/800 [==============================] - 1s 1ms/step - loss: 2.3550 - accuracy: 0.5011 - val_loss: 2.5177 - val_accuracy: 0.5018\n",
            "Epoch 36/50\n",
            "800/800 [==============================] - 1s 1ms/step - loss: 2.3196 - accuracy: 0.5072 - val_loss: 2.5153 - val_accuracy: 0.5176\n",
            "Epoch 37/50\n",
            "800/800 [==============================] - 1s 1ms/step - loss: 2.2682 - accuracy: 0.5176 - val_loss: 2.5012 - val_accuracy: 0.5192\n",
            "Epoch 38/50\n",
            "800/800 [==============================] - 1s 1ms/step - loss: 2.3309 - accuracy: 0.5183 - val_loss: 2.5210 - val_accuracy: 0.5082\n",
            "Epoch 39/50\n",
            "800/800 [==============================] - 1s 1ms/step - loss: 2.3305 - accuracy: 0.5197 - val_loss: 2.4450 - val_accuracy: 0.5182\n",
            "Epoch 40/50\n",
            "800/800 [==============================] - 1s 1ms/step - loss: 2.2476 - accuracy: 0.5282 - val_loss: 2.4625 - val_accuracy: 0.5145\n",
            "Epoch 41/50\n",
            "800/800 [==============================] - 1s 1ms/step - loss: 2.2406 - accuracy: 0.5284 - val_loss: 2.4632 - val_accuracy: 0.5218\n",
            "Epoch 42/50\n",
            "800/800 [==============================] - 1s 1ms/step - loss: 2.5842 - accuracy: 0.4571 - val_loss: 2.8274 - val_accuracy: 0.4497\n",
            "Epoch 43/50\n",
            "800/800 [==============================] - 1s 1ms/step - loss: 2.4284 - accuracy: 0.4951 - val_loss: 2.5134 - val_accuracy: 0.5158\n",
            "Epoch 44/50\n",
            "800/800 [==============================] - 1s 1ms/step - loss: 2.3849 - accuracy: 0.5021 - val_loss: 2.5321 - val_accuracy: 0.4939\n",
            "Epoch 45/50\n",
            "800/800 [==============================] - 1s 1ms/step - loss: 2.3152 - accuracy: 0.5065 - val_loss: 2.4741 - val_accuracy: 0.5074\n",
            "Epoch 46/50\n",
            "800/800 [==============================] - 1s 1ms/step - loss: 2.2948 - accuracy: 0.5272 - val_loss: 2.4460 - val_accuracy: 0.5216\n",
            "Epoch 47/50\n",
            "800/800 [==============================] - 1s 1ms/step - loss: 2.2479 - accuracy: 0.5431 - val_loss: 2.4912 - val_accuracy: 0.5137\n",
            "Epoch 48/50\n",
            "800/800 [==============================] - 1s 1ms/step - loss: 2.5055 - accuracy: 0.5107 - val_loss: 3.8350 - val_accuracy: 0.2929\n",
            "Epoch 49/50\n",
            "800/800 [==============================] - 1s 1ms/step - loss: 3.6686 - accuracy: 0.2775 - val_loss: 3.5267 - val_accuracy: 0.4087\n",
            "Epoch 50/50\n",
            "800/800 [==============================] - 1s 1ms/step - loss: 3.2335 - accuracy: 0.4243 - val_loss: 3.2647 - val_accuracy: 0.4584\n"
          ],
          "name": "stdout"
        }
      ]
    },
    {
      "cell_type": "code",
      "metadata": {
        "id": "f3T1uWlnUu7T",
        "colab_type": "code",
        "colab": {
          "base_uri": "https://localhost:8080/",
          "height": 265
        },
        "outputId": "b67324aa-2d4e-4a69-9bda-c180826aa054"
      },
      "source": [
        "plt.plot(history1.history['loss'],color='r',label='Training Loss')\n",
        "plt.plot(history1.history['val_loss'],color='b',label='Validation Loss')\n",
        "plt.legend()\n",
        "plt.show()"
      ],
      "execution_count": 100,
      "outputs": [
        {
          "output_type": "display_data",
          "data": {
            "image/png": "[encoded data removed]",
            "text/plain": [
              "<Figure size 432x288 with 1 Axes>"
            ]
          },
          "metadata": {
            "tags": [],
            "needs_background": "light"
          }
        }
      ]
    },
    {
      "cell_type": "code",
      "metadata": {
        "id": "ocnYTXzzU9hC",
        "colab_type": "code",
        "colab": {
          "base_uri": "https://localhost:8080/",
          "height": 289
        },
        "outputId": "5ebb117c-6e7b-4654-e70a-d0eda39d320a"
      },
      "source": [
        "model3 = Sequential()\n",
        "model3.add(Embedding(vocab_en+2,300,input_length=maxi_fr))\n",
        "model3.add(Bidirectional(LSTM(64,return_sequences=True)))\n",
        "model3.add(LSTM(64,return_sequences=True))\n",
        "model3.add(Dense(vocab_fr+2))\n",
        "\n",
        "model3.compile(loss=sparse_categorical_crossentropy,optimizer='adam',metrics=['accuracy'])\n",
        "\n",
        "model3.summary()"
      ],
      "execution_count": 109,
      "outputs": [
        {
          "output_type": "stream",
          "text": [
            "Model: \"sequential_22\"\n",
            "_________________________________________________________________\n",
            "Layer (type)                 Output Shape              Param #   \n",
            "=================================================================\n",
            "embedding_21 (Embedding)     (None, 19, 300)           51600     \n",
            "_________________________________________________________________\n",
            "bidirectional_4 (Bidirection (None, 19, 128)           186880    \n",
            "_________________________________________________________________\n",
            "lstm_13 (LSTM)               (None, 19, 64)            49408     \n",
            "_________________________________________________________________\n",
            "dense_12 (Dense)             (None, 19, 257)           16705     \n",
            "=================================================================\n",
            "Total params: 304,593\n",
            "Trainable params: 304,593\n",
            "Non-trainable params: 0\n",
            "_________________________________________________________________\n"
          ],
          "name": "stdout"
        }
      ]
    },
    {
      "cell_type": "code",
      "metadata": {
        "id": "y8mbQi-nVJV8",
        "colab_type": "code",
        "colab": {
          "base_uri": "https://localhost:8080/",
          "height": 1000
        },
        "outputId": "f170ae90-3182-46e9-f376-04237098edf1"
      },
      "source": [
        "history2=model3.fit(x=en_pad,y=fr_pad,epochs=50,validation_split=0.2)"
      ],
      "execution_count": 110,
      "outputs": [
        {
          "output_type": "stream",
          "text": [
            "/usr/local/lib/python3.6/dist-packages/tensorflow/python/framework/indexed_slices.py:434: UserWarning: Converting sparse IndexedSlices to a dense Tensor of unknown shape. This may consume a large amount of memory.\n",
            "  \"Converting sparse IndexedSlices to a dense Tensor of unknown shape. \"\n"
          ],
          "name": "stderr"
        },
        {
          "output_type": "stream",
          "text": [
            "Train on 800 samples, validate on 200 samples\n",
            "Epoch 1/50\n",
            "800/800 [==============================] - 3s 4ms/step - loss: 5.5469 - accuracy: 0.3719 - val_loss: 4.5120 - val_accuracy: 0.4279\n",
            "Epoch 2/50\n",
            "800/800 [==============================] - 2s 2ms/step - loss: 4.1136 - accuracy: 0.4202 - val_loss: 3.8919 - val_accuracy: 0.4345\n",
            "Epoch 3/50\n",
            "800/800 [==============================] - 2s 2ms/step - loss: 3.6349 - accuracy: 0.4182 - val_loss: 3.5498 - val_accuracy: 0.4226\n",
            "Epoch 4/50\n",
            "800/800 [==============================] - 2s 2ms/step - loss: 3.3302 - accuracy: 0.4272 - val_loss: 3.2719 - val_accuracy: 0.4555\n",
            "Epoch 5/50\n",
            "800/800 [==============================] - 2s 2ms/step - loss: 3.2530 - accuracy: 0.4253 - val_loss: 3.3220 - val_accuracy: 0.4179\n",
            "Epoch 6/50\n",
            "800/800 [==============================] - 2s 2ms/step - loss: 3.0317 - accuracy: 0.4612 - val_loss: 2.9355 - val_accuracy: 0.4992\n",
            "Epoch 7/50\n",
            "800/800 [==============================] - 2s 2ms/step - loss: 3.4557 - accuracy: 0.4247 - val_loss: 3.4501 - val_accuracy: 0.4566\n",
            "Epoch 8/50\n",
            "800/800 [==============================] - 2s 2ms/step - loss: 3.2762 - accuracy: 0.4416 - val_loss: 3.8683 - val_accuracy: 0.3182\n",
            "Epoch 9/50\n",
            "800/800 [==============================] - 2s 2ms/step - loss: 3.5466 - accuracy: 0.3418 - val_loss: 3.1823 - val_accuracy: 0.4297\n",
            "Epoch 10/50\n",
            "800/800 [==============================] - 2s 2ms/step - loss: 3.5709 - accuracy: 0.3873 - val_loss: 3.5028 - val_accuracy: 0.4271\n",
            "Epoch 11/50\n",
            "800/800 [==============================] - 2s 2ms/step - loss: 3.0974 - accuracy: 0.4622 - val_loss: 2.9503 - val_accuracy: 0.4995\n",
            "Epoch 12/50\n",
            "800/800 [==============================] - 2s 2ms/step - loss: 2.8571 - accuracy: 0.4600 - val_loss: 2.7383 - val_accuracy: 0.5053\n",
            "Epoch 13/50\n",
            "800/800 [==============================] - 2s 2ms/step - loss: 2.7663 - accuracy: 0.4914 - val_loss: 2.8882 - val_accuracy: 0.5021\n",
            "Epoch 14/50\n",
            "800/800 [==============================] - 2s 2ms/step - loss: 3.2874 - accuracy: 0.4811 - val_loss: 4.0747 - val_accuracy: 0.4284\n",
            "Epoch 15/50\n",
            "800/800 [==============================] - 2s 2ms/step - loss: 3.7284 - accuracy: 0.4351 - val_loss: 3.5935 - val_accuracy: 0.4518\n",
            "Epoch 16/50\n",
            "800/800 [==============================] - 2s 2ms/step - loss: 3.6232 - accuracy: 0.4278 - val_loss: 3.9308 - val_accuracy: 0.3897\n",
            "Epoch 17/50\n",
            "800/800 [==============================] - 2s 2ms/step - loss: 3.6377 - accuracy: 0.4155 - val_loss: 3.5122 - val_accuracy: 0.4392\n",
            "Epoch 18/50\n",
            "800/800 [==============================] - 2s 2ms/step - loss: 3.3478 - accuracy: 0.4397 - val_loss: 3.3222 - val_accuracy: 0.4513\n",
            "Epoch 19/50\n",
            "800/800 [==============================] - 2s 2ms/step - loss: 3.1080 - accuracy: 0.4536 - val_loss: 3.0553 - val_accuracy: 0.4779\n",
            "Epoch 20/50\n",
            "800/800 [==============================] - 2s 2ms/step - loss: 2.8603 - accuracy: 0.4836 - val_loss: 2.9904 - val_accuracy: 0.4963\n",
            "Epoch 21/50\n",
            "800/800 [==============================] - 2s 2ms/step - loss: 2.9755 - accuracy: 0.4911 - val_loss: 3.0499 - val_accuracy: 0.4995\n",
            "Epoch 22/50\n",
            "800/800 [==============================] - 2s 2ms/step - loss: 2.8348 - accuracy: 0.5022 - val_loss: 3.0258 - val_accuracy: 0.4792\n",
            "Epoch 23/50\n",
            "800/800 [==============================] - 2s 2ms/step - loss: 2.7205 - accuracy: 0.4969 - val_loss: 2.7688 - val_accuracy: 0.5139\n",
            "Epoch 24/50\n",
            "800/800 [==============================] - 2s 2ms/step - loss: 2.5851 - accuracy: 0.5211 - val_loss: 2.7046 - val_accuracy: 0.5166\n",
            "Epoch 25/50\n",
            "800/800 [==============================] - 2s 2ms/step - loss: 2.5141 - accuracy: 0.5303 - val_loss: 2.6413 - val_accuracy: 0.5326\n",
            "Epoch 26/50\n",
            "800/800 [==============================] - 2s 2ms/step - loss: 2.5653 - accuracy: 0.5366 - val_loss: 2.7300 - val_accuracy: 0.5382\n",
            "Epoch 27/50\n",
            "800/800 [==============================] - 2s 2ms/step - loss: 2.8104 - accuracy: 0.5235 - val_loss: 2.9621 - val_accuracy: 0.5050\n",
            "Epoch 28/50\n",
            "800/800 [==============================] - 2s 2ms/step - loss: 2.6867 - accuracy: 0.5251 - val_loss: 2.8209 - val_accuracy: 0.5155\n",
            "Epoch 29/50\n",
            "800/800 [==============================] - 2s 2ms/step - loss: 3.2709 - accuracy: 0.4313 - val_loss: 3.0353 - val_accuracy: 0.4568\n",
            "Epoch 30/50\n",
            "800/800 [==============================] - 2s 2ms/step - loss: 2.8997 - accuracy: 0.4582 - val_loss: 2.9687 - val_accuracy: 0.4632\n",
            "Epoch 31/50\n",
            "800/800 [==============================] - 2s 2ms/step - loss: 3.0756 - accuracy: 0.4332 - val_loss: 3.1823 - val_accuracy: 0.4216\n",
            "Epoch 32/50\n",
            "800/800 [==============================] - 2s 2ms/step - loss: 3.6603 - accuracy: 0.4089 - val_loss: 3.4136 - val_accuracy: 0.4347\n",
            "Epoch 33/50\n",
            "800/800 [==============================] - 2s 2ms/step - loss: 3.0407 - accuracy: 0.4578 - val_loss: 3.0222 - val_accuracy: 0.4853\n",
            "Epoch 34/50\n",
            "800/800 [==============================] - 2s 2ms/step - loss: 3.0403 - accuracy: 0.4784 - val_loss: 3.9812 - val_accuracy: 0.3839\n",
            "Epoch 35/50\n",
            "800/800 [==============================] - 2s 2ms/step - loss: 3.6253 - accuracy: 0.3833 - val_loss: 3.3129 - val_accuracy: 0.4132\n",
            "Epoch 36/50\n",
            "800/800 [==============================] - 2s 2ms/step - loss: 3.0636 - accuracy: 0.4291 - val_loss: 3.0439 - val_accuracy: 0.4539\n",
            "Epoch 37/50\n",
            "800/800 [==============================] - 2s 2ms/step - loss: 2.9835 - accuracy: 0.4260 - val_loss: 3.2942 - val_accuracy: 0.3597\n",
            "Epoch 38/50\n",
            "800/800 [==============================] - 2s 2ms/step - loss: 2.9459 - accuracy: 0.4134 - val_loss: 2.9223 - val_accuracy: 0.4616\n",
            "Epoch 39/50\n",
            "800/800 [==============================] - 2s 2ms/step - loss: 2.7004 - accuracy: 0.4709 - val_loss: 2.8021 - val_accuracy: 0.4903\n",
            "Epoch 40/50\n",
            "800/800 [==============================] - 2s 2ms/step - loss: 2.6507 - accuracy: 0.4895 - val_loss: 2.8302 - val_accuracy: 0.4924\n",
            "Epoch 41/50\n",
            "800/800 [==============================] - 2s 2ms/step - loss: 2.6664 - accuracy: 0.5013 - val_loss: 2.8168 - val_accuracy: 0.5100\n",
            "Epoch 42/50\n",
            "800/800 [==============================] - 2s 2ms/step - loss: 2.8147 - accuracy: 0.5001 - val_loss: 3.1950 - val_accuracy: 0.4797\n",
            "Epoch 43/50\n",
            "800/800 [==============================] - 2s 2ms/step - loss: 3.0076 - accuracy: 0.4834 - val_loss: 3.2149 - val_accuracy: 0.4795\n",
            "Epoch 44/50\n",
            "800/800 [==============================] - 2s 2ms/step - loss: 3.0569 - accuracy: 0.4829 - val_loss: 3.3448 - val_accuracy: 0.4889\n",
            "Epoch 45/50\n",
            "800/800 [==============================] - 2s 2ms/step - loss: 3.4709 - accuracy: 0.4764 - val_loss: 3.5340 - val_accuracy: 0.4805\n",
            "Epoch 46/50\n",
            "800/800 [==============================] - 2s 2ms/step - loss: 3.3507 - accuracy: 0.4731 - val_loss: 3.2898 - val_accuracy: 0.4847\n",
            "Epoch 47/50\n",
            "800/800 [==============================] - 2s 2ms/step - loss: 3.2280 - accuracy: 0.4723 - val_loss: 3.3875 - val_accuracy: 0.4755\n",
            "Epoch 48/50\n",
            "800/800 [==============================] - 2s 2ms/step - loss: 3.8656 - accuracy: 0.3851 - val_loss: 4.3874 - val_accuracy: 0.2918\n",
            "Epoch 49/50\n",
            "800/800 [==============================] - 2s 2ms/step - loss: 4.5342 - accuracy: 0.2468 - val_loss: 4.3262 - val_accuracy: 0.2584\n",
            "Epoch 50/50\n",
            "800/800 [==============================] - 2s 2ms/step - loss: 4.3410 - accuracy: 0.2514 - val_loss: 4.0706 - val_accuracy: 0.2976\n"
          ],
          "name": "stdout"
        }
      ]
    },
    {
      "cell_type": "code",
      "metadata": {
        "id": "g4XI3i_vVgQ6",
        "colab_type": "code",
        "colab": {
          "base_uri": "https://localhost:8080/",
          "height": 265
        },
        "outputId": "9c0a02a8-28e5-47fc-ae23-4fadc25eb1e5"
      },
      "source": [
        "plt.plot(history2.history['loss'],color='r',label='Training Loss')\n",
        "plt.plot(history2.history['val_loss'],color='b',label='Validation Loss')\n",
        "plt.legend()\n",
        "plt.show()"
      ],
      "execution_count": 111,
      "outputs": [
        {
          "output_type": "display_data",
          "data": {
            "image/png": "[encoded data removed]",
            "text/plain": [
              "<Figure size 432x288 with 1 Axes>"
            ]
          },
          "metadata": {
            "tags": [],
            "needs_background": "light"
          }
        }
      ]
    },
    {
      "cell_type": "code",
      "metadata": {
        "id": "g7HnhqqAWD__",
        "colab_type": "code",
        "colab": {}
      },
      "source": [
        ""
      ],
      "execution_count": 0,
      "outputs": []
    },
    {
      "cell_type": "code",
      "metadata": {
        "id": "1lvbFhz33drn",
        "colab_type": "code",
        "colab": {}
      },
      "source": [
        "#English Preprocessing\n",
        "\n",
        "en_tlk = Tokenizer()\n",
        "en_tlk.fit_on_texts(english_sentences)\n",
        "entk = en_tlk.texts_to_sequences(english_sentences)\n",
        "en_pad = pad_sequences(entk, maxlen=len(max(entk,key=len)), padding='post')"
      ],
      "execution_count": 0,
      "outputs": []
    },
    {
      "cell_type": "code",
      "metadata": {
        "id": "KCJ9dqp15MB_",
        "colab_type": "code",
        "colab": {}
      },
      "source": [
        "#French Preprocessing\n",
        "\n",
        "fr_tlk = Tokenizer()\n",
        "fr_tlk.fit_on_texts(french_sentences)\n",
        "frtk=fr_tlk.texts_to_sequences(french_sentences)\n",
        "fr_pad = pad_sequences(frtk,maxlen=len(max(frtk,key=len)),padding='post')"
      ],
      "execution_count": 0,
      "outputs": []
    },
    {
      "cell_type": "code",
      "metadata": {
        "id": "C3heBin66e8U",
        "colab_type": "code",
        "outputId": "558728ad-87b9-451d-8232-c4032b1d29e9",
        "colab": {
          "base_uri": "https://localhost:8080/",
          "height": 164
        }
      },
      "source": [
        "fr_pad = fr_pad.reshape(*fr_pad.shape, 1)"
      ],
      "execution_count": 0,
      "outputs": [
        {
          "output_type": "error",
          "ename": "NameError",
          "evalue": "ignored",
          "traceback": [
            "\u001b[0;31m---------------------------------------------------------------------------\u001b[0m",
            "\u001b[0;31mNameError\u001b[0m                                 Traceback (most recent call last)",
            "\u001b[0;32m<ipython-input-10-e98fedc41c18>\u001b[0m in \u001b[0;36m<module>\u001b[0;34m()\u001b[0m\n\u001b[0;32m----> 1\u001b[0;31m \u001b[0mfr_pad\u001b[0m \u001b[0;34m=\u001b[0m \u001b[0mfr_pad\u001b[0m\u001b[0;34m.\u001b[0m\u001b[0mreshape\u001b[0m\u001b[0;34m(\u001b[0m\u001b[0;34m*\u001b[0m\u001b[0mfr_pad\u001b[0m\u001b[0;34m.\u001b[0m\u001b[0mshape\u001b[0m\u001b[0;34m,\u001b[0m \u001b[0;36m1\u001b[0m\u001b[0;34m)\u001b[0m\u001b[0;34m\u001b[0m\u001b[0;34m\u001b[0m\u001b[0m\n\u001b[0m",
            "\u001b[0;31mNameError\u001b[0m: name 'fr_pad' is not defined"
          ]
        }
      ]
    },
    {
      "cell_type": "code",
      "metadata": {
        "id": "qFKAhkGH6je0",
        "colab_type": "code",
        "colab": {}
      },
      "source": [
        "max_english_sequence_length = entk.shape[1]\n",
        "max_french_sequence_length = frtk.shape[1]\n",
        "english_vocab_size = len(entlk.word_index)\n",
        "french_vocab_size = len(frtlk.word_index)"
      ],
      "execution_count": 0,
      "outputs": []
    },
    {
      "cell_type": "code",
      "metadata": {
        "id": "arwPjzdG6stJ",
        "colab_type": "code",
        "colab": {}
      },
      "source": [
        "print(max_english_sequence_length)\n",
        "print(max_french_sequence_length)\n",
        "print(english_vocab_size)\n",
        "print(french_vocab_size)"
      ],
      "execution_count": 0,
      "outputs": []
    },
    {
      "cell_type": "code",
      "metadata": {
        "id": "2Tn67lY364An",
        "colab_type": "code",
        "colab": {}
      },
      "source": [
        ""
      ],
      "execution_count": 0,
      "outputs": []
    }
  ]
}